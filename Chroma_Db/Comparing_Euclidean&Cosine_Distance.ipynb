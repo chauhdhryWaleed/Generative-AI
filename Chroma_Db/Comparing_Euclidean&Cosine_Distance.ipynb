{
  "nbformat": 4,
  "nbformat_minor": 0,
  "metadata": {
    "colab": {
      "provenance": []
    },
    "kernelspec": {
      "name": "python3",
      "display_name": "Python 3"
    },
    "language_info": {
      "name": "python"
    }
  },
  "cells": [
    {
      "cell_type": "code",
      "execution_count": 1,
      "metadata": {
        "colab": {
          "base_uri": "https://localhost:8080/"
        },
        "id": "x4_kyBmG4k57",
        "outputId": "26d0e50a-2f2c-4480-aafa-d27f8ee0bb33"
      },
      "outputs": [
        {
          "output_type": "stream",
          "name": "stdout",
          "text": [
            "Collecting chromadb\n",
            "  Downloading chromadb-0.5.3-py3-none-any.whl (559 kB)\n",
            "\u001b[2K     \u001b[90m━━━━━━━━━━━━━━━━━━━━━━━━━━━━━━━━━━━━━━━━\u001b[0m \u001b[32m559.5/559.5 kB\u001b[0m \u001b[31m5.1 MB/s\u001b[0m eta \u001b[36m0:00:00\u001b[0m\n",
            "\u001b[?25hRequirement already satisfied: build>=1.0.3 in /usr/local/lib/python3.10/dist-packages (from chromadb) (1.2.1)\n",
            "Requirement already satisfied: requests>=2.28 in /usr/local/lib/python3.10/dist-packages (from chromadb) (2.31.0)\n",
            "Requirement already satisfied: pydantic>=1.9 in /usr/local/lib/python3.10/dist-packages (from chromadb) (2.8.0)\n",
            "Collecting chroma-hnswlib==0.7.3 (from chromadb)\n",
            "  Downloading chroma_hnswlib-0.7.3-cp310-cp310-manylinux_2_17_x86_64.manylinux2014_x86_64.whl (2.4 MB)\n",
            "\u001b[2K     \u001b[90m━━━━━━━━━━━━━━━━━━━━━━━━━━━━━━━━━━━━━━━━\u001b[0m \u001b[32m2.4/2.4 MB\u001b[0m \u001b[31m12.6 MB/s\u001b[0m eta \u001b[36m0:00:00\u001b[0m\n",
            "\u001b[?25hCollecting fastapi>=0.95.2 (from chromadb)\n",
            "  Downloading fastapi-0.111.0-py3-none-any.whl (91 kB)\n",
            "\u001b[2K     \u001b[90m━━━━━━━━━━━━━━━━━━━━━━━━━━━━━━━━━━━━━━━━\u001b[0m \u001b[32m92.0/92.0 kB\u001b[0m \u001b[31m3.7 MB/s\u001b[0m eta \u001b[36m0:00:00\u001b[0m\n",
            "\u001b[?25hCollecting uvicorn[standard]>=0.18.3 (from chromadb)\n",
            "  Downloading uvicorn-0.30.1-py3-none-any.whl (62 kB)\n",
            "\u001b[2K     \u001b[90m━━━━━━━━━━━━━━━━━━━━━━━━━━━━━━━━━━━━━━━━\u001b[0m \u001b[32m62.4/62.4 kB\u001b[0m \u001b[31m3.5 MB/s\u001b[0m eta \u001b[36m0:00:00\u001b[0m\n",
            "\u001b[?25hRequirement already satisfied: numpy<2.0.0,>=1.22.5 in /usr/local/lib/python3.10/dist-packages (from chromadb) (1.25.2)\n",
            "Collecting posthog>=2.4.0 (from chromadb)\n",
            "  Downloading posthog-3.5.0-py2.py3-none-any.whl (41 kB)\n",
            "\u001b[2K     \u001b[90m━━━━━━━━━━━━━━━━━━━━━━━━━━━━━━━━━━━━━━━━\u001b[0m \u001b[32m41.3/41.3 kB\u001b[0m \u001b[31m3.2 MB/s\u001b[0m eta \u001b[36m0:00:00\u001b[0m\n",
            "\u001b[?25hRequirement already satisfied: typing-extensions>=4.5.0 in /usr/local/lib/python3.10/dist-packages (from chromadb) (4.12.2)\n",
            "Collecting onnxruntime>=1.14.1 (from chromadb)\n",
            "  Downloading onnxruntime-1.18.1-cp310-cp310-manylinux_2_27_x86_64.manylinux_2_28_x86_64.whl (6.8 MB)\n",
            "\u001b[2K     \u001b[90m━━━━━━━━━━━━━━━━━━━━━━━━━━━━━━━━━━━━━━━━\u001b[0m \u001b[32m6.8/6.8 MB\u001b[0m \u001b[31m14.5 MB/s\u001b[0m eta \u001b[36m0:00:00\u001b[0m\n",
            "\u001b[?25hCollecting opentelemetry-api>=1.2.0 (from chromadb)\n",
            "  Downloading opentelemetry_api-1.25.0-py3-none-any.whl (59 kB)\n",
            "\u001b[2K     \u001b[90m━━━━━━━━━━━━━━━━━━━━━━━━━━━━━━━━━━━━━━━━\u001b[0m \u001b[32m59.9/59.9 kB\u001b[0m \u001b[31m2.6 MB/s\u001b[0m eta \u001b[36m0:00:00\u001b[0m\n",
            "\u001b[?25hCollecting opentelemetry-exporter-otlp-proto-grpc>=1.2.0 (from chromadb)\n",
            "  Downloading opentelemetry_exporter_otlp_proto_grpc-1.25.0-py3-none-any.whl (18 kB)\n",
            "Collecting opentelemetry-instrumentation-fastapi>=0.41b0 (from chromadb)\n",
            "  Downloading opentelemetry_instrumentation_fastapi-0.46b0-py3-none-any.whl (11 kB)\n",
            "Collecting opentelemetry-sdk>=1.2.0 (from chromadb)\n",
            "  Downloading opentelemetry_sdk-1.25.0-py3-none-any.whl (107 kB)\n",
            "\u001b[2K     \u001b[90m━━━━━━━━━━━━━━━━━━━━━━━━━━━━━━━━━━━━━━━━\u001b[0m \u001b[32m107.0/107.0 kB\u001b[0m \u001b[31m8.0 MB/s\u001b[0m eta \u001b[36m0:00:00\u001b[0m\n",
            "\u001b[?25hRequirement already satisfied: tokenizers>=0.13.2 in /usr/local/lib/python3.10/dist-packages (from chromadb) (0.19.1)\n",
            "Collecting pypika>=0.48.9 (from chromadb)\n",
            "  Downloading PyPika-0.48.9.tar.gz (67 kB)\n",
            "\u001b[2K     \u001b[90m━━━━━━━━━━━━━━━━━━━━━━━━━━━━━━━━━━━━━━━━\u001b[0m \u001b[32m67.3/67.3 kB\u001b[0m \u001b[31m2.0 MB/s\u001b[0m eta \u001b[36m0:00:00\u001b[0m\n",
            "\u001b[?25h  Installing build dependencies ... \u001b[?25l\u001b[?25hdone\n",
            "  Getting requirements to build wheel ... \u001b[?25l\u001b[?25hdone\n",
            "  Preparing metadata (pyproject.toml) ... \u001b[?25l\u001b[?25hdone\n",
            "Requirement already satisfied: tqdm>=4.65.0 in /usr/local/lib/python3.10/dist-packages (from chromadb) (4.66.4)\n",
            "Collecting overrides>=7.3.1 (from chromadb)\n",
            "  Downloading overrides-7.7.0-py3-none-any.whl (17 kB)\n",
            "Requirement already satisfied: importlib-resources in /usr/local/lib/python3.10/dist-packages (from chromadb) (6.4.0)\n",
            "Requirement already satisfied: grpcio>=1.58.0 in /usr/local/lib/python3.10/dist-packages (from chromadb) (1.64.1)\n",
            "Collecting bcrypt>=4.0.1 (from chromadb)\n",
            "  Downloading bcrypt-4.1.3-cp39-abi3-manylinux_2_28_x86_64.whl (283 kB)\n",
            "\u001b[2K     \u001b[90m━━━━━━━━━━━━━━━━━━━━━━━━━━━━━━━━━━━━━━━━\u001b[0m \u001b[32m283.7/283.7 kB\u001b[0m \u001b[31m20.6 MB/s\u001b[0m eta \u001b[36m0:00:00\u001b[0m\n",
            "\u001b[?25hRequirement already satisfied: typer>=0.9.0 in /usr/local/lib/python3.10/dist-packages (from chromadb) (0.12.3)\n",
            "Collecting kubernetes>=28.1.0 (from chromadb)\n",
            "  Downloading kubernetes-30.1.0-py2.py3-none-any.whl (1.7 MB)\n",
            "\u001b[2K     \u001b[90m━━━━━━━━━━━━━━━━━━━━━━━━━━━━━━━━━━━━━━━━\u001b[0m \u001b[32m1.7/1.7 MB\u001b[0m \u001b[31m31.6 MB/s\u001b[0m eta \u001b[36m0:00:00\u001b[0m\n",
            "\u001b[?25hRequirement already satisfied: tenacity>=8.2.3 in /usr/local/lib/python3.10/dist-packages (from chromadb) (8.4.2)\n",
            "Requirement already satisfied: PyYAML>=6.0.0 in /usr/local/lib/python3.10/dist-packages (from chromadb) (6.0.1)\n",
            "Collecting mmh3>=4.0.1 (from chromadb)\n",
            "  Downloading mmh3-4.1.0-cp310-cp310-manylinux_2_5_x86_64.manylinux1_x86_64.manylinux_2_17_x86_64.manylinux2014_x86_64.whl (67 kB)\n",
            "\u001b[2K     \u001b[90m━━━━━━━━━━━━━━━━━━━━━━━━━━━━━━━━━━━━━━━━\u001b[0m \u001b[32m67.6/67.6 kB\u001b[0m \u001b[31m5.3 MB/s\u001b[0m eta \u001b[36m0:00:00\u001b[0m\n",
            "\u001b[?25hCollecting orjson>=3.9.12 (from chromadb)\n",
            "  Downloading orjson-3.10.6-cp310-cp310-manylinux_2_17_x86_64.manylinux2014_x86_64.whl (141 kB)\n",
            "\u001b[2K     \u001b[90m━━━━━━━━━━━━━━━━━━━━━━━━━━━━━━━━━━━━━━━━\u001b[0m \u001b[32m141.1/141.1 kB\u001b[0m \u001b[31m3.2 MB/s\u001b[0m eta \u001b[36m0:00:00\u001b[0m\n",
            "\u001b[?25hCollecting httpx>=0.27.0 (from chromadb)\n",
            "  Downloading httpx-0.27.0-py3-none-any.whl (75 kB)\n",
            "\u001b[2K     \u001b[90m━━━━━━━━━━━━━━━━━━━━━━━━━━━━━━━━━━━━━━━━\u001b[0m \u001b[32m75.6/75.6 kB\u001b[0m \u001b[31m6.4 MB/s\u001b[0m eta \u001b[36m0:00:00\u001b[0m\n",
            "\u001b[?25hRequirement already satisfied: packaging>=19.1 in /usr/local/lib/python3.10/dist-packages (from build>=1.0.3->chromadb) (24.1)\n",
            "Requirement already satisfied: pyproject_hooks in /usr/local/lib/python3.10/dist-packages (from build>=1.0.3->chromadb) (1.1.0)\n",
            "Requirement already satisfied: tomli>=1.1.0 in /usr/local/lib/python3.10/dist-packages (from build>=1.0.3->chromadb) (2.0.1)\n",
            "Collecting starlette<0.38.0,>=0.37.2 (from fastapi>=0.95.2->chromadb)\n",
            "  Downloading starlette-0.37.2-py3-none-any.whl (71 kB)\n",
            "\u001b[2K     \u001b[90m━━━━━━━━━━━━━━━━━━━━━━━━━━━━━━━━━━━━━━━━\u001b[0m \u001b[32m71.9/71.9 kB\u001b[0m \u001b[31m8.6 MB/s\u001b[0m eta \u001b[36m0:00:00\u001b[0m\n",
            "\u001b[?25hCollecting fastapi-cli>=0.0.2 (from fastapi>=0.95.2->chromadb)\n",
            "  Downloading fastapi_cli-0.0.4-py3-none-any.whl (9.5 kB)\n",
            "Requirement already satisfied: jinja2>=2.11.2 in /usr/local/lib/python3.10/dist-packages (from fastapi>=0.95.2->chromadb) (3.1.4)\n",
            "Collecting python-multipart>=0.0.7 (from fastapi>=0.95.2->chromadb)\n",
            "  Downloading python_multipart-0.0.9-py3-none-any.whl (22 kB)\n",
            "Collecting ujson!=4.0.2,!=4.1.0,!=4.2.0,!=4.3.0,!=5.0.0,!=5.1.0,>=4.0.1 (from fastapi>=0.95.2->chromadb)\n",
            "  Downloading ujson-5.10.0-cp310-cp310-manylinux_2_17_x86_64.manylinux2014_x86_64.whl (53 kB)\n",
            "\u001b[2K     \u001b[90m━━━━━━━━━━━━━━━━━━━━━━━━━━━━━━━━━━━━━━━━\u001b[0m \u001b[32m53.6/53.6 kB\u001b[0m \u001b[31m6.3 MB/s\u001b[0m eta \u001b[36m0:00:00\u001b[0m\n",
            "\u001b[?25hCollecting email_validator>=2.0.0 (from fastapi>=0.95.2->chromadb)\n",
            "  Downloading email_validator-2.2.0-py3-none-any.whl (33 kB)\n",
            "Requirement already satisfied: anyio in /usr/local/lib/python3.10/dist-packages (from httpx>=0.27.0->chromadb) (3.7.1)\n",
            "Requirement already satisfied: certifi in /usr/local/lib/python3.10/dist-packages (from httpx>=0.27.0->chromadb) (2024.6.2)\n",
            "Collecting httpcore==1.* (from httpx>=0.27.0->chromadb)\n",
            "  Downloading httpcore-1.0.5-py3-none-any.whl (77 kB)\n",
            "\u001b[2K     \u001b[90m━━━━━━━━━━━━━━━━━━━━━━━━━━━━━━━━━━━━━━━━\u001b[0m \u001b[32m77.9/77.9 kB\u001b[0m \u001b[31m9.7 MB/s\u001b[0m eta \u001b[36m0:00:00\u001b[0m\n",
            "\u001b[?25hRequirement already satisfied: idna in /usr/local/lib/python3.10/dist-packages (from httpx>=0.27.0->chromadb) (3.7)\n",
            "Requirement already satisfied: sniffio in /usr/local/lib/python3.10/dist-packages (from httpx>=0.27.0->chromadb) (1.3.1)\n",
            "Collecting h11<0.15,>=0.13 (from httpcore==1.*->httpx>=0.27.0->chromadb)\n",
            "  Downloading h11-0.14.0-py3-none-any.whl (58 kB)\n",
            "\u001b[2K     \u001b[90m━━━━━━━━━━━━━━━━━━━━━━━━━━━━━━━━━━━━━━━━\u001b[0m \u001b[32m58.3/58.3 kB\u001b[0m \u001b[31m7.4 MB/s\u001b[0m eta \u001b[36m0:00:00\u001b[0m\n",
            "\u001b[?25hRequirement already satisfied: six>=1.9.0 in /usr/local/lib/python3.10/dist-packages (from kubernetes>=28.1.0->chromadb) (1.16.0)\n",
            "Requirement already satisfied: python-dateutil>=2.5.3 in /usr/local/lib/python3.10/dist-packages (from kubernetes>=28.1.0->chromadb) (2.8.2)\n",
            "Requirement already satisfied: google-auth>=1.0.1 in /usr/local/lib/python3.10/dist-packages (from kubernetes>=28.1.0->chromadb) (2.27.0)\n",
            "Requirement already satisfied: websocket-client!=0.40.0,!=0.41.*,!=0.42.*,>=0.32.0 in /usr/local/lib/python3.10/dist-packages (from kubernetes>=28.1.0->chromadb) (1.8.0)\n",
            "Requirement already satisfied: requests-oauthlib in /usr/local/lib/python3.10/dist-packages (from kubernetes>=28.1.0->chromadb) (1.3.1)\n",
            "Requirement already satisfied: oauthlib>=3.2.2 in /usr/local/lib/python3.10/dist-packages (from kubernetes>=28.1.0->chromadb) (3.2.2)\n",
            "Requirement already satisfied: urllib3>=1.24.2 in /usr/local/lib/python3.10/dist-packages (from kubernetes>=28.1.0->chromadb) (2.0.7)\n",
            "Collecting coloredlogs (from onnxruntime>=1.14.1->chromadb)\n",
            "  Downloading coloredlogs-15.0.1-py2.py3-none-any.whl (46 kB)\n",
            "\u001b[2K     \u001b[90m━━━━━━━━━━━━━━━━━━━━━━━━━━━━━━━━━━━━━━━━\u001b[0m \u001b[32m46.0/46.0 kB\u001b[0m \u001b[31m5.3 MB/s\u001b[0m eta \u001b[36m0:00:00\u001b[0m\n",
            "\u001b[?25hRequirement already satisfied: flatbuffers in /usr/local/lib/python3.10/dist-packages (from onnxruntime>=1.14.1->chromadb) (24.3.25)\n",
            "Requirement already satisfied: protobuf in /usr/local/lib/python3.10/dist-packages (from onnxruntime>=1.14.1->chromadb) (3.20.3)\n",
            "Requirement already satisfied: sympy in /usr/local/lib/python3.10/dist-packages (from onnxruntime>=1.14.1->chromadb) (1.12.1)\n",
            "Collecting deprecated>=1.2.6 (from opentelemetry-api>=1.2.0->chromadb)\n",
            "  Downloading Deprecated-1.2.14-py2.py3-none-any.whl (9.6 kB)\n",
            "Collecting importlib-metadata<=7.1,>=6.0 (from opentelemetry-api>=1.2.0->chromadb)\n",
            "  Downloading importlib_metadata-7.1.0-py3-none-any.whl (24 kB)\n",
            "Requirement already satisfied: googleapis-common-protos~=1.52 in /usr/local/lib/python3.10/dist-packages (from opentelemetry-exporter-otlp-proto-grpc>=1.2.0->chromadb) (1.63.2)\n",
            "Collecting opentelemetry-exporter-otlp-proto-common==1.25.0 (from opentelemetry-exporter-otlp-proto-grpc>=1.2.0->chromadb)\n",
            "  Downloading opentelemetry_exporter_otlp_proto_common-1.25.0-py3-none-any.whl (17 kB)\n",
            "Collecting opentelemetry-proto==1.25.0 (from opentelemetry-exporter-otlp-proto-grpc>=1.2.0->chromadb)\n",
            "  Downloading opentelemetry_proto-1.25.0-py3-none-any.whl (52 kB)\n",
            "\u001b[2K     \u001b[90m━━━━━━━━━━━━━━━━━━━━━━━━━━━━━━━━━━━━━━━━\u001b[0m \u001b[32m52.5/52.5 kB\u001b[0m \u001b[31m6.3 MB/s\u001b[0m eta \u001b[36m0:00:00\u001b[0m\n",
            "\u001b[?25hCollecting opentelemetry-instrumentation-asgi==0.46b0 (from opentelemetry-instrumentation-fastapi>=0.41b0->chromadb)\n",
            "  Downloading opentelemetry_instrumentation_asgi-0.46b0-py3-none-any.whl (14 kB)\n",
            "Collecting opentelemetry-instrumentation==0.46b0 (from opentelemetry-instrumentation-fastapi>=0.41b0->chromadb)\n",
            "  Downloading opentelemetry_instrumentation-0.46b0-py3-none-any.whl (29 kB)\n",
            "Collecting opentelemetry-semantic-conventions==0.46b0 (from opentelemetry-instrumentation-fastapi>=0.41b0->chromadb)\n",
            "  Downloading opentelemetry_semantic_conventions-0.46b0-py3-none-any.whl (130 kB)\n",
            "\u001b[2K     \u001b[90m━━━━━━━━━━━━━━━━━━━━━━━━━━━━━━━━━━━━━━━━\u001b[0m \u001b[32m130.5/130.5 kB\u001b[0m \u001b[31m15.9 MB/s\u001b[0m eta \u001b[36m0:00:00\u001b[0m\n",
            "\u001b[?25hCollecting opentelemetry-util-http==0.46b0 (from opentelemetry-instrumentation-fastapi>=0.41b0->chromadb)\n",
            "  Downloading opentelemetry_util_http-0.46b0-py3-none-any.whl (6.9 kB)\n",
            "Requirement already satisfied: setuptools>=16.0 in /usr/local/lib/python3.10/dist-packages (from opentelemetry-instrumentation==0.46b0->opentelemetry-instrumentation-fastapi>=0.41b0->chromadb) (67.7.2)\n",
            "Requirement already satisfied: wrapt<2.0.0,>=1.0.0 in /usr/local/lib/python3.10/dist-packages (from opentelemetry-instrumentation==0.46b0->opentelemetry-instrumentation-fastapi>=0.41b0->chromadb) (1.14.1)\n",
            "Collecting asgiref~=3.0 (from opentelemetry-instrumentation-asgi==0.46b0->opentelemetry-instrumentation-fastapi>=0.41b0->chromadb)\n",
            "  Downloading asgiref-3.8.1-py3-none-any.whl (23 kB)\n",
            "Collecting monotonic>=1.5 (from posthog>=2.4.0->chromadb)\n",
            "  Downloading monotonic-1.6-py2.py3-none-any.whl (8.2 kB)\n",
            "Collecting backoff>=1.10.0 (from posthog>=2.4.0->chromadb)\n",
            "  Downloading backoff-2.2.1-py3-none-any.whl (15 kB)\n",
            "Requirement already satisfied: annotated-types>=0.4.0 in /usr/local/lib/python3.10/dist-packages (from pydantic>=1.9->chromadb) (0.7.0)\n",
            "Requirement already satisfied: pydantic-core==2.20.0 in /usr/local/lib/python3.10/dist-packages (from pydantic>=1.9->chromadb) (2.20.0)\n",
            "Requirement already satisfied: charset-normalizer<4,>=2 in /usr/local/lib/python3.10/dist-packages (from requests>=2.28->chromadb) (3.3.2)\n",
            "Requirement already satisfied: huggingface-hub<1.0,>=0.16.4 in /usr/local/lib/python3.10/dist-packages (from tokenizers>=0.13.2->chromadb) (0.23.4)\n",
            "Requirement already satisfied: click>=8.0.0 in /usr/local/lib/python3.10/dist-packages (from typer>=0.9.0->chromadb) (8.1.7)\n",
            "Requirement already satisfied: shellingham>=1.3.0 in /usr/local/lib/python3.10/dist-packages (from typer>=0.9.0->chromadb) (1.5.4)\n",
            "Requirement already satisfied: rich>=10.11.0 in /usr/local/lib/python3.10/dist-packages (from typer>=0.9.0->chromadb) (13.7.1)\n",
            "Collecting httptools>=0.5.0 (from uvicorn[standard]>=0.18.3->chromadb)\n",
            "  Downloading httptools-0.6.1-cp310-cp310-manylinux_2_5_x86_64.manylinux1_x86_64.manylinux_2_17_x86_64.manylinux2014_x86_64.whl (341 kB)\n",
            "\u001b[2K     \u001b[90m━━━━━━━━━━━━━━━━━━━━━━━━━━━━━━━━━━━━━━━━\u001b[0m \u001b[32m341.4/341.4 kB\u001b[0m \u001b[31m33.8 MB/s\u001b[0m eta \u001b[36m0:00:00\u001b[0m\n",
            "\u001b[?25hCollecting python-dotenv>=0.13 (from uvicorn[standard]>=0.18.3->chromadb)\n",
            "  Downloading python_dotenv-1.0.1-py3-none-any.whl (19 kB)\n",
            "Collecting uvloop!=0.15.0,!=0.15.1,>=0.14.0 (from uvicorn[standard]>=0.18.3->chromadb)\n",
            "  Downloading uvloop-0.19.0-cp310-cp310-manylinux_2_17_x86_64.manylinux2014_x86_64.whl (3.4 MB)\n",
            "\u001b[2K     \u001b[90m━━━━━━━━━━━━━━━━━━━━━━━━━━━━━━━━━━━━━━━━\u001b[0m \u001b[32m3.4/3.4 MB\u001b[0m \u001b[31m41.9 MB/s\u001b[0m eta \u001b[36m0:00:00\u001b[0m\n",
            "\u001b[?25hCollecting watchfiles>=0.13 (from uvicorn[standard]>=0.18.3->chromadb)\n",
            "  Downloading watchfiles-0.22.0-cp310-cp310-manylinux_2_17_x86_64.manylinux2014_x86_64.whl (1.2 MB)\n",
            "\u001b[2K     \u001b[90m━━━━━━━━━━━━━━━━━━━━━━━━━━━━━━━━━━━━━━━━\u001b[0m \u001b[32m1.2/1.2 MB\u001b[0m \u001b[31m41.8 MB/s\u001b[0m eta \u001b[36m0:00:00\u001b[0m\n",
            "\u001b[?25hCollecting websockets>=10.4 (from uvicorn[standard]>=0.18.3->chromadb)\n",
            "  Downloading websockets-12.0-cp310-cp310-manylinux_2_5_x86_64.manylinux1_x86_64.manylinux_2_17_x86_64.manylinux2014_x86_64.whl (130 kB)\n",
            "\u001b[2K     \u001b[90m━━━━━━━━━━━━━━━━━━━━━━━━━━━━━━━━━━━━━━━━\u001b[0m \u001b[32m130.2/130.2 kB\u001b[0m \u001b[31m14.6 MB/s\u001b[0m eta \u001b[36m0:00:00\u001b[0m\n",
            "\u001b[?25hCollecting dnspython>=2.0.0 (from email_validator>=2.0.0->fastapi>=0.95.2->chromadb)\n",
            "  Downloading dnspython-2.6.1-py3-none-any.whl (307 kB)\n",
            "\u001b[2K     \u001b[90m━━━━━━━━━━━━━━━━━━━━━━━━━━━━━━━━━━━━━━━━\u001b[0m \u001b[32m307.7/307.7 kB\u001b[0m \u001b[31m24.6 MB/s\u001b[0m eta \u001b[36m0:00:00\u001b[0m\n",
            "\u001b[?25hRequirement already satisfied: cachetools<6.0,>=2.0.0 in /usr/local/lib/python3.10/dist-packages (from google-auth>=1.0.1->kubernetes>=28.1.0->chromadb) (5.3.3)\n",
            "Requirement already satisfied: pyasn1-modules>=0.2.1 in /usr/local/lib/python3.10/dist-packages (from google-auth>=1.0.1->kubernetes>=28.1.0->chromadb) (0.4.0)\n",
            "Requirement already satisfied: rsa<5,>=3.1.4 in /usr/local/lib/python3.10/dist-packages (from google-auth>=1.0.1->kubernetes>=28.1.0->chromadb) (4.9)\n",
            "Requirement already satisfied: filelock in /usr/local/lib/python3.10/dist-packages (from huggingface-hub<1.0,>=0.16.4->tokenizers>=0.13.2->chromadb) (3.15.4)\n",
            "Requirement already satisfied: fsspec>=2023.5.0 in /usr/local/lib/python3.10/dist-packages (from huggingface-hub<1.0,>=0.16.4->tokenizers>=0.13.2->chromadb) (2023.6.0)\n",
            "Requirement already satisfied: zipp>=0.5 in /usr/local/lib/python3.10/dist-packages (from importlib-metadata<=7.1,>=6.0->opentelemetry-api>=1.2.0->chromadb) (3.19.2)\n",
            "Requirement already satisfied: MarkupSafe>=2.0 in /usr/local/lib/python3.10/dist-packages (from jinja2>=2.11.2->fastapi>=0.95.2->chromadb) (2.1.5)\n",
            "Requirement already satisfied: markdown-it-py>=2.2.0 in /usr/local/lib/python3.10/dist-packages (from rich>=10.11.0->typer>=0.9.0->chromadb) (3.0.0)\n",
            "Requirement already satisfied: pygments<3.0.0,>=2.13.0 in /usr/local/lib/python3.10/dist-packages (from rich>=10.11.0->typer>=0.9.0->chromadb) (2.16.1)\n",
            "Requirement already satisfied: exceptiongroup in /usr/local/lib/python3.10/dist-packages (from anyio->httpx>=0.27.0->chromadb) (1.2.1)\n",
            "Collecting humanfriendly>=9.1 (from coloredlogs->onnxruntime>=1.14.1->chromadb)\n",
            "  Downloading humanfriendly-10.0-py2.py3-none-any.whl (86 kB)\n",
            "\u001b[2K     \u001b[90m━━━━━━━━━━━━━━━━━━━━━━━━━━━━━━━━━━━━━━━━\u001b[0m \u001b[32m86.8/86.8 kB\u001b[0m \u001b[31m9.6 MB/s\u001b[0m eta \u001b[36m0:00:00\u001b[0m\n",
            "\u001b[?25hRequirement already satisfied: mpmath<1.4.0,>=1.1.0 in /usr/local/lib/python3.10/dist-packages (from sympy->onnxruntime>=1.14.1->chromadb) (1.3.0)\n",
            "Requirement already satisfied: mdurl~=0.1 in /usr/local/lib/python3.10/dist-packages (from markdown-it-py>=2.2.0->rich>=10.11.0->typer>=0.9.0->chromadb) (0.1.2)\n",
            "Requirement already satisfied: pyasn1<0.7.0,>=0.4.6 in /usr/local/lib/python3.10/dist-packages (from pyasn1-modules>=0.2.1->google-auth>=1.0.1->kubernetes>=28.1.0->chromadb) (0.6.0)\n",
            "Building wheels for collected packages: pypika\n",
            "  Building wheel for pypika (pyproject.toml) ... \u001b[?25l\u001b[?25hdone\n",
            "  Created wheel for pypika: filename=PyPika-0.48.9-py2.py3-none-any.whl size=53724 sha256=7a24fe3b8b5e67440a6de79dfefb6c5af0f768dfef0cbea3484d1100fd67dce2\n",
            "  Stored in directory: /root/.cache/pip/wheels/e1/26/51/d0bffb3d2fd82256676d7ad3003faea3bd6dddc9577af665f4\n",
            "Successfully built pypika\n",
            "Installing collected packages: pypika, monotonic, mmh3, websockets, uvloop, ujson, python-multipart, python-dotenv, overrides, orjson, opentelemetry-util-http, opentelemetry-proto, importlib-metadata, humanfriendly, httptools, h11, dnspython, deprecated, chroma-hnswlib, bcrypt, backoff, asgiref, watchfiles, uvicorn, starlette, posthog, opentelemetry-exporter-otlp-proto-common, opentelemetry-api, httpcore, email_validator, coloredlogs, opentelemetry-semantic-conventions, opentelemetry-instrumentation, onnxruntime, kubernetes, httpx, opentelemetry-sdk, opentelemetry-instrumentation-asgi, fastapi-cli, opentelemetry-instrumentation-fastapi, opentelemetry-exporter-otlp-proto-grpc, fastapi, chromadb\n",
            "  Attempting uninstall: importlib-metadata\n",
            "    Found existing installation: importlib_metadata 8.0.0\n",
            "    Uninstalling importlib_metadata-8.0.0:\n",
            "      Successfully uninstalled importlib_metadata-8.0.0\n",
            "Successfully installed asgiref-3.8.1 backoff-2.2.1 bcrypt-4.1.3 chroma-hnswlib-0.7.3 chromadb-0.5.3 coloredlogs-15.0.1 deprecated-1.2.14 dnspython-2.6.1 email_validator-2.2.0 fastapi-0.111.0 fastapi-cli-0.0.4 h11-0.14.0 httpcore-1.0.5 httptools-0.6.1 httpx-0.27.0 humanfriendly-10.0 importlib-metadata-7.1.0 kubernetes-30.1.0 mmh3-4.1.0 monotonic-1.6 onnxruntime-1.18.1 opentelemetry-api-1.25.0 opentelemetry-exporter-otlp-proto-common-1.25.0 opentelemetry-exporter-otlp-proto-grpc-1.25.0 opentelemetry-instrumentation-0.46b0 opentelemetry-instrumentation-asgi-0.46b0 opentelemetry-instrumentation-fastapi-0.46b0 opentelemetry-proto-1.25.0 opentelemetry-sdk-1.25.0 opentelemetry-semantic-conventions-0.46b0 opentelemetry-util-http-0.46b0 orjson-3.10.6 overrides-7.7.0 posthog-3.5.0 pypika-0.48.9 python-dotenv-1.0.1 python-multipart-0.0.9 starlette-0.37.2 ujson-5.10.0 uvicorn-0.30.1 uvloop-0.19.0 watchfiles-0.22.0 websockets-12.0\n"
          ]
        }
      ],
      "source": [
        "!pip install chromadb"
      ]
    },
    {
      "cell_type": "code",
      "source": [
        "from google.colab import drive\n",
        "\n",
        "# Mount Google Drive\n",
        "drive.mount('/content/drive')\n",
        "import os\n",
        "\n",
        "# Specify the path to your folder in Google Drive containing the PDF files\n",
        "folder_path = \"/content/drive/MyDrive/Data\"\n",
        "\n",
        "# Change the current working directory to the specified folder\n",
        "os.chdir(folder_path)\n",
        "\n",
        "# List all files in the current directory (optional)\n",
        "files = os.listdir()\n",
        "print(\"Files in the folder:\", files)"
      ],
      "metadata": {
        "colab": {
          "base_uri": "https://localhost:8080/"
        },
        "id": "6dhMyY5Y4o_N",
        "outputId": "76cb1728-d96d-4d33-ab91-f498c43829f6"
      },
      "execution_count": 2,
      "outputs": [
        {
          "output_type": "stream",
          "name": "stdout",
          "text": [
            "Mounted at /content/drive\n",
            "Files in the folder: ['inputFile.txt', 'data.docx', 'Samsung_TC.txt', 'Netflix_TC.txt', 'jjj.txt', 'jjj.index', 'chromadb']\n"
          ]
        }
      ]
    },
    {
      "cell_type": "markdown",
      "source": [
        "# STORING THE DATA BASE IN LOCAL STORAGE"
      ],
      "metadata": {
        "id": "MVcE1Joj7scS"
      }
    },
    {
      "cell_type": "code",
      "source": [
        "import chromadb"
      ],
      "metadata": {
        "id": "lBMy8L1v5jhI"
      },
      "execution_count": 45,
      "outputs": []
    },
    {
      "cell_type": "code",
      "source": [
        "\n",
        "client = chromadb.PersistentClient(path=\"/content/drive/MyDrive/Data/database\")\n"
      ],
      "metadata": {
        "id": "XhdHsShc4tcz"
      },
      "execution_count": 62,
      "outputs": []
    },
    {
      "cell_type": "code",
      "source": [
        "collection = client.create_collection(\"my_collection3\")"
      ],
      "metadata": {
        "id": "2siUdvug4tW8"
      },
      "execution_count": 63,
      "outputs": []
    },
    {
      "cell_type": "code",
      "source": [
        "collection.add(\n",
        "\n",
        "documents = [\n",
        "    \"Introduction to Quantum Physics\",\n",
        "    \"Quantum physics, also known as quantum mechanics or quantum theory, is a fundamental branch of physics that deals with the behavior of matter and energy at the smallest scales, typically at the level of atoms and subatomic particles. Developed in the early 20th century, quantum physics has revolutionized our understanding of the universe, providing insights into the nature of reality that are often counterintuitive and challenging to grasp.\",\n",
        "    \"Historical Background\",\n",
        "    \"The roots of quantum physics can be traced back to the late 19th and early 20th centuries when classical physics could not explain certain experimental observations. Key milestones in the development of quantum theory include:\",\n",
        "    \" Blackbody Radiation: Max Planck's solution to the ultraviolet catastrophe in 1900 introduced the concept of quantized energy levels, laying the groundwork for quantum theory.\",\n",
        "    \"Photoelectric Effect: In 1905, Albert Einstein explained the photoelectric effect by proposing that light is composed of discrete packets of energy called photons, each with energy proportional to its frequency.\",\n",
        "    \"Atomic Structure: Niels Bohr's model of the atom in 1913 introduced quantized electron orbits, explaining the stability of atoms and the emission spectra of elements.\",\n",
        "    \"Wave-Particle Duality : Louis de Broglie's hypothesis in 1924 that particles such as electrons exhibit both wave-like and particle-like properties was experimentally confirmed by the Davisson-Germer experiment in 1927.\",\n",
        "    \"Heisenberg's Uncertainty Principle : Werner Heisenberg's formulation in 1927 revealed that it is impossible to simultaneously know both the exact position and momentum of a particle, highlighting the inherent uncertainties in quantum measurements.\",\n",
        "    \"Schrödinger's Wave Equation : Erwin Schrödinger developed a wave equation in 1926 that describes how the quantum state of a physical system changes over time.\",\n",
        "    \"Fundamental Concepts of Quantum Physics\",\n",
        "    \"Wave-Particle Duality : One of the most profound aspects of quantum physics is that particles such as electrons and photons can exhibit both wave-like and particle-like behavior, depending on the experimental context.\",\n",
        "    \"Quantization : Energy levels in quantum systems are quantized, meaning that particles can only occupy discrete energy levels rather than a continuous range of values.\",\n",
        "    \"Superposition : A fundamental principle of quantum mechanics is that particles can exist in multiple states simultaneously. This is exemplified by Schrödinger's cat thought experiment, where a cat in a box can be both alive and dead until observed.\",\n",
        "    \"Entanglement : Quantum entanglement occurs when particles become correlated in such a way that the state of one particle is dependent on the state of another, regardless of the distance separating them. This phenomenon was famously described by Einstein as \\\"spooky action at a distance.\\\"\",\n",
        "    \"Heisenberg Uncertainty Principle : This principle states that certain pairs of physical properties, such as position and momentum, cannot be simultaneously measured with arbitrary precision. The more accurately one property is measured, the less accurately the other can be known.\",\n",
        "    \"Quantum Mechanics Formalism\",\n",
        "    \"Quantum mechanics is mathematically formulated using wave functions, operators, and complex numbers. Key components include:\",\n",
        "    \"Wave Function (Ψ) : The wave function is a mathematical description of the quantum state of a system. The square of the wave function's amplitude gives the probability density of finding a particle in a particular state.\",\n",
        "    \"Operators : Physical observables such as position, momentum, and energy are represented by operators that act on wave functions. The eigenvalues of these operators correspond to the possible measurement outcomes.\",\n",
        "    \"Schrödinger Equation : The Schrödinger equation is a differential equation that describes how the wave function evolves over time. For a non-relativistic particle, the time-dependent Schrödinger equation is given by:\",\n",
        "    \"where is the reduced Planck constant, is the wave function, and \\\\( \\\\hat{H} \\\\) is the Hamiltonian operator representing the total energy of the system.\",\n",
        "    \"Applications of Quantum Physics\",\n",
        "    \"Quantum physics has led to numerous technological advancements and has wide-ranging applications, including:\",\n",
        "    \"Semiconductors and Transistors : Quantum mechanics is the foundation of modern electronics, including semiconductors and transistors, which are essential components of computers and other electronic devices.\",\n",
        "    \"Quantum Computing : Quantum computers leverage the principles of superposition and entanglement to perform computations that are infeasible for classical computers. They have the potential to revolutionize fields such as cryptography, optimization, and material science.\",\n",
        "    \"Quantum Cryptography : Quantum key distribution (QKD) provides theoretically secure communication by using the principles of quantum mechanics to detect eavesdropping attempts.\",\n",
        "    \"Lasers : The development of lasers relies on the principles of stimulated emission and quantum transitions between energy levels.\",\n",
        "    \"MRI and Medical Imaging : Quantum mechanics underpins techniques such as magnetic resonance imaging (MRI), which uses the quantum properties of atomic nuclei to produce detailed images of the human body.\",\n",
        "    \"Philosophical Implications\",\n",
        "    \"Quantum physics has profound philosophical implications, challenging our classical notions of reality, determinism, and locality. Key philosophical interpretations include:\",\n",
        "    \"Copenhagen Interpretation : Proposed by Niels Bohr and Werner Heisenberg, this interpretation posits that physical systems do not have definite properties until measured, and the act of measurement causes the collapse of the wave function.\",\n",
        "    \"Many-Worlds Interpretation : Proposed by Hugh Everett, this interpretation suggests that all possible outcomes of a quantum measurement are realized in parallel, branching universes.\",\n",
        "    \"Pilot-Wave Theory : Proposed by Louis de Broglie and David Bohm, this interpretation introduces hidden variables that determine the behavior of particles, providing a deterministic framework for quantum mechanics.\",\n",
        "    \"Objective Collapse Theories : These theories propose that wave function collapse is a physical process, occurring spontaneously or due to interactions with the environment.\",\n",
        "    \"Conclusion\",\n",
        "    \"Quantum physics is a rich and complex field that has fundamentally altered our understanding of the universe. Its principles and applications continue to drive technological advancements and challenge our philosophical perspectives. As research in quantum mechanics progresses, it promises to unlock even deeper insights into the nature of reality and the fabric of the cosmos.\"\n",
        "],\n",
        "ids = [\n",
        "    \"idx1\", \"idx2\", \"idx3\", \"idx4\", \"idx5\", \"idx6\", \"idx7\", \"idx8\", \"idx9\", \"idx10\",\n",
        "    \"idx11\", \"idx12\", \"idx13\", \"idx14\", \"idx15\", \"idx16\", \"idx17\", \"idx18\", \"idx19\", \"idx20\",\n",
        "    \"idx21\", \"idx22\", \"idx23\", \"idx24\", \"idx25\", \"idx26\", \"idx27\", \"idx28\", \"idx29\", \"idx30\",\n",
        "    \"idx31\", \"idx32\", \"idx33\", \"idx34\", \"idx35\", \"idx36\", \"idx37\"\n",
        "]\n",
        ")\n",
        "\n",
        "\n"
      ],
      "metadata": {
        "id": "1Q3rNTF75yNu"
      },
      "execution_count": 64,
      "outputs": []
    },
    {
      "cell_type": "code",
      "source": [
        "results = collection.query(\n",
        "    query_texts=[\"Tell me about Schrodinger equation\"], # Chroma will embed this for you\n",
        "    n_results=10 # how many results to return\n",
        ")\n",
        "print(results)"
      ],
      "metadata": {
        "colab": {
          "base_uri": "https://localhost:8080/"
        },
        "id": "dFanAALN51y2",
        "outputId": "e4cfd2da-1216-41d8-ad44-5690978b52e3"
      },
      "execution_count": 66,
      "outputs": [
        {
          "output_type": "stream",
          "name": "stdout",
          "text": [
            "{'ids': [['idx21', 'idx10', 'idx18', 'idx19', 'idx11', 'idx1', 'idx23', 'idx17', 'idx22', 'idx34']], 'distances': [[0.5317598214793939, 0.6919044490597072, 0.9527091254892631, 0.9881322019806998, 1.0197328046352852, 1.0476549189384652, 1.1232088046599935, 1.1360942714568354, 1.1570763912076467, 1.161796101996122]], 'metadatas': [[None, None, None, None, None, None, None, None, None, None]], 'embeddings': None, 'documents': [['Schrödinger Equation : The Schrödinger equation is a differential equation that describes how the wave function evolves over time. For a non-relativistic particle, the time-dependent Schrödinger equation is given by:', \"Schrödinger's Wave Equation : Erwin Schrödinger developed a wave equation in 1926 that describes how the quantum state of a physical system changes over time.\", 'Quantum mechanics is mathematically formulated using wave functions, operators, and complex numbers. Key components include:', \"Wave Function (Ψ) : The wave function is a mathematical description of the quantum state of a system. The square of the wave function's amplitude gives the probability density of finding a particle in a particular state.\", 'Fundamental Concepts of Quantum Physics', 'Introduction to Quantum Physics', 'Applications of Quantum Physics', 'Quantum Mechanics Formalism', 'where is the reduced Planck constant, is the wave function, and \\\\( \\\\hat{H} \\\\) is the Hamiltonian operator representing the total energy of the system.', 'Pilot-Wave Theory : Proposed by Louis de Broglie and David Bohm, this interpretation introduces hidden variables that determine the behavior of particles, providing a deterministic framework for quantum mechanics.']], 'uris': None, 'data': None, 'included': ['metadatas', 'documents', 'distances']}\n"
          ]
        }
      ]
    },
    {
      "cell_type": "code",
      "source": [
        "results = collection.query(\n",
        "    query_texts=[\"Tell me about yourself\"], # Chroma will embed this for you\n",
        "    n_results=10 # how many results to return\n",
        ")\n",
        "print(results)"
      ],
      "metadata": {
        "colab": {
          "base_uri": "https://localhost:8080/"
        },
        "id": "vSdc2Ev-NKvq",
        "outputId": "d68df6dd-0537-46a8-cbc0-3a2463a6fc5e"
      },
      "execution_count": 69,
      "outputs": [
        {
          "output_type": "stream",
          "name": "stdout",
          "text": [
            "{'ids': [['idx36', 'idx30', 'idx3', 'idx11', 'idx1', 'idx17', 'idx37', 'idx2', 'idx34', 'idx23']], 'distances': [[1.5403201328885083, 1.7079094647601234, 1.7140879139650378, 1.732661719266013, 1.7586343100158006, 1.7718608413221306, 1.7795969844521504, 1.8280940735150832, 1.847270298223011, 1.8487201537713704]], 'metadatas': [[None, None, None, None, None, None, None, None, None, None]], 'embeddings': None, 'documents': [['Conclusion', 'Philosophical Implications', 'Historical Background', 'Fundamental Concepts of Quantum Physics', 'Introduction to Quantum Physics', 'Quantum Mechanics Formalism', 'Quantum physics is a rich and complex field that has fundamentally altered our understanding of the universe. Its principles and applications continue to drive technological advancements and challenge our philosophical perspectives. As research in quantum mechanics progresses, it promises to unlock even deeper insights into the nature of reality and the fabric of the cosmos.', 'Quantum physics, also known as quantum mechanics or quantum theory, is a fundamental branch of physics that deals with the behavior of matter and energy at the smallest scales, typically at the level of atoms and subatomic particles. Developed in the early 20th century, quantum physics has revolutionized our understanding of the universe, providing insights into the nature of reality that are often counterintuitive and challenging to grasp.', 'Pilot-Wave Theory : Proposed by Louis de Broglie and David Bohm, this interpretation introduces hidden variables that determine the behavior of particles, providing a deterministic framework for quantum mechanics.', 'Applications of Quantum Physics']], 'uris': None, 'data': None, 'included': ['metadatas', 'documents', 'distances']}\n"
          ]
        }
      ]
    },
    {
      "cell_type": "markdown",
      "source": [
        "# Loading the colllection from local storage"
      ],
      "metadata": {
        "id": "nZ4juhP_7w-U"
      }
    },
    {
      "cell_type": "code",
      "source": [
        "import chromadb\n",
        "from chromadb.config import Settings\n",
        "\n",
        "# Specify the path to your Chroma DB storage\n",
        "db_path = \"/content/drive/MyDrive/Data/database\"\n",
        "\n",
        "# Initialize the Chroma DB persistent client\n",
        "client = chromadb.PersistentClient(path=db_path)\n",
        "\n",
        "# Retrieve the specific collection\n",
        "collection_name = \"my_collection3\"  # Replace with your collection's name\n",
        "collection = client.get_collection(name=collection_name)\n",
        "\n"
      ],
      "metadata": {
        "id": "vt4MsGVD7Ev5"
      },
      "execution_count": 17,
      "outputs": []
    },
    {
      "cell_type": "code",
      "source": [
        "results = collection.query(\n",
        "    query_texts=[\"This is a document about oranges\"], # Chroma will embed this for you\n",
        "    n_results=2 # how many results to return\n",
        ")\n",
        "print(results)"
      ],
      "metadata": {
        "colab": {
          "base_uri": "https://localhost:8080/"
        },
        "id": "nxbzbNH47b70",
        "outputId": "215a93f0-02f3-4cfc-aea5-cb2c29e152bf"
      },
      "execution_count": 15,
      "outputs": [
        {
          "output_type": "stream",
          "name": "stdout",
          "text": [
            "{'ids': [['id2', 'id1']], 'distances': [[0.0, 0.8987955271478836]], 'metadatas': [[None, None]], 'embeddings': None, 'documents': [['This is a document about oranges', 'This is a document about pineapple']], 'uris': None, 'data': None, 'included': ['metadatas', 'documents', 'distances']}\n"
          ]
        }
      ]
    },
    {
      "cell_type": "markdown",
      "source": [
        "# USING EUCLIDEAN DISTANCE"
      ],
      "metadata": {
        "id": "BeI-MHSsENgV"
      }
    },
    {
      "cell_type": "code",
      "source": [
        "import chromadb\n",
        "\n",
        "\n",
        "# Initialize ChromaDB client\n",
        "\n",
        "client = chromadb.PersistentClient(path=\"/content/drive/MyDrive/Data/database\")\n",
        "\n",
        "\n",
        "# Create or get a collection with Euclidean distance\n",
        "collection_name = \"my_collection\"\n"
      ],
      "metadata": {
        "id": "g14N8PghEMa8"
      },
      "execution_count": 52,
      "outputs": []
    },
    {
      "cell_type": "code",
      "source": [
        "collection_name = client.create_collection(\n",
        "        name=\"collection_name\",\n",
        "        metadata={\"hnsw:space\": \"cosine\"} # l2 is the default\n",
        "    )"
      ],
      "metadata": {
        "id": "wzIUEsgDEjHd"
      },
      "execution_count": 55,
      "outputs": []
    },
    {
      "cell_type": "code",
      "source": [
        "collection_name.add(\n",
        "\n",
        "documents = [\n",
        "    \"Introduction to Quantum Physics\",\n",
        "    \"Quantum physics, also known as quantum mechanics or quantum theory, is a fundamental branch of physics that deals with the behavior of matter and energy at the smallest scales, typically at the level of atoms and subatomic particles. Developed in the early 20th century, quantum physics has revolutionized our understanding of the universe, providing insights into the nature of reality that are often counterintuitive and challenging to grasp.\",\n",
        "    \"Historical Background\",\n",
        "    \"The roots of quantum physics can be traced back to the late 19th and early 20th centuries when classical physics could not explain certain experimental observations. Key milestones in the development of quantum theory include:\",\n",
        "    \" Blackbody Radiation: Max Planck's solution to the ultraviolet catastrophe in 1900 introduced the concept of quantized energy levels, laying the groundwork for quantum theory.\",\n",
        "    \"Photoelectric Effect: In 1905, Albert Einstein explained the photoelectric effect by proposing that light is composed of discrete packets of energy called photons, each with energy proportional to its frequency.\",\n",
        "    \"Atomic Structure: Niels Bohr's model of the atom in 1913 introduced quantized electron orbits, explaining the stability of atoms and the emission spectra of elements.\",\n",
        "    \"Wave-Particle Duality : Louis de Broglie's hypothesis in 1924 that particles such as electrons exhibit both wave-like and particle-like properties was experimentally confirmed by the Davisson-Germer experiment in 1927.\",\n",
        "    \"Heisenberg's Uncertainty Principle : Werner Heisenberg's formulation in 1927 revealed that it is impossible to simultaneously know both the exact position and momentum of a particle, highlighting the inherent uncertainties in quantum measurements.\",\n",
        "    \"Schrödinger's Wave Equation : Erwin Schrödinger developed a wave equation in 1926 that describes how the quantum state of a physical system changes over time.\",\n",
        "    \"Fundamental Concepts of Quantum Physics\",\n",
        "    \"Wave-Particle Duality : One of the most profound aspects of quantum physics is that particles such as electrons and photons can exhibit both wave-like and particle-like behavior, depending on the experimental context.\",\n",
        "    \"Quantization : Energy levels in quantum systems are quantized, meaning that particles can only occupy discrete energy levels rather than a continuous range of values.\",\n",
        "    \"Superposition : A fundamental principle of quantum mechanics is that particles can exist in multiple states simultaneously. This is exemplified by Schrödinger's cat thought experiment, where a cat in a box can be both alive and dead until observed.\",\n",
        "    \"Entanglement : Quantum entanglement occurs when particles become correlated in such a way that the state of one particle is dependent on the state of another, regardless of the distance separating them. This phenomenon was famously described by Einstein as \\\"spooky action at a distance.\\\"\",\n",
        "    \"Heisenberg Uncertainty Principle : This principle states that certain pairs of physical properties, such as position and momentum, cannot be simultaneously measured with arbitrary precision. The more accurately one property is measured, the less accurately the other can be known.\",\n",
        "    \"Quantum Mechanics Formalism\",\n",
        "    \"Quantum mechanics is mathematically formulated using wave functions, operators, and complex numbers. Key components include:\",\n",
        "    \"Wave Function (Ψ) : The wave function is a mathematical description of the quantum state of a system. The square of the wave function's amplitude gives the probability density of finding a particle in a particular state.\",\n",
        "    \"Operators : Physical observables such as position, momentum, and energy are represented by operators that act on wave functions. The eigenvalues of these operators correspond to the possible measurement outcomes.\",\n",
        "    \"Schrödinger Equation : The Schrödinger equation is a differential equation that describes how the wave function evolves over time. For a non-relativistic particle, the time-dependent Schrödinger equation is given by:\",\n",
        "    \"where is the reduced Planck constant, is the wave function, and \\\\( \\\\hat{H} \\\\) is the Hamiltonian operator representing the total energy of the system.\",\n",
        "    \"Applications of Quantum Physics\",\n",
        "    \"Quantum physics has led to numerous technological advancements and has wide-ranging applications, including:\",\n",
        "    \"Semiconductors and Transistors : Quantum mechanics is the foundation of modern electronics, including semiconductors and transistors, which are essential components of computers and other electronic devices.\",\n",
        "    \"Quantum Computing : Quantum computers leverage the principles of superposition and entanglement to perform computations that are infeasible for classical computers. They have the potential to revolutionize fields such as cryptography, optimization, and material science.\",\n",
        "    \"Quantum Cryptography : Quantum key distribution (QKD) provides theoretically secure communication by using the principles of quantum mechanics to detect eavesdropping attempts.\",\n",
        "    \"Lasers : The development of lasers relies on the principles of stimulated emission and quantum transitions between energy levels.\",\n",
        "    \"MRI and Medical Imaging : Quantum mechanics underpins techniques such as magnetic resonance imaging (MRI), which uses the quantum properties of atomic nuclei to produce detailed images of the human body.\",\n",
        "    \"Philosophical Implications\",\n",
        "    \"Quantum physics has profound philosophical implications, challenging our classical notions of reality, determinism, and locality. Key philosophical interpretations include:\",\n",
        "    \"Copenhagen Interpretation : Proposed by Niels Bohr and Werner Heisenberg, this interpretation posits that physical systems do not have definite properties until measured, and the act of measurement causes the collapse of the wave function.\",\n",
        "    \"Many-Worlds Interpretation : Proposed by Hugh Everett, this interpretation suggests that all possible outcomes of a quantum measurement are realized in parallel, branching universes.\",\n",
        "    \"Pilot-Wave Theory : Proposed by Louis de Broglie and David Bohm, this interpretation introduces hidden variables that determine the behavior of particles, providing a deterministic framework for quantum mechanics.\",\n",
        "    \"Objective Collapse Theories : These theories propose that wave function collapse is a physical process, occurring spontaneously or due to interactions with the environment.\",\n",
        "    \"Conclusion\",\n",
        "    \"Quantum physics is a rich and complex field that has fundamentally altered our understanding of the universe. Its principles and applications continue to drive technological advancements and challenge our philosophical perspectives. As research in quantum mechanics progresses, it promises to unlock even deeper insights into the nature of reality and the fabric of the cosmos.\"\n",
        "],\n",
        "ids = [\n",
        "    \"idx1\", \"idx2\", \"idx3\", \"idx4\", \"idx5\", \"idx6\", \"idx7\", \"idx8\", \"idx9\", \"idx10\",\n",
        "    \"idx11\", \"idx12\", \"idx13\", \"idx14\", \"idx15\", \"idx16\", \"idx17\", \"idx18\", \"idx19\", \"idx20\",\n",
        "    \"idx21\", \"idx22\", \"idx23\", \"idx24\", \"idx25\", \"idx26\", \"idx27\", \"idx28\", \"idx29\", \"idx30\",\n",
        "    \"idx31\", \"idx32\", \"idx33\", \"idx34\", \"idx35\", \"idx36\", \"idx37\"\n",
        "]\n",
        ")\n",
        "\n",
        "\n"
      ],
      "metadata": {
        "id": "PRv189g-D3_T"
      },
      "execution_count": 56,
      "outputs": []
    },
    {
      "cell_type": "code",
      "source": [
        "client.delete_collection(name=\"my_collection3\")"
      ],
      "metadata": {
        "id": "Gmz3fVnpGFG9"
      },
      "execution_count": 61,
      "outputs": []
    },
    {
      "cell_type": "code",
      "source": [
        "results = collection_name.query(\n",
        "    query_texts=[\"Tell me about Schrodinger equation\"], # Chroma will embed this for you\n",
        "    n_results=10 # how many results to return\n",
        ")\n",
        "print(results)"
      ],
      "metadata": {
        "colab": {
          "base_uri": "https://localhost:8080/"
        },
        "id": "Hn6RtAfxE0JR",
        "outputId": "17a90958-e148-468e-fe73-566fac2f63fc"
      },
      "execution_count": 67,
      "outputs": [
        {
          "output_type": "stream",
          "name": "stdout",
          "text": [
            "{'ids': [['idx21', 'idx10', 'idx18', 'idx19', 'idx11', 'idx1', 'idx23', 'idx17', 'idx22', 'idx34']], 'distances': [[0.2658799100919036, 0.34595222367038814, 0.47635456330252446, 0.49406610097994674, 0.5098664023753908, 0.5238274582876397, 0.5616044028789873, 0.5680471352248448, 0.57853819515329, 0.5808980522933322]], 'metadatas': [[None, None, None, None, None, None, None, None, None, None]], 'embeddings': None, 'documents': [['Schrödinger Equation : The Schrödinger equation is a differential equation that describes how the wave function evolves over time. For a non-relativistic particle, the time-dependent Schrödinger equation is given by:', \"Schrödinger's Wave Equation : Erwin Schrödinger developed a wave equation in 1926 that describes how the quantum state of a physical system changes over time.\", 'Quantum mechanics is mathematically formulated using wave functions, operators, and complex numbers. Key components include:', \"Wave Function (Ψ) : The wave function is a mathematical description of the quantum state of a system. The square of the wave function's amplitude gives the probability density of finding a particle in a particular state.\", 'Fundamental Concepts of Quantum Physics', 'Introduction to Quantum Physics', 'Applications of Quantum Physics', 'Quantum Mechanics Formalism', 'where is the reduced Planck constant, is the wave function, and \\\\( \\\\hat{H} \\\\) is the Hamiltonian operator representing the total energy of the system.', 'Pilot-Wave Theory : Proposed by Louis de Broglie and David Bohm, this interpretation introduces hidden variables that determine the behavior of particles, providing a deterministic framework for quantum mechanics.']], 'uris': None, 'data': None, 'included': ['metadatas', 'documents', 'distances']}\n"
          ]
        }
      ]
    },
    {
      "cell_type": "code",
      "source": [
        "results = collection_name.query(\n",
        "    query_texts=[\"Tell me about yourself\"], # Chroma will embed this for you\n",
        "    n_results=10 # how many results to return\n",
        ")\n",
        "print(results)"
      ],
      "metadata": {
        "colab": {
          "base_uri": "https://localhost:8080/"
        },
        "id": "iSf4op3hNFdP",
        "outputId": "2f2714de-a06f-4251-f2f0-35ada6ab1cd8"
      },
      "execution_count": 68,
      "outputs": [
        {
          "output_type": "stream",
          "name": "stdout",
          "text": [
            "{'ids': [['idx36', 'idx30', 'idx3', 'idx11', 'idx1', 'idx17', 'idx37', 'idx2', 'idx34', 'idx23']], 'distances': [[0.7701600673124037, 0.8539547259958085, 0.8570439525679504, 0.8663308575308262, 0.8793171507911477, 0.8859304176256082, 0.8897984931841079, 0.9140470343061061, 0.9236351488251598, 0.9243600754415989]], 'metadatas': [[None, None, None, None, None, None, None, None, None, None]], 'embeddings': None, 'documents': [['Conclusion', 'Philosophical Implications', 'Historical Background', 'Fundamental Concepts of Quantum Physics', 'Introduction to Quantum Physics', 'Quantum Mechanics Formalism', 'Quantum physics is a rich and complex field that has fundamentally altered our understanding of the universe. Its principles and applications continue to drive technological advancements and challenge our philosophical perspectives. As research in quantum mechanics progresses, it promises to unlock even deeper insights into the nature of reality and the fabric of the cosmos.', 'Quantum physics, also known as quantum mechanics or quantum theory, is a fundamental branch of physics that deals with the behavior of matter and energy at the smallest scales, typically at the level of atoms and subatomic particles. Developed in the early 20th century, quantum physics has revolutionized our understanding of the universe, providing insights into the nature of reality that are often counterintuitive and challenging to grasp.', 'Pilot-Wave Theory : Proposed by Louis de Broglie and David Bohm, this interpretation introduces hidden variables that determine the behavior of particles, providing a deterministic framework for quantum mechanics.', 'Applications of Quantum Physics']], 'uris': None, 'data': None, 'included': ['metadatas', 'documents', 'distances']}\n"
          ]
        }
      ]
    }
  ]
}