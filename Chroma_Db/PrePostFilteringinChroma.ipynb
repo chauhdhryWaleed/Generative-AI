{
  "nbformat": 4,
  "nbformat_minor": 0,
  "metadata": {
    "colab": {
      "provenance": []
    },
    "kernelspec": {
      "name": "python3",
      "display_name": "Python 3"
    },
    "language_info": {
      "name": "python"
    }
  },
  "cells": [
    {
      "cell_type": "code",
      "source": [
        "from datetime import datetime\n",
        "import chromadb\n",
        "client = chromadb.PersistentClient(path='database2')\n",
        "# Initialize Chroma DB client\n",
        "# my_collection = client.create_collection(name='my_collection1')\n",
        "my_collection1 = client.create_collection(\n",
        "        name=\"collection2\",\n",
        "        metadata={\"hnsw:space\": \"cosine\"} # l2 is the default\n",
        "    )\n"
      ],
      "metadata": {
        "id": "qOAUMKLkOVoc"
      },
      "execution_count": 4,
      "outputs": []
    },
    {
      "cell_type": "code",
      "source": [
        "# Define your documents, metadata, and IDs\n",
        "documents = [\n",
        "    \"Analysis of market trends and consumer behavior in the tech industry.\",\n",
        "    \"Case study on sustainable development practices in urban planning.\",\n",
        "    \"Research findings on the impact of climate change on marine ecosystems.\",\n",
        "    \"Comparative analysis of healthcare systems in developed and developing countries.\",\n",
        "    \"Report on innovations in renewable energy technologies.\",\n",
        "    \"Proposal for enhancing cybersecurity measures in financial institutions.\",\n",
        "    \"Study on the effectiveness of remote learning tools during the COVID-19 pandemic.\",\n",
        "    \"Analysis of social media trends and their impact on digital marketing strategies.\",\n",
        "    \"Case study on the adoption of artificial intelligence in healthcare diagnostics.\",\n",
        "    \"Review of sustainable agriculture practices and their economic implications.\",\n",
        "    \"Proposal for improving public transportation infrastructure in urban areas.\"\n",
        "]\n",
        "metadata = [\n",
        "    {\n",
        "        \"source\": \"Tech Industry Report\",\n",
        "        \"author\": \"David Lee\",\n",
        "        \"date_created\": 1597171200,  # Example timestamp\n",
        "        \"tags\": \"Tech\"\n",
        "    },\n",
        "    {\n",
        "        \"source\": \"Urban Planning Journal\",\n",
        "        \"author\": \"Emma Johnson\",\n",
        "        \"date_created\": 1599244800,  # Example timestamp\n",
        "        \"tags\": \"Sustainable Development\"\n",
        "    },\n",
        "    {\n",
        "        \"source\": \"Climate Change Research\",\n",
        "        \"author\": \"Michael Smith\",\n",
        "        \"date_created\": 1634726400,  # Example timestamp\n",
        "        \"tags\": \"Climate Change\"\n",
        "    },\n",
        "    {\n",
        "        \"source\": \"Healthcare Systems Review\",\n",
        "        \"author\": \"Sophia Brown\",\n",
        "        \"date_created\": 1636944000,  # Example timestamp\n",
        "        \"tags\": \"Healthcare\"\n",
        "    },\n",
        "    {\n",
        "        \"source\": \"Renewable Energy Innovations\",\n",
        "        \"author\": \"James White\",\n",
        "        \"date_created\": 1638345600,  # Example timestamp\n",
        "        \"tags\": \"Tech\"\n",
        "    },\n",
        "    {\n",
        "        \"source\": \"Cybersecurity Proposal\",\n",
        "        \"author\": \"Olivia Taylor\",\n",
        "        \"date_created\": 1641782400,  # Example timestamp\n",
        "        \"tags\": \"Cybersecurity\"\n",
        "    },\n",
        "    {\n",
        "        \"source\": \"Remote Learning Study\",\n",
        "        \"author\": \"William Miller\",\n",
        "        \"date_created\": 1645180800,  # Example timestamp\n",
        "        \"tags\": \"Remote Learning\"\n",
        "    },\n",
        "    {\n",
        "        \"source\": \"Social Media Analysis\",\n",
        "        \"author\": \"Ava Martinez\",\n",
        "        \"date_created\": 1648204800,  # Example timestamp\n",
        "        \"tags\": \"Social Media\"\n",
        "    },\n",
        "    {\n",
        "        \"source\": \"AI in Healthcare Diagnostics\",\n",
        "        \"author\": \"Noah Garcia\",\n",
        "        \"date_created\": 1651305600,  # Example timestamp\n",
        "        \"tags\": \"Artificial Intelligence\"\n",
        "    },\n",
        "    {\n",
        "        \"source\": \"Sustainable Agriculture Review\",\n",
        "        \"author\": \"Isabella Lopez\",\n",
        "        \"date_created\": 1652620800,  # Example timestamp\n",
        "        \"tags\": \"Sustainable Agriculture\"\n",
        "    },\n",
        "    {\n",
        "        \"source\": \"Urban Transportation Proposal\",\n",
        "        \"author\": \"Ethan Wilson\",\n",
        "        \"date_created\": 1654867200,  # Example timestamp\n",
        "        \"tags\": \"Urban Infrastructure\"\n",
        "    }\n",
        "]\n",
        "\n",
        "ids = [\n",
        "    \"id5\", \"id6\", \"id7\", \"id8\", \"id9\",\n",
        "    \"id10\", \"id11\", \"id12\", \"id13\", \"id14\", \"id15\"\n",
        "]\n",
        "\n",
        "# Assuming `my_collection` is already defined somewhere in your code\n",
        "my_collection1.add(documents=documents, metadatas=metadata, ids=ids)"
      ],
      "metadata": {
        "colab": {
          "base_uri": "https://localhost:8080/"
        },
        "id": "xVs2uQmGPVSD",
        "outputId": "443a8dbc-54c0-4b17-a416-390c669ed9c7"
      },
      "execution_count": 5,
      "outputs": [
        {
          "output_type": "stream",
          "name": "stderr",
          "text": [
            "/root/.cache/chroma/onnx_models/all-MiniLM-L6-v2/onnx.tar.gz: 100%|██████████| 79.3M/79.3M [00:07<00:00, 10.6MiB/s]\n"
          ]
        }
      ]
    },
    {
      "cell_type": "code",
      "source": [
        "def get_max_date_created(my_collection):\n",
        "    # Get the results with metadata included\n",
        "    results = my_collection.get(include=[\"metadatas\"])\n",
        "\n",
        "    # Extract metadata\n",
        "    meta = []\n",
        "    for d in results['metadatas']:\n",
        "        meta.append(d)\n",
        "\n",
        "    # Extract date_created values\n",
        "    date_created_list = [item['date_created'] for item in meta]\n",
        "\n",
        "    # Return the maximum date_created value\n",
        "    return max(date_created_list)\n",
        "\n",
        "\n"
      ],
      "metadata": {
        "id": "F8QdPdLvOkgt"
      },
      "execution_count": 38,
      "outputs": []
    },
    {
      "cell_type": "markdown",
      "source": [
        "# Chroma use pre filtering"
      ],
      "metadata": {
        "id": "3V0iQNqJqHj_"
      }
    },
    {
      "cell_type": "code",
      "source": [
        "current_time = datetime.now()\n",
        "results = my_collection1.query(\n",
        "        query_texts=\"Tell me about covid 19\",\n",
        "        # n_results=2,  # Return only the latest document\n",
        "        where={\"date_created\": {\"$eq\": get_max_date_created(my_collection1)}}  # Filter based on the latest timestamp\n",
        "    )\n",
        "print(results)\n",
        "current_time1 = datetime.now()\n",
        "\n",
        "execution_time = current_time1 - current_time\n",
        "print(\"Execution Time:\", execution_time)\n"
      ],
      "metadata": {
        "colab": {
          "base_uri": "https://localhost:8080/"
        },
        "id": "wPphIifwkYSy",
        "outputId": "b68e7a08-0c41-4b23-cb70-f9ffc875ddfd"
      },
      "execution_count": 83,
      "outputs": [
        {
          "output_type": "stream",
          "name": "stdout",
          "text": [
            "{'ids': [['id15']], 'distances': [[0.9880140723406068]], 'metadatas': [[{'author': 'Ethan Wilson', 'date_created': 1654867200, 'source': 'Urban Transportation Proposal', 'tags': 'Urban Infrastructure'}]], 'embeddings': None, 'documents': [['Proposal for improving public transportation infrastructure in urban areas.']], 'uris': None, 'data': None, 'included': ['metadatas', 'documents', 'distances']}\n",
            "Execution Time: 0:00:00.133028\n"
          ]
        }
      ]
    },
    {
      "cell_type": "markdown",
      "source": [
        "# Applying post filtering manually"
      ],
      "metadata": {
        "id": "meCfVmTQqPTj"
      }
    },
    {
      "cell_type": "code",
      "source": [
        "\n",
        "\n",
        "def post_filtering(collection_name, query_texts, top_k=3, sort_order='desc', cosine_distance_threshold=None):\n",
        "    my_collection = client.get_collection(name=collection_name)\n",
        "\n",
        "    # Perform the query to retrieve documents\n",
        "    result = my_collection.query(\n",
        "        query_texts=query_texts,\n",
        "        n_results=top_k,\n",
        "    )\n",
        "\n",
        "    metadatas = result['metadatas'][0]\n",
        "\n",
        "    # Filter results based on cosine_distance_threshold if provided\n",
        "    if cosine_distance_threshold is not None and 'distances' in result:\n",
        "        filtered_metadatas = []\n",
        "        for doc, distance in zip(metadatas, result['distances'][0]):\n",
        "            if distance < cosine_distance_threshold:\n",
        "                filtered_metadatas.append(doc)\n",
        "        metadatas = filtered_metadatas\n",
        "\n",
        "    # Sort metadatas based on date_created if sorting is requested\n",
        "    if sort_order:\n",
        "        if sort_order == 'desc':\n",
        "            metadatas = sorted(metadatas, key=lambda x: x['date_created'], reverse=True)\n",
        "        elif sort_order == 'asc':\n",
        "            metadatas = sorted(metadatas, key=lambda x: x['date_created'], reverse=False)\n",
        "        else:\n",
        "            raise ValueError(\"Invalid sort_order. Choose 'asc' for ascending or 'desc' for descending.\")\n",
        "\n",
        "    # Print sorted documents and their metadata\n",
        "    print(\"Sorted Documents:\" if sort_order else \"Documents:\")\n",
        "    for idx, doc in enumerate(metadatas, start=1):\n",
        "        print(f\"Document {idx}:\")\n",
        "        print(f\"Date Created: {doc['date_created']}\")\n",
        "        print(f\"Source: {doc['source']}\")\n",
        "        print(f\"Author: {doc['author']}\")\n",
        "        print(f\"Tags: {doc['tags']}\")\n",
        "        if 'documents' in result:\n",
        "            print(f\"Document Content: {result['documents'][0][idx-1]}\")\n",
        "        if 'distances' in result:\n",
        "            print(f\"Distance: {result['distances'][0][idx-1]}\")\n",
        "        print()\n",
        "\n",
        "    return metadatas\n",
        "\n",
        "\n",
        "# Example usage:\n",
        "collection_name = \"collection2\"\n",
        "top_k_results = 5\n",
        "sort_order = 'desc'  # Default sorting order is descending\n",
        "cosine_distance_threshold = 0.9  # threshold value\n",
        "\n",
        "current_time = datetime.now()\n",
        "print(\"Execution Time:\", current_time)\n",
        "\n",
        "sorted_documents = post_filtering(collection_name, \"tell me about covid 19\", top_k_results, sort_order, cosine_distance_threshold)\n",
        "current_time1 = datetime.now()\n",
        "execution_time = current_time1 - current_time\n",
        "print(\"Execution Time:\", execution_time)\n"
      ],
      "metadata": {
        "colab": {
          "base_uri": "https://localhost:8080/"
        },
        "id": "JTEhUyxJc-In",
        "outputId": "108281d8-0361-471f-fe92-d98dc88da06f"
      },
      "execution_count": 99,
      "outputs": [
        {
          "output_type": "stream",
          "name": "stdout",
          "text": [
            "Execution Time: 2024-07-09 09:03:13.515138\n",
            "Sorted Documents:\n",
            "Document 1:\n",
            "Date Created: 1651305600\n",
            "Source: AI in Healthcare Diagnostics\n",
            "Author: Noah Garcia\n",
            "Tags: Artificial Intelligence\n",
            "Document Content: Study on the effectiveness of remote learning tools during the COVID-19 pandemic.\n",
            "Distance: 0.5436493481434879\n",
            "\n",
            "Document 2:\n",
            "Date Created: 1645180800\n",
            "Source: Remote Learning Study\n",
            "Author: William Miller\n",
            "Tags: Remote Learning\n",
            "Document Content: Comparative analysis of healthcare systems in developed and developing countries.\n",
            "Distance: 0.7934484383447122\n",
            "\n",
            "Document 3:\n",
            "Date Created: 1641782400\n",
            "Source: Cybersecurity Proposal\n",
            "Author: Olivia Taylor\n",
            "Tags: Cybersecurity\n",
            "Document Content: Case study on the adoption of artificial intelligence in healthcare diagnostics.\n",
            "Distance: 0.8607029298704181\n",
            "\n",
            "Document 4:\n",
            "Date Created: 1636944000\n",
            "Source: Healthcare Systems Review\n",
            "Author: Sophia Brown\n",
            "Tags: Healthcare\n",
            "Document Content: Proposal for enhancing cybersecurity measures in financial institutions.\n",
            "Distance: 0.8998878497879766\n",
            "\n",
            "Execution Time: 0:00:00.132552\n"
          ]
        }
      ]
    }
  ]
}