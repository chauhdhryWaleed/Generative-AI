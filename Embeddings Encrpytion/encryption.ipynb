{
 "cells": [
  {
   "cell_type": "code",
   "execution_count": 1,
   "metadata": {},
   "outputs": [
    {
     "name": "stdout",
     "output_type": "stream",
     "text": [
      "Requirement already satisfied: tenseal in f:\\mini-conda\\envs\\test\\lib\\site-packages (0.3.15)\n",
      "Requirement already satisfied: sentence_transformers in f:\\mini-conda\\envs\\test\\lib\\site-packages (3.0.1)\n",
      "Requirement already satisfied: transformers<5.0.0,>=4.34.0 in f:\\mini-conda\\envs\\test\\lib\\site-packages (from sentence_transformers) (4.41.2)\n",
      "Requirement already satisfied: tqdm in f:\\mini-conda\\envs\\test\\lib\\site-packages (from sentence_transformers) (4.66.5)\n",
      "Requirement already satisfied: torch>=1.11.0 in f:\\mini-conda\\envs\\test\\lib\\site-packages (from sentence_transformers) (2.4.1)\n",
      "Requirement already satisfied: numpy in f:\\mini-conda\\envs\\test\\lib\\site-packages (from sentence_transformers) (1.26.4)\n",
      "Requirement already satisfied: scikit-learn in f:\\mini-conda\\envs\\test\\lib\\site-packages (from sentence_transformers) (1.5.2)\n",
      "Requirement already satisfied: scipy in f:\\mini-conda\\envs\\test\\lib\\site-packages (from sentence_transformers) (1.13.1)\n",
      "Requirement already satisfied: huggingface-hub>=0.15.1 in f:\\mini-conda\\envs\\test\\lib\\site-packages (from sentence_transformers) (0.24.7)\n",
      "Requirement already satisfied: Pillow in f:\\mini-conda\\envs\\test\\lib\\site-packages (from sentence_transformers) (10.4.0)\n",
      "Requirement already satisfied: filelock in f:\\mini-conda\\envs\\test\\lib\\site-packages (from huggingface-hub>=0.15.1->sentence_transformers) (3.16.0)\n",
      "Requirement already satisfied: fsspec>=2023.5.0 in f:\\mini-conda\\envs\\test\\lib\\site-packages (from huggingface-hub>=0.15.1->sentence_transformers) (2024.9.0)\n",
      "Requirement already satisfied: packaging>=20.9 in f:\\mini-conda\\envs\\test\\lib\\site-packages (from huggingface-hub>=0.15.1->sentence_transformers) (24.1)\n",
      "Requirement already satisfied: pyyaml>=5.1 in f:\\mini-conda\\envs\\test\\lib\\site-packages (from huggingface-hub>=0.15.1->sentence_transformers) (6.0.2)\n",
      "Requirement already satisfied: requests in f:\\mini-conda\\envs\\test\\lib\\site-packages (from huggingface-hub>=0.15.1->sentence_transformers) (2.32.3)\n",
      "Requirement already satisfied: typing-extensions>=3.7.4.3 in f:\\mini-conda\\envs\\test\\lib\\site-packages (from huggingface-hub>=0.15.1->sentence_transformers) (4.12.2)\n",
      "Requirement already satisfied: sympy in f:\\mini-conda\\envs\\test\\lib\\site-packages (from torch>=1.11.0->sentence_transformers) (1.13.2)\n",
      "Requirement already satisfied: networkx in f:\\mini-conda\\envs\\test\\lib\\site-packages (from torch>=1.11.0->sentence_transformers) (3.3)\n",
      "Requirement already satisfied: jinja2 in f:\\mini-conda\\envs\\test\\lib\\site-packages (from torch>=1.11.0->sentence_transformers) (3.1.4)\n",
      "Requirement already satisfied: colorama in f:\\mini-conda\\envs\\test\\lib\\site-packages (from tqdm->sentence_transformers) (0.4.6)\n",
      "Requirement already satisfied: regex!=2019.12.17 in f:\\mini-conda\\envs\\test\\lib\\site-packages (from transformers<5.0.0,>=4.34.0->sentence_transformers) (2024.9.11)\n",
      "Requirement already satisfied: tokenizers<0.20,>=0.19 in f:\\mini-conda\\envs\\test\\lib\\site-packages (from transformers<5.0.0,>=4.34.0->sentence_transformers) (0.19.1)\n",
      "Requirement already satisfied: safetensors>=0.4.1 in f:\\mini-conda\\envs\\test\\lib\\site-packages (from transformers<5.0.0,>=4.34.0->sentence_transformers) (0.4.5)\n",
      "Requirement already satisfied: joblib>=1.2.0 in f:\\mini-conda\\envs\\test\\lib\\site-packages (from scikit-learn->sentence_transformers) (1.4.2)\n",
      "Requirement already satisfied: threadpoolctl>=3.1.0 in f:\\mini-conda\\envs\\test\\lib\\site-packages (from scikit-learn->sentence_transformers) (3.5.0)\n",
      "Requirement already satisfied: MarkupSafe>=2.0 in f:\\mini-conda\\envs\\test\\lib\\site-packages (from jinja2->torch>=1.11.0->sentence_transformers) (2.1.5)\n",
      "Requirement already satisfied: charset-normalizer<4,>=2 in f:\\mini-conda\\envs\\test\\lib\\site-packages (from requests->huggingface-hub>=0.15.1->sentence_transformers) (3.3.2)\n",
      "Requirement already satisfied: idna<4,>=2.5 in f:\\mini-conda\\envs\\test\\lib\\site-packages (from requests->huggingface-hub>=0.15.1->sentence_transformers) (3.8)\n",
      "Requirement already satisfied: urllib3<3,>=1.21.1 in f:\\mini-conda\\envs\\test\\lib\\site-packages (from requests->huggingface-hub>=0.15.1->sentence_transformers) (2.2.2)\n",
      "Requirement already satisfied: certifi>=2017.4.17 in f:\\mini-conda\\envs\\test\\lib\\site-packages (from requests->huggingface-hub>=0.15.1->sentence_transformers) (2024.8.30)\n",
      "Requirement already satisfied: mpmath<1.4,>=1.1.0 in f:\\mini-conda\\envs\\test\\lib\\site-packages (from sympy->torch>=1.11.0->sentence_transformers) (1.3.0)\n"
     ]
    }
   ],
   "source": [
    "!pip install tenseal sentence_transformers"
   ]
  },
  {
   "cell_type": "code",
   "execution_count": 2,
   "metadata": {},
   "outputs": [
    {
     "name": "stderr",
     "output_type": "stream",
     "text": [
      "f:\\Mini-Conda\\envs\\test\\lib\\site-packages\\sentence_transformers\\cross_encoder\\CrossEncoder.py:11: TqdmWarning: IProgress not found. Please update jupyter and ipywidgets. See https://ipywidgets.readthedocs.io/en/stable/user_install.html\n",
      "  from tqdm.autonotebook import tqdm, trange\n"
     ]
    }
   ],
   "source": [
    "import tenseal as ts # pip install tenseal\n",
    "from sentence_transformers import SentenceTransformer\n",
    "\n"
   ]
  },
  {
   "cell_type": "code",
   "execution_count": 3,
   "metadata": {},
   "outputs": [
    {
     "name": "stderr",
     "output_type": "stream",
     "text": [
      "f:\\Mini-Conda\\envs\\test\\lib\\site-packages\\huggingface_hub\\file_download.py:1150: FutureWarning: `resume_download` is deprecated and will be removed in version 1.0.0. Downloads always resume when possible. If you want to force a new download, use `force_download=True`.\n",
      "  warnings.warn(\n"
     ]
    }
   ],
   "source": [
    "model = SentenceTransformer('all-MiniLM-L6-v2')"
   ]
  },
  {
   "cell_type": "code",
   "execution_count": 4,
   "metadata": {},
   "outputs": [],
   "source": [
    "sentences = [\n",
    "   \"The quick brown fox jumps over the lazy dog.\",\n",
    "   \"I watched the sunset over the ocean.\",\n",
    "   \"Artificial intelligence is transforming industries.\",\n",
    "   \"The library was quiet and smelled like old books.\",\n",
    "   \"He dreamed of traveling to distant galaxies.\",\n",
    "   \"Innovation drives progress in the tech world.\",\n",
    "   \"The chef prepared a delicious meal for the guests.\",\n",
    "   \"Climate change poses a significant threat to global biodiversity.\",\n",
    "   \"The athlete trained rigorously for the upcoming marathon.\",\n",
    "   \"Music has the power to evoke deep emotional responses.\"\n",
    "]"
   ]
  },
  {
   "cell_type": "code",
   "execution_count": 5,
   "metadata": {},
   "outputs": [
    {
     "name": "stdout",
     "output_type": "stream",
     "text": [
      "[[ 0.04393356  0.05893437  0.04817845 ...  0.05216283  0.05610655\n",
      "   0.10206394]\n",
      " [ 0.02740664  0.04301418  0.03891345 ... -0.01506043 -0.08190969\n",
      "   0.03566788]\n",
      " [ 0.03608516 -0.02447894  0.05895456 ... -0.0826278   0.07626031\n",
      "  -0.02810952]\n",
      " ...\n",
      " [-0.04316908  0.12324496  0.09774677 ... -0.13736208 -0.05429132\n",
      "  -0.02212724]\n",
      " [-0.01195204  0.08340724 -0.03579247 ... -0.00149685  0.00464321\n",
      "  -0.00069312]\n",
      " [ 0.05495497 -0.01101494  0.09608353 ...  0.0507521   0.01033211\n",
      "  -0.03917956]]\n"
     ]
    }
   ],
   "source": [
    "embeddings = model.encode(sentences)\n",
    "print(embeddings)"
   ]
  },
  {
   "cell_type": "code",
   "execution_count": 6,
   "metadata": {},
   "outputs": [
    {
     "name": "stdout",
     "output_type": "stream",
     "text": [
      "[[-2.43510008e-02  1.67066492e-02  3.77205350e-02 -9.16334614e-03\n",
      "  -3.05844937e-02 -1.70570984e-02  7.42098019e-02  4.57434356e-02\n",
      "  -9.39853676e-03  9.90003720e-03 -5.70719643e-03  7.58130616e-03\n",
      "   3.95796336e-02  1.52103230e-02 -8.32180381e-02  1.93441920e-02\n",
      "  -2.19869111e-02 -3.32064331e-02 -1.81014091e-01 -1.30236104e-01\n",
      "  -2.25592218e-03  1.33974878e-02 -2.42931824e-02 -3.69969197e-02\n",
      "   2.02792673e-03  8.56798068e-02  4.72739432e-03 -3.41751822e-03\n",
      "  -6.03483012e-03 -1.15787156e-01  6.68601841e-02 -1.86577030e-02\n",
      "   8.78416747e-02 -7.42426515e-03 -9.35673565e-02  6.14010170e-02\n",
      "  -8.11372325e-02  1.22457677e-02  3.97397652e-02 -2.58959970e-03\n",
      "  -4.66312841e-02 -8.17788765e-02  3.95028554e-02  1.54695408e-02\n",
      "   4.36929390e-02  1.03639163e-01 -5.84595054e-02  3.67365293e-02\n",
      "  -5.27095497e-02  4.05691676e-02 -1.25884548e-01  6.46113092e-03\n",
      "  -3.58352363e-02 -1.00229466e-02 -2.38813832e-02  4.59325314e-02\n",
      "   1.45444460e-02  1.94852799e-02  2.84130704e-02 -5.51534817e-02\n",
      "   2.42295358e-02 -5.30302078e-02  1.52513785e-02 -4.38723760e-03\n",
      "   9.24242809e-02  3.38810608e-02 -4.73657586e-02  3.20547223e-02\n",
      "   1.30610098e-03 -5.11560105e-02  2.58630849e-02  8.15035477e-02\n",
      "   4.08905931e-02  1.92124117e-02  5.65985776e-02 -5.27578816e-02\n",
      "   3.05589698e-02 -1.66594945e-02  7.88109601e-02 -5.42352758e-02\n",
      "  -4.22054529e-02 -4.54182625e-02 -5.27578145e-02  1.12250991e-01\n",
      "   1.99316964e-02 -4.24990207e-02 -1.16696171e-02  2.42670476e-02\n",
      "   1.91510096e-02 -1.65888797e-02 -1.02697751e-02 -8.53431970e-02\n",
      "   2.38767862e-02 -4.21544984e-02 -2.49613747e-02  6.19506277e-02\n",
      "  -4.62079095e-03 -1.53660670e-01  1.11653109e-03  1.94198459e-01\n",
      "  -3.38072851e-02  2.62334105e-02 -2.03990266e-02  1.30394311e-03\n",
      "  -1.01782870e-03 -2.41388269e-02  1.75467432e-02 -9.76699498e-03\n",
      "   7.05020130e-02 -1.37696624e-01 -1.11264601e-01 -1.72073338e-02\n",
      "   6.60452917e-02 -5.18804602e-02  1.88887015e-03  1.45712961e-02\n",
      "   6.07834123e-02  9.62363705e-02  1.35466103e-02  1.93163343e-02\n",
      "  -1.50678126e-04 -2.65870448e-02 -9.33368597e-03  7.07330927e-02\n",
      "  -3.51048936e-03 -6.24418221e-02 -4.46710289e-02 -8.74643745e-34\n",
      "  -1.11840829e-01 -4.25403528e-02  2.74411365e-02  6.56786785e-02\n",
      "   3.01816966e-03 -4.41584699e-02  5.21079591e-03 -3.68376561e-02\n",
      "  -1.56304464e-02  2.05581076e-02 -5.91447428e-02  7.39930198e-03\n",
      "  -2.87422519e-02  4.04980667e-02  1.33947268e-01  6.82025636e-03\n",
      "  -1.64482817e-02  8.21934417e-02 -2.25155558e-02 -3.64417210e-02\n",
      "   6.52770177e-02  2.09082719e-02 -5.47907688e-03 -3.83964255e-02\n",
      "   1.50726293e-03  7.41435820e-03  1.69167891e-02 -6.27623200e-02\n",
      "   3.53255346e-02 -1.43707162e-02  2.77289934e-02  8.37864131e-02\n",
      "  -2.77987495e-02 -3.60088213e-03  3.89989838e-02 -2.68073268e-02\n",
      "  -1.86829194e-02  1.89488064e-02  6.53172135e-02  7.15139275e-03\n",
      "   4.73672664e-03 -3.00885877e-03  4.01596315e-02  2.79135611e-02\n",
      "  -4.55062883e-03  1.22101912e-02  8.71406943e-02 -6.99004717e-03\n",
      "  -3.74347866e-02  1.13263596e-02  1.52529394e-02  1.37860849e-02\n",
      "   1.79088023e-02 -9.93888360e-03  9.02080014e-02  5.17221093e-02\n",
      "  -3.43367532e-02  4.39858669e-03 -1.88786369e-02 -3.13103721e-02\n",
      "   8.21778104e-02  1.68984458e-02 -2.21489910e-02  6.83301687e-02\n",
      "   1.57087371e-02  2.02988833e-02  6.22226717e-03  1.64063573e-02\n",
      "   1.27188280e-01  1.49969859e-02 -1.08419405e-02  1.82138896e-03\n",
      "   3.16951461e-02 -4.42872941e-02 -5.22761382e-02  2.28571072e-02\n",
      "   5.09363562e-02 -1.89349800e-02  2.78293830e-03 -3.36883664e-02\n",
      "  -1.35679811e-01 -2.70904321e-02 -3.56869102e-02 -3.35654356e-02\n",
      "   4.78139855e-02 -5.38318651e-03  2.13429965e-02 -4.00237031e-02\n",
      "   1.93862915e-02  1.19640036e-02 -4.33195345e-02  4.73590568e-04\n",
      "   3.49194854e-02  1.80345643e-02 -6.24571033e-02  8.23460609e-34\n",
      "  -9.45435464e-02  1.37877576e-02 -2.54861545e-02  9.90190729e-02\n",
      "   4.55406122e-02 -2.04020031e-02 -2.96112206e-02 -5.91110066e-02\n",
      "   4.23627757e-02  8.43915641e-02 -4.32850718e-02 -7.75478873e-03\n",
      "   4.93218154e-02  4.20635082e-02 -3.65136899e-02  1.43703641e-02\n",
      "   4.03215326e-02 -5.88978827e-02  1.00824097e-02  5.98607883e-02\n",
      "  -2.79440992e-02  3.49824689e-02 -8.77224877e-02 -6.04771189e-02\n",
      "  -4.82456712e-03  8.77964124e-02 -5.48230065e-03 -2.16950998e-02\n",
      "  -4.81638461e-02  4.69674654e-02  8.44870135e-03 -5.17062172e-02\n",
      "  -2.04424858e-02  8.58060867e-02 -2.25817412e-02  3.43743823e-02\n",
      "  -1.44461226e-02  3.08365934e-03 -4.64503579e-02  3.04366089e-02\n",
      "   3.97487246e-02  2.96017546e-02 -9.31077376e-02  5.15383482e-02\n",
      "   7.90363550e-03 -5.70644699e-02 -4.17766012e-02  8.97843689e-02\n",
      "  -8.22839886e-03 -4.07462344e-02 -5.34619391e-02 -3.44061181e-02\n",
      "  -4.52984497e-02 -9.71218571e-02 -5.81881627e-02  6.09218366e-02\n",
      "  -9.01377946e-03  6.92220544e-03  1.23542780e-02  6.20968118e-02\n",
      "  -5.94540546e-03 -8.63239467e-02  5.87447360e-02  5.32072149e-02\n",
      "  -5.35400696e-02  3.94803807e-02 -4.48980331e-02  7.28485137e-02\n",
      "  -3.95670794e-02 -5.13141900e-02  1.03320748e-01  2.19017845e-02\n",
      "   1.78427857e-04  9.47284978e-03  2.20223200e-02 -6.82999799e-03\n",
      "  -1.28958359e-01 -9.81828663e-03 -3.64118889e-02 -4.24180999e-02\n",
      "   4.36809519e-03 -4.76448089e-02  6.52907696e-03  1.02540590e-01\n",
      "  -5.32633252e-02  7.33472928e-02  1.58616938e-02 -2.91009769e-02\n",
      "   2.50948835e-02 -6.31107986e-02 -4.34674434e-02  6.70985281e-02\n",
      "   1.49200838e-02 -9.57770739e-04 -9.87171754e-02 -1.46827084e-08\n",
      "   4.58244327e-03 -6.70626312e-02  7.64820278e-02 -1.98438354e-02\n",
      "   6.73918575e-02  4.48266193e-02 -5.10261841e-02 -7.68475328e-03\n",
      "  -2.94028800e-02  2.88420655e-02  1.89416613e-02 -2.41920259e-02\n",
      "   4.40783575e-02  4.41607982e-02  3.44583951e-02  4.65204902e-02\n",
      "   2.16363184e-02 -1.77736965e-03 -2.99775810e-03  1.43384347e-02\n",
      "   1.25267237e-01  3.43249738e-02 -1.46065569e-02  3.91156450e-02\n",
      "  -2.33428506e-03 -1.43672703e-02  1.00713093e-02  2.44279057e-02\n",
      "  -4.17182967e-02  8.83189961e-02 -3.15174274e-02  3.00880410e-02\n",
      "  -2.93091498e-03  4.87434492e-03  9.58086401e-02  9.39629897e-02\n",
      "   1.41487485e-02 -7.72436559e-02 -3.91572863e-02 -1.06168212e-02\n",
      "  -8.59106518e-03  6.41928911e-02 -3.30353305e-02 -3.04564293e-02\n",
      "   9.46797580e-02 -9.00655333e-03 -2.98818462e-02 -1.32989511e-01\n",
      "   5.98313808e-02 -1.16666825e-02  7.18415342e-03  3.56574878e-02\n",
      "   4.02572053e-03  5.62684834e-02  7.66143501e-02 -1.00824209e-02\n",
      "   5.67532629e-02  2.34777238e-02 -6.38443157e-02  8.94269049e-02\n",
      "   4.38524075e-02  4.33423072e-02  4.61646281e-02 -7.03440905e-02]]\n"
     ]
    }
   ],
   "source": [
    "query_text = \"artificial intelligence\"\n",
    "query_embedding = model.encode([query_text])\n",
    "print(query_embedding)"
   ]
  },
  {
   "cell_type": "code",
   "execution_count": 7,
   "metadata": {},
   "outputs": [],
   "source": [
    "context = ts.context(\n",
    "           ts.SCHEME_TYPE.CKKS,\n",
    "           poly_modulus_degree = 8192,\n",
    "           coeff_mod_bit_sizes = [60, 40, 40, 60]\n",
    "         )\n",
    "\n",
    "\n",
    "context.generate_galois_keys()\n",
    "context.global_scale = 2**40"
   ]
  },
  {
   "cell_type": "code",
   "execution_count": 8,
   "metadata": {},
   "outputs": [],
   "source": [
    "secret_context = context.serialize(save_secret_key = True)"
   ]
  },
  {
   "cell_type": "code",
   "execution_count": 9,
   "metadata": {},
   "outputs": [],
   "source": [
    "context.make_context_public() #drop the secret_key from the context\n",
    "public_context = context.serialize()"
   ]
  },
  {
   "cell_type": "code",
   "execution_count": 10,
   "metadata": {},
   "outputs": [],
   "source": [
    "context = ts.context_from(secret_context)"
   ]
  },
  {
   "cell_type": "code",
   "execution_count": 11,
   "metadata": {},
   "outputs": [],
   "source": [
    "enc_queryvec = ts.ckks_vector(context, query_embedding[0].tolist())"
   ]
  },
  {
   "cell_type": "code",
   "execution_count": 12,
   "metadata": {},
   "outputs": [],
   "source": [
    "cosine_similarity_ranking = []\n",
    "for i in range(len(sentences)):\n",
    "    enc_sentence = ts.ckks_vector(context, embeddings[i].tolist())\n",
    "    dot_product = enc_queryvec.dot(enc_sentence)\n",
    "    cosine_similarity = dot_product.decrypt()[0]\n",
    "    cosine_similarity_ranking.append({sentences[i]: abs(cosine_similarity)})"
   ]
  },
  {
   "cell_type": "code",
   "execution_count": 13,
   "metadata": {},
   "outputs": [
    {
     "name": "stdout",
     "output_type": "stream",
     "text": [
      "{'Artificial intelligence is transforming industries.': 0.5606294297669284}\n",
      "\n",
      "{'Innovation drives progress in the tech world.': 0.26706054339800056}\n",
      "\n",
      "{'Music has the power to evoke deep emotional responses.': 0.1741896879622748}\n",
      "\n",
      "{'The athlete trained rigorously for the upcoming marathon.': 0.11048240679011677}\n",
      "\n",
      "{'The chef prepared a delicious meal for the guests.': 0.09010653878252728}\n",
      "\n",
      "{'I watched the sunset over the ocean.': 0.07017185989003774}\n",
      "\n",
      "{'He dreamed of traveling to distant galaxies.': 0.059552227540030124}\n",
      "\n",
      "{'Climate change poses a significant threat to global biodiversity.': 0.042122459425155724}\n",
      "\n",
      "{'The library was quiet and smelled like old books.': 0.03255208724006971}\n",
      "\n",
      "{'The quick brown fox jumps over the lazy dog.': 0.008749775847558053}\n",
      "\n"
     ]
    }
   ],
   "source": [
    "search_results = sorted(cosine_similarity_ranking, key=lambda x: list(x.values())[0], reverse=True)\n",
    "for item in search_results:\n",
    "    print(item)\n",
    "    print()"
   ]
  }
 ],
 "metadata": {
  "kernelspec": {
   "display_name": "test",
   "language": "python",
   "name": "python3"
  },
  "language_info": {
   "codemirror_mode": {
    "name": "ipython",
    "version": 3
   },
   "file_extension": ".py",
   "mimetype": "text/x-python",
   "name": "python",
   "nbconvert_exporter": "python",
   "pygments_lexer": "ipython3",
   "version": "3.10.14"
  }
 },
 "nbformat": 4,
 "nbformat_minor": 2
}
