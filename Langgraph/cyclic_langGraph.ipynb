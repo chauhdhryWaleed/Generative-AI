{
 "cells": [
  {
   "cell_type": "code",
   "execution_count": 1,
   "metadata": {},
   "outputs": [
    {
     "name": "stderr",
     "output_type": "stream",
     "text": [
      "USER_AGENT environment variable not set, consider setting it to identify your requests.\n"
     ]
    }
   ],
   "source": [
    "from langchain.text_splitter import RecursiveCharacterTextSplitter\n",
    "from langchain_community.document_loaders import WebBaseLoader\n",
    "from langchain_community.vectorstores import Chroma\n",
    "from langchain_community.embeddings.fastembed import FastEmbedEmbeddings"
   ]
  },
  {
   "cell_type": "code",
   "execution_count": 2,
   "metadata": {},
   "outputs": [],
   "source": [
    "import os\n",
    "os.environ['USER_AGENT'] = 'myagent'"
   ]
  },
  {
   "cell_type": "code",
   "execution_count": 3,
   "metadata": {},
   "outputs": [
    {
     "name": "stderr",
     "output_type": "stream",
     "text": [
      "f:\\Mini-Conda\\envs\\test\\lib\\site-packages\\tqdm\\auto.py:21: TqdmWarning: IProgress not found. Please update jupyter and ipywidgets. See https://ipywidgets.readthedocs.io/en/stable/user_install.html\n",
      "  from .autonotebook import tqdm as notebook_tqdm\n",
      "Fetching 5 files: 100%|██████████| 5/5 [00:00<00:00, 615.33it/s]\n"
     ]
    }
   ],
   "source": [
    "embed_model = FastEmbedEmbeddings(model_name=\"BAAI/bge-base-en-v1.5\")"
   ]
  },
  {
   "cell_type": "code",
   "execution_count": 4,
   "metadata": {},
   "outputs": [],
   "source": [
    "from langchain_community.llms import Ollama\n",
    "llm = Ollama(\n",
    "    model=\"llama3:8b-instruct-q4_K_M\",\n",
    "    temperature=0\n",
    ")"
   ]
  },
  {
   "cell_type": "code",
   "execution_count": 5,
   "metadata": {},
   "outputs": [
    {
     "name": "stdout",
     "output_type": "stream",
     "text": [
      "len of documents :3\n"
     ]
    }
   ],
   "source": [
    "urls = [\n",
    "    \"https://lilianweng.github.io/posts/2023-06-23-agent/\",\n",
    "    \"https://lilianweng.github.io/posts/2023-03-15-prompt-engineering/\",\n",
    "    \"https://lilianweng.github.io/posts/2023-10-25-adv-attack-llm/\",\n",
    "]\n",
    "\n",
    "docs = [WebBaseLoader(url).load() for url in urls]\n",
    "docs_list = [item for sublist in docs for item in sublist]\n",
    "print(f\"len of documents :{len(docs_list)}\")"
   ]
  },
  {
   "cell_type": "code",
   "execution_count": 6,
   "metadata": {},
   "outputs": [
    {
     "name": "stdout",
     "output_type": "stream",
     "text": [
      "length of document chunks generated :187\n"
     ]
    }
   ],
   "source": [
    "text_splitter = RecursiveCharacterTextSplitter.from_tiktoken_encoder(\n",
    "    chunk_size=256, chunk_overlap=0\n",
    ")\n",
    "doc_splits = text_splitter.split_documents(docs_list)\n",
    "print(f\"length of document chunks generated :{len(doc_splits)}\")"
   ]
  },
  {
   "cell_type": "code",
   "execution_count": 7,
   "metadata": {},
   "outputs": [],
   "source": [
    "vectorstore = Chroma.from_documents(documents=doc_splits,\n",
    "                                    embedding=embed_model,\n",
    "                                    collection_name=\"local-rag\")"
   ]
  },
  {
   "cell_type": "code",
   "execution_count": 2,
   "metadata": {},
   "outputs": [
    {
     "name": "stdout",
     "output_type": "stream",
     "text": [
      "Object `Chroma.from_documents` not found.\n"
     ]
    }
   ],
   "source": [
    "Chroma.from_documents?"
   ]
  },
  {
   "cell_type": "code",
   "execution_count": 8,
   "metadata": {},
   "outputs": [],
   "source": [
    "retriever = vectorstore.as_retriever(search_kwargs={\"k\":5})"
   ]
  },
  {
   "cell_type": "code",
   "execution_count": 9,
   "metadata": {},
   "outputs": [
    {
     "name": "stdout",
     "output_type": "stream",
     "text": [
      "tags=['Chroma', 'FastEmbedEmbeddings'] vectorstore=<langchain_community.vectorstores.chroma.Chroma object at 0x00000212EA13FFD0> search_kwargs={'k': 5}\n"
     ]
    }
   ],
   "source": [
    "print(retriever)"
   ]
  },
  {
   "cell_type": "code",
   "execution_count": 64,
   "metadata": {},
   "outputs": [],
   "source": [
    "def pretty_print_docs(docs):\n",
    "    print(\n",
    "        f\"\\n{'-' * 100}\\n\".join(\n",
    "            [\n",
    "                f\"Document {i+1}:\\n\\n{d.page_content}\\nMetadata: {d.metadata}\"\n",
    "                for i, d in enumerate(docs)\n",
    "            ]\n",
    "        )\n",
    "    )"
   ]
  },
  {
   "cell_type": "markdown",
   "metadata": {},
   "source": [
    "routing questions"
   ]
  },
  {
   "cell_type": "code",
   "execution_count": 9,
   "metadata": {},
   "outputs": [],
   "source": [
    "import time\n",
    "from langchain.prompts import PromptTemplate\n",
    "from langchain_core.output_parsers import JsonOutputParser\n",
    "from langchain_core.output_parsers import StrOutputParser\n",
    "question = \"what is prompt engineering\"\n",
    "\n",
    "\n",
    "# prompt = PromptTemplate(\n",
    "#     template=\"\"\"<|begin_of_text|><|start_header_id|>system<|end_header_id|> You are an expert at routing a \n",
    "#     user question to a vectorstore or web search. Use the vectorstore for questions on LLM  agents, \n",
    "#     prompt engineering, and adversarial attacks. You do not need to be stringent with the keywords \n",
    "#     in the question related to these topics. Otherwise, use web-search. Give a binary choice 'web_search' \n",
    "#     or 'vectorstore' based on the question. Return the a JSON with a single key 'datasource' and \n",
    "#     no premable or explaination. Question to route: {question} <|eot_id|><|start_header_id|>assistant<|end_header_id|>\"\"\",\n",
    "#     input_variables=[\"question\"],\n",
    "# )\n",
    "# start = time.time()\n",
    "# question_router = prompt | llm | JsonOutputParser()\n",
    "# #\n",
    "\n",
    "# print(question_router.invoke({\"question\": question}))\n",
    "# end = time.time()\n",
    "# print(f\"The time required to generate response by Router Chain in seconds:{end - start}\")\n",
    "\n",
    "\n"
   ]
  },
  {
   "cell_type": "markdown",
   "metadata": {},
   "source": [
    "ans generator"
   ]
  },
  {
   "cell_type": "code",
   "execution_count": 10,
   "metadata": {},
   "outputs": [],
   "source": [
    "prompt = PromptTemplate(\n",
    "    template=\"\"\"<|begin_of_text|><|start_header_id|>system<|end_header_id|> You are an assistant for question-answering tasks. \n",
    "    Use the following pieces of retrieved context to answer the question. If you don't know the answer, just say that you don't know. \n",
    "    Use three sentences maximum and keep the answer concise <|eot_id|><|start_header_id|>user<|end_header_id|>\n",
    "    Question: {question} \n",
    "    Context: {context} \n",
    "    Answer: <|eot_id|><|start_header_id|>assistant<|end_header_id|>\"\"\",\n",
    "    input_variables=[\"question\", \"document\"],\n",
    ")\n",
    "\n",
    "# Post-processing\n",
    "def format_docs(docs):\n",
    "    return \"\\n\\n\".join(doc.page_content for doc in docs)\n",
    "\n",
    "# Chain\n",
    "start = time.time()\n",
    "rag_chain = prompt | llm | StrOutputParser()\n",
    "\n",
    "# question = \"agent memory\"\n",
    "question = \"what is prompt engineering\""
   ]
  },
  {
   "cell_type": "markdown",
   "metadata": {},
   "source": [
    "retrieval grader"
   ]
  },
  {
   "cell_type": "code",
   "execution_count": 11,
   "metadata": {},
   "outputs": [],
   "source": [
    "#\n",
    "prompt = PromptTemplate(\n",
    "    template=\"\"\"<|begin_of_text|><|start_header_id|>system<|end_header_id|> You are a grader assessing relevance \n",
    "    of a retrieved document to a user question. If the document contains keywords related to the user question, \n",
    "    grade it as relevant. It does not need to be a stringent test. The goal is to filter out erroneous retrievals. \\n\n",
    "    Give a binary score 'yes' or 'no' score to indicate whether the document is relevant to the question. \\n\n",
    "    Provide the binary score as a JSON with a single key 'score' and no premable or explaination.\n",
    "     <|eot_id|><|start_header_id|>user<|end_header_id|>\n",
    "    Here is the retrieved document: \\n\\n {document} \\n\\n\n",
    "    Here is the user question: {question} \\n <|eot_id|><|start_header_id|>assistant<|end_header_id|>\n",
    "    \"\"\",\n",
    "    input_variables=[\"question\", \"document\"],\n",
    ")\n",
    "start = time.time()\n",
    "retrieval_grader = prompt | llm | JsonOutputParser()\n",
    "# question = \"agent memory\"\n",
    "# docs = retriever.invoke(question)\n"
   ]
  },
  {
   "cell_type": "markdown",
   "metadata": {},
   "source": [
    "search simialrity with score"
   ]
  },
  {
   "cell_type": "code",
   "execution_count": 13,
   "metadata": {},
   "outputs": [
    {
     "name": "stdout",
     "output_type": "stream",
     "text": [
      "Document: Building agents with LLM (large language model) as its core controller is a cool concept. Several proof-of-concepts demos, such as AutoGPT, GPT-Engineer and BabyAGI, serve as inspiring examples. The potentiality of LLM extends beyond generating well-written copies, stories, essays and programs; it can be framed as a powerful general problem solver.\n",
      "Agent System Overview#\n",
      "In a LLM-powered autonomous agent system, LLM functions as the agent’s brain, complemented by several key components:\n",
      "\n",
      "Planning\n",
      "\n",
      "Subgoal and decomposition: The agent breaks down large tasks into smaller, manageable subgoals, enabling efficient handling of complex tasks.\n",
      "Reflection and refinement: The agent can do self-criticism and self-reflection over past actions, learn from mistakes and refine them for future steps, thereby improving the quality of final results.\n",
      "\n",
      "\n",
      "Memory\n",
      "Similarity Score: 0.6556628607706034\n",
      "\n",
      "Document: Weng, Lilian. (Jun 2023). “LLM-powered Autonomous Agents”. Lil’Log. https://lilianweng.github.io/posts/2023-06-23-agent/.\n",
      "Similarity Score: 0.6511892678291116\n",
      "\n",
      "Document: LLM Powered Autonomous Agents | Lil'Log\n",
      "\n",
      "\n",
      "\n",
      "\n",
      "\n",
      "\n",
      "\n",
      "\n",
      "\n",
      "\n",
      "\n",
      "\n",
      "\n",
      "\n",
      "\n",
      "\n",
      "\n",
      "\n",
      "\n",
      "\n",
      "\n",
      "\n",
      "\n",
      "\n",
      "\n",
      "\n",
      "\n",
      "\n",
      "\n",
      "\n",
      "\n",
      "\n",
      "\n",
      "\n",
      "\n",
      "\n",
      "\n",
      "\n",
      "\n",
      "Lil'Log\n",
      "\n",
      "\n",
      "\n",
      "\n",
      "\n",
      "\n",
      "\n",
      "\n",
      "\n",
      "\n",
      "\n",
      "\n",
      "\n",
      "\n",
      "\n",
      "\n",
      "\n",
      "\n",
      "\n",
      "\n",
      "\n",
      "\n",
      "Posts\n",
      "\n",
      "\n",
      "\n",
      "\n",
      "Archive\n",
      "\n",
      "\n",
      "\n",
      "\n",
      "Search\n",
      "\n",
      "\n",
      "\n",
      "\n",
      "Tags\n",
      "\n",
      "\n",
      "\n",
      "\n",
      "FAQ\n",
      "\n",
      "\n",
      "\n",
      "\n",
      "emojisearch.app\n",
      "\n",
      "\n",
      "\n",
      "\n",
      "\n",
      "\n",
      "\n",
      "\n",
      "\n",
      "      LLM Powered Autonomous Agents\n",
      "    \n",
      "Date: June 23, 2023  |  Estimated Reading Time: 31 min  |  Author: Lilian Weng\n",
      "\n",
      "\n",
      " \n",
      "\n",
      "\n",
      "Table of Contents\n",
      "\n",
      "\n",
      "\n",
      "Agent System Overview\n",
      "\n",
      "Component One: Planning\n",
      "\n",
      "Task Decomposition\n",
      "\n",
      "Self-Reflection\n",
      "\n",
      "\n",
      "Component Two: Memory\n",
      "\n",
      "Types of Memory\n",
      "\n",
      "Maximum Inner Product Search (MIPS)\n",
      "\n",
      "\n",
      "Component Three: Tool Use\n",
      "\n",
      "Case Studies\n",
      "\n",
      "Scientific Discovery Agent\n",
      "\n",
      "Generative Agents Simulation\n",
      "\n",
      "Proof-of-Concept Examples\n",
      "\n",
      "\n",
      "Challenges\n",
      "\n",
      "Citation\n",
      "\n",
      "References\n",
      "Similarity Score: 0.6347517018819233\n",
      "\n",
      "Document: Finite context length: The restricted context capacity limits the inclusion of historical information, detailed instructions, API call context, and responses. The design of the system has to work with this limited communication bandwidth, while mechanisms like self-reflection to learn from past mistakes would benefit a lot from long or infinite context windows. Although vector stores and retrieval can provide access to a larger knowledge pool, their representation power is not as powerful as full attention.\n",
      "\n",
      "\n",
      "Challenges in long-term planning and task decomposition: Planning over a lengthy history and effectively exploring the solution space remain challenging. LLMs struggle to adjust plans when faced with unexpected errors, making them less robust compared to humans who learn from trial and error.\n",
      "\n",
      "\n",
      "Reliability of natural language interface: Current agent system relies on natural language as an interface between LLMs and external components such as memory and tools. However, the reliability of model outputs is questionable, as LLMs may make formatting errors and occasionally exhibit rebellious behavior (e.g. refuse to follow an instruction). Consequently, much of the agent demo code focuses on parsing model output.\n",
      "\n",
      "\n",
      "Citation#\n",
      "Cited as:\n",
      "Similarity Score: 0.5998300033175549\n",
      "\n"
     ]
    }
   ],
   "source": [
    "docss=vectorstore.similarity_search_with_relevance_scores(\"llm agent memory\")\n",
    "\n",
    "for doc, score in docss:\n",
    "    print(f\"Document: {doc.page_content}\")\n",
    "    print(f\"Similarity Score: {score}\")\n",
    "    print()\n"
   ]
  },
  {
   "cell_type": "markdown",
   "metadata": {},
   "source": [
    "grading the retrieved content"
   ]
  },
  {
   "cell_type": "code",
   "execution_count": 14,
   "metadata": {},
   "outputs": [],
   "source": [
    "combined_text = docs[0].page_content + \"\\n\" + docs[1].page_content + \"\\n\" + docs[2].page_content\n",
    "\n",
    "\n",
    "\n",
    "print(retrieval_grader.invoke({\"question\": question, \"document\": combined_text}))\n",
    "end = time.time()\n",
    "print(f\"The time required to generate response by the retrieval grader in seconds:{end - start}\")"
   ]
  },
  {
   "cell_type": "markdown",
   "metadata": {},
   "source": [
    "generating ans with simple retrieval"
   ]
  },
  {
   "cell_type": "code",
   "execution_count": null,
   "metadata": {},
   "outputs": [],
   "source": [
    "context=combined_text\n",
    "\n",
    "combined_text = docs[0].page_content + \"\\n\" + docs[1].page_content + \"\\n\" + docs[2].page_content\n",
    "print(combined_text)\n",
    "answer = rag_chain.invoke({\"question\":question,\"context\":context })\n",
    "end = time.time()\n",
    "print(f\"The time required to generate response by the retrieval grader in seconds:{end - start}\")\n",
    "\n",
    "print(\"The generated answer is as \",answer)"
   ]
  },
  {
   "cell_type": "markdown",
   "metadata": {},
   "source": [
    "generating with re ranker"
   ]
  },
  {
   "cell_type": "markdown",
   "metadata": {},
   "source": [
    "retrieving with re ranker"
   ]
  },
  {
   "cell_type": "code",
   "execution_count": null,
   "metadata": {},
   "outputs": [],
   "source": [
    "from flashrank import Ranker, RerankRequest\n",
    "ranker = Ranker(model_name=\"rank_zephyr_7b_v1_full\", max_length=1024) # adjust max_length based on your passage length"
   ]
  },
  {
   "cell_type": "markdown",
   "metadata": {},
   "source": [
    "cross encoder as re ranker of sentence transformers"
   ]
  },
  {
   "cell_type": "code",
   "execution_count": 12,
   "metadata": {},
   "outputs": [
    {
     "name": "stderr",
     "output_type": "stream",
     "text": [
      "f:\\Mini-Conda\\envs\\test\\lib\\site-packages\\huggingface_hub\\file_download.py:1150: FutureWarning: `resume_download` is deprecated and will be removed in version 1.0.0. Downloads always resume when possible. If you want to force a new download, use `force_download=True`.\n",
      "  warnings.warn(\n"
     ]
    }
   ],
   "source": [
    "from sentence_transformers import CrossEncoder\n",
    "model = CrossEncoder(\"cross-encoder/ms-marco-MiniLM-L-6-v2\")"
   ]
  },
  {
   "cell_type": "code",
   "execution_count": 17,
   "metadata": {},
   "outputs": [
    {
     "data": {
      "text/plain": [
       "[{'corpus_id': 0,\n",
       "  'score': 10.67858,\n",
       "  'text': \"'To Kill a Mockingbird' is a novel by Harper Lee published in 1960. It was immediately successful, winning the Pulitzer Prize, and has become a classic of modern American literature.\"},\n",
       " {'corpus_id': 2,\n",
       "  'score': 9.761676,\n",
       "  'text': \"Harper Lee, an American novelist widely known for her novel 'To Kill a Mockingbird', was born in 1926 in Monroeville, Alabama. She received the Pulitzer Prize for Fiction in 1961.\"},\n",
       " {'corpus_id': 1,\n",
       "  'score': -3.3099546,\n",
       "  'text': \"The novel 'Moby-Dick' was written by Herman Melville and first published in 1851. It is considered a masterpiece of American literature and deals with complex themes of obsession, revenge, and the conflict between good and evil.\"},\n",
       " {'corpus_id': 5,\n",
       "  'score': -4.8989105,\n",
       "  'text': \"'The Great Gatsby', a novel written by American author F. Scott Fitzgerald, was published in 1925. The story is set in the Jazz Age and follows the life of millionaire Jay Gatsby and his pursuit of Daisy Buchanan.\"},\n",
       " {'corpus_id': 4,\n",
       "  'score': -5.0829654,\n",
       "  'text': \"The 'Harry Potter' series, which consists of seven fantasy novels written by British author J.K. Rowling, is among the most popular and critically acclaimed books of the modern era.\"},\n",
       " {'corpus_id': 3,\n",
       "  'score': -6.4780045,\n",
       "  'text': 'Jane Austen was an English novelist known primarily for her six major novels, which interpret, critique and comment upon the British landed gentry at the end of the 18th century.'}]"
      ]
     },
     "execution_count": 17,
     "metadata": {},
     "output_type": "execute_result"
    }
   ],
   "source": [
    "query = \"Who wrote 'To Kill a Mockingbird'?\"\n",
    "documents = [\n",
    "    \"'To Kill a Mockingbird' is a novel by Harper Lee published in 1960. It was immediately successful, winning the Pulitzer Prize, and has become a classic of modern American literature.\",\n",
    "    \"The novel 'Moby-Dick' was written by Herman Melville and first published in 1851. It is considered a masterpiece of American literature and deals with complex themes of obsession, revenge, and the conflict between good and evil.\",\n",
    "    \"Harper Lee, an American novelist widely known for her novel 'To Kill a Mockingbird', was born in 1926 in Monroeville, Alabama. She received the Pulitzer Prize for Fiction in 1961.\",\n",
    "    \"Jane Austen was an English novelist known primarily for her six major novels, which interpret, critique and comment upon the British landed gentry at the end of the 18th century.\",\n",
    "    \"The 'Harry Potter' series, which consists of seven fantasy novels written by British author J.K. Rowling, is among the most popular and critically acclaimed books of the modern era.\",\n",
    "    \"'The Great Gatsby', a novel written by American author F. Scott Fitzgerald, was published in 1925. The story is set in the Jazz Age and follows the life of millionaire Jay Gatsby and his pursuit of Daisy Buchanan.\"\n",
    "]\n",
    "\n",
    "model.rank(query, documents, return_documents=True)"
   ]
  },
  {
   "cell_type": "code",
   "execution_count": 18,
   "metadata": {},
   "outputs": [
    {
     "data": {
      "text/plain": [
       "9.901148"
      ]
     },
     "execution_count": 18,
     "metadata": {},
     "output_type": "execute_result"
    }
   ],
   "source": [
    "same = ['Freddie was a great singer', \"Freddie was a great singer\"]\n",
    "model.predict(same)"
   ]
  },
  {
   "cell_type": "code",
   "execution_count": 21,
   "metadata": {},
   "outputs": [
    {
     "data": {
      "text/plain": [
       "6.1508093"
      ]
     },
     "execution_count": 21,
     "metadata": {},
     "output_type": "execute_result"
    }
   ],
   "source": [
    "different = ['Elto', \"Elto\"]\n",
    "model.predict(different)"
   ]
  },
  {
   "cell_type": "code",
   "execution_count": 13,
   "metadata": {},
   "outputs": [],
   "source": [
    "def reranker(docs,quer):\n",
    "\n",
    "    query = quer\n",
    "\n",
    "    documents=[]\n",
    "    print(\"Previously retrieved documents are \")\n",
    "    for d in docs:\n",
    "        print(d.page_content)\n",
    "        print('\\n')\n",
    "        documents.append(d.page_content)\n",
    "\n",
    "    docu=model.rank(query, documents, return_documents=True)\n",
    "    \n",
    "    new=[]\n",
    "    for d in docu:\n",
    "        new.append(d['text'])\n",
    "        print(new)\n",
    "\n",
    "    print(\"After re ranking new document are as \")\n",
    "    for n in new:\n",
    "        print(n)\n",
    "        print('\\n')\n",
    "    return new\n",
    "\n",
    "\n",
    "\n"
   ]
  },
  {
   "cell_type": "code",
   "execution_count": 38,
   "metadata": {},
   "outputs": [],
   "source": [
    "question = \"agent memory\"\n",
    "docs = retriever.invoke(question)"
   ]
  },
  {
   "cell_type": "code",
   "execution_count": null,
   "metadata": {},
   "outputs": [],
   "source": [
    "docss=vectorstore.similarity_search_with_relevance_scores(\"llm agent memory\")\n",
    "\n",
    "for doc, score in docss:\n",
    "    print(f\"Document: {doc.page_content}\")\n",
    "    print(f\"Similarity Score: {score}\")\n",
    "    print()\n"
   ]
  },
  {
   "cell_type": "code",
   "execution_count": 39,
   "metadata": {},
   "outputs": [
    {
     "name": "stdout",
     "output_type": "stream",
     "text": [
      "[{'id': 0, 'text': 'Or\\n@article{weng2023agent,\\n  title   = \"LLM-powered Autonomous Agents\",\\n  author  = \"Weng, Lilian\",\\n  journal = \"lilianweng.github.io\",\\n  year    = \"2023\",\\n  month   = \"Jun\",\\n  url     = \"https://lilianweng.github.io/posts/2023-06-23-agent/\"\\n}\\nReferences#\\n[1] Wei et al. “Chain of thought prompting elicits reasoning in large language models.” NeurIPS 2022\\n[2] Yao et al. “Tree of Thoughts: Dliberate Problem Solving with Large Language Models.” arXiv preprint arXiv:2305.10601 (2023).\\n[3] Liu et al. “Chain of Hindsight Aligns Language Models with Feedback\\n“ arXiv preprint arXiv:2302.02676 (2023).\\n[4] Liu et al. “LLM+P: Empowering Large Language Models with Optimal Planning Proficiency” arXiv preprint arXiv:2304.11477 (2023).\\n[5] Yao et al. “ReAct: Synergizing reasoning and acting in language models.” ICLR 2023.\\n[6] Google Blog. “Announcing ScaNN: Efficient Vector Similarity Search” July 28, 2020.\\n[7] https://chat.openai.com/share/46ff149e-a4c7-4dd7-a800-fc4a642ea389\\n[8] Shinn & Labash. “Reflexion: an autonomous agent with dynamic memory and self-reflection” arXiv preprint arXiv:2303.11366 (2023).\\n[9] Laskin et al. “In-context Reinforcement Learning with Algorithm Distillation” ICLR 2023.\\n[10] Karpas et al. “MRKL Systems A modular, neuro-symbolic architecture that combines large language models, external knowledge sources and discrete reasoning.” arXiv preprint arXiv:2205.00445 (2022).'}, {'id': 1, 'text': 'Finite context length: The restricted context capacity limits the inclusion of historical information, detailed instructions, API call context, and responses. The design of the system has to work with this limited communication bandwidth, while mechanisms like self-reflection to learn from past mistakes would benefit a lot from long or infinite context windows. Although vector stores and retrieval can provide access to a larger knowledge pool, their representation power is not as powerful as full attention.\\n\\n\\nChallenges in long-term planning and task decomposition: Planning over a lengthy history and effectively exploring the solution space remain challenging. LLMs struggle to adjust plans when faced with unexpected errors, making them less robust compared to humans who learn from trial and error.\\n\\n\\nReliability of natural language interface: Current agent system relies on natural language as an interface between LLMs and external components such as memory and tools. However, the reliability of model outputs is questionable, as LLMs may make formatting errors and occasionally exhibit rebellious behavior (e.g. refuse to follow an instruction). Consequently, much of the agent demo code focuses on parsing model output.\\n\\n\\nCitation#\\nCited as:\\n\\nWeng, Lilian. (Jun 2023). “LLM-powered Autonomous Agents”. Lil’Log. https://lilianweng.github.io/posts/2023-06-23-agent/.'}, {'id': 2, 'text': \"LLM Powered Autonomous Agents | Lil'Log\\n\\n\\n\\n\\n\\n\\n\\n\\n\\n\\n\\n\\n\\n\\n\\n\\n\\n\\n\\n\\n\\n\\n\\n\\n\\n\\n\\n\\n\\n\\n\\n\\n\\n\\n\\n\\n\\n\\n\\nLil'Log\\n\\n\\n\\n\\n\\n\\n\\n\\n\\n\\n\\n\\n\\n\\n\\n\\n\\n\\n\\n\\n\\n\\nPosts\\n\\n\\n\\n\\nArchive\\n\\n\\n\\n\\nSearch\\n\\n\\n\\n\\nTags\\n\\n\\n\\n\\nFAQ\\n\\n\\n\\n\\nemojisearch.app\\n\\n\\n\\n\\n\\n\\n\\n\\n\\n      LLM Powered Autonomous Agents\\n    \\nDate: June 23, 2023  |  Estimated Reading Time: 31 min  |  Author: Lilian Weng\\n\\n\\n \\n\\n\\nTable of Contents\\n\\n\\n\\nAgent System Overview\\n\\nComponent One: Planning\\n\\nTask Decomposition\\n\\nSelf-Reflection\\n\\n\\nComponent Two: Memory\\n\\nTypes of Memory\\n\\nMaximum Inner Product Search (MIPS)\\n\\n\\nComponent Three: Tool Use\\n\\nCase Studies\\n\\nScientific Discovery Agent\\n\\nGenerative Agents Simulation\\n\\nProof-of-Concept Examples\\n\\n\\nChallenges\\n\\nCitation\\n\\nReferences\\n\\n\\n\\n\\n\\nBuilding agents with LLM (large language model) as its core controller is a cool concept. Several proof-of-concepts demos, such as AutoGPT, GPT-Engineer and BabyAGI, serve as inspiring examples. The potentiality of LLM extends beyond generating well-written copies, stories, essays and programs; it can be framed as a powerful general problem solver.\\nAgent System Overview#\\nIn a LLM-powered autonomous agent system, LLM functions as the agent’s brain, complemented by several key components:\\n\\nPlanning\\n\\nSubgoal and decomposition: The agent breaks down large tasks into smaller, manageable subgoals, enabling efficient handling of complex tasks.\\nReflection and refinement: The agent can do self-criticism and self-reflection over past actions, learn from mistakes and refine them for future steps, thereby improving the quality of final results.\\n\\n\\nMemory\\n\\nShort-term memory: I would consider all the in-context learning (See Prompt Engineering) as utilizing short-term memory of the model to learn.\\nLong-term memory: This provides the agent with the capability to retain and recall (infinite) information over extended periods, often by leveraging an external vector store and fast retrieval.\\n\\n\\nTool use\"}, {'id': 3, 'text': 'inquired about current trends in anticancer drug discovery;\\nselected a target;\\nrequested a scaffold targeting these compounds;\\nOnce the compound was identified, the model attempted its synthesis.\\n\\nThey also discussed the risks, especially with illicit drugs and bioweapons. They developed a test set containing a list of known chemical weapon agents and asked the agent to synthesize them. 4 out of 11 requests (36%) were accepted to obtain a synthesis solution and the agent attempted to consult documentation to execute the procedure. 7 out of 11 were rejected and among these 7 rejected cases, 5 happened after a Web search while 2 were rejected based on prompt only.\\nGenerative Agents Simulation#\\nGenerative Agents (Park, et al. 2023) is super fun experiment where 25 virtual characters, each controlled by a LLM-powered agent, are living and interacting in a sandbox environment, inspired by The Sims. Generative agents create believable simulacra of human behavior for interactive applications.\\nThe design of generative agents combines LLM with memory, planning and reflection mechanisms to enable agents to behave conditioned on past experience, as well as to interact with other agents.\\n\\nMemory stream: is a long-term memory module (external database) that records a comprehensive list of agents’ experience in natural language.\\n\\nEach element is an observation, an event directly provided by the agent.\\n- Inter-agent communication can trigger new natural language statements.\\n\\n\\nRetrieval model: surfaces the context to inform the agent’s behavior, according to relevance, recency and importance.\\n\\nRecency: recent events have higher scores\\nImportance: distinguish mundane from core memories. Ask LM directly.\\nRelevance: based on how related it is to the current situation / query.\\n\\n\\nReflection mechanism: synthesizes memories into higher level inferences over time and guides the agent’s future behavior. They are higher-level summaries of past events (<- note that this is a bit different from self-reflection above)\\n\\nPrompt LM with 100 most recent observations and to generate 3 most salient high-level questions given a set of observations/statements. Then ask LM to answer those questions.\\n\\n\\nPlanning & Reacting: translate the reflections and the environment information into actions'}, {'id': 4, 'text': \"nlp\\nlanguage-model\\nsafety\\nadversarial attacks\\nrobustness\\nredteam\\n\\n\\n\\n« \\n\\nThinking about High-Quality Human Data\\n\\n\\n »\\n\\nLLM Powered Autonomous Agents\\n\\n\\n\\n\\n\\n\\n\\n\\n\\n\\n\\n\\n\\n\\n\\n\\n\\n\\n\\n\\n\\n\\n\\n\\n\\n\\n\\n\\n\\n\\n\\n\\n\\n\\n\\n\\n\\n\\n© 2024 Lil'Log\\n\\n        Powered by\\n        Hugo &\\n        PaperMod\"}]\n"
     ]
    },
    {
     "name": "stderr",
     "output_type": "stream",
     "text": [
      "Llama.generate: prefix-match hit\n"
     ]
    }
   ],
   "source": [
    "print(reranker(docs))\n",
    "\n"
   ]
  },
  {
   "cell_type": "code",
   "execution_count": null,
   "metadata": {},
   "outputs": [],
   "source": []
  },
  {
   "cell_type": "markdown",
   "metadata": {},
   "source": [
    "generating ans with re ranker documents"
   ]
  },
  {
   "cell_type": "code",
   "execution_count": null,
   "metadata": {},
   "outputs": [],
   "source": [
    "\n",
    "\n",
    "new_list=[]\n",
    "for i in results:\n",
    "    new_list.append(i['text'])\n",
    "\n",
    "combined_text = new_list[0] + \"\\n\" + new_list[1] + \"\\n\" + new_list[2]\n",
    "answer = rag_chain.invoke({\"question\":question,\"context\":context })\n",
    "end = time.time()\n",
    "print(f\"The time required to generate response by the retrieval grader in seconds:{end - start}\")\n",
    "\n",
    "print(\"The generated answer is as \",answer)"
   ]
  },
  {
   "cell_type": "markdown",
   "metadata": {},
   "source": [
    "hallucination teller"
   ]
  },
  {
   "cell_type": "code",
   "execution_count": 14,
   "metadata": {},
   "outputs": [],
   "source": [
    "# Prompt\n",
    "prompt = PromptTemplate(\n",
    "    template=\"\"\" <|begin_of_text|><|start_header_id|>system<|end_header_id|> You are a grader assessing whether \n",
    "    an answer is grounded in / supported by a set of facts. Give a binary 'yes' or 'no' score to indicate \n",
    "    whether the answer is grounded in / supported by a set of facts. Provide the binary score as a JSON with a \n",
    "    single key 'score' and no preamble or explanation. <|eot_id|><|start_header_id|>user<|end_header_id|>\n",
    "    Here are the facts:\n",
    "    \\n ------- \\n\n",
    "    {documents} \n",
    "    \\n ------- \\n\n",
    "    Here is the answer: {generation}  <|eot_id|><|start_header_id|>assistant<|end_header_id|>\"\"\",\n",
    "    input_variables=[\"generation\", \"documents\"],\n",
    ")\n",
    "start = time.time()\n",
    "hallucination_grader = prompt | llm | JsonOutputParser()\n",
    "# hallucination_grader_response = hallucination_grader.invoke({\"documents\": docs, \"generation\": answer})\n",
    "# end = time.time()\n",
    "# print(f\"The time required to generate response by the generation chain in seconds:{end - start}\")\n",
    "# print(hallucination_grader_response)"
   ]
  },
  {
   "cell_type": "markdown",
   "metadata": {},
   "source": [
    "answer grader"
   ]
  },
  {
   "cell_type": "code",
   "execution_count": 15,
   "metadata": {},
   "outputs": [],
   "source": [
    "# Prompt\n",
    "prompt = PromptTemplate(\n",
    "    template=\"\"\"<|begin_of_text|><|start_header_id|>system<|end_header_id|> You are a grader assessing whether an \n",
    "    answer is useful to resolve a question. Give a binary score 'yes' or 'no' to indicate whether the answer is \n",
    "    useful to resolve a question. Provide the binary score as a JSON with a single key 'score' and no preamble or explanation.\n",
    "     <|eot_id|><|start_header_id|>user<|end_header_id|> Here is the answer:\n",
    "    \\n ------- \\n\n",
    "    {generation} \n",
    "    \\n ------- \\n\n",
    "    Here is the question: {question} <|eot_id|><|start_header_id|>assistant<|end_header_id|>\"\"\",\n",
    "    input_variables=[\"generation\", \"question\"],\n",
    ")\n",
    "start = time.time()\n",
    "answer_grader = prompt | llm | JsonOutputParser()\n",
    "# answer_grader_response = answer_grader.invoke({\"question\": question,\"generation\": answer})\n",
    "# end = time.time()\n",
    "# print(f\"The time required to generate response by the answer grader in seconds:{end - start}\")\n",
    "# print(answer_grader_response)\n"
   ]
  },
  {
   "cell_type": "markdown",
   "metadata": {},
   "source": [
    "setting up tavily search"
   ]
  },
  {
   "cell_type": "code",
   "execution_count": 16,
   "metadata": {},
   "outputs": [],
   "source": [
    "import os\n",
    "from langchain_community.tools.tavily_search import TavilySearchResults\n",
    "\n",
    "web_search_tool = TavilySearchResults(k=3)"
   ]
  },
  {
   "cell_type": "code",
   "execution_count": 113,
   "metadata": {},
   "outputs": [
    {
     "name": "stderr",
     "output_type": "stream",
     "text": [
      "C:\\Users\\MY IT STORE\\AppData\\Local\\Temp\\ipykernel_29568\\2240073956.py:1: LangChainDeprecationWarning: The method `BaseTool.__call__` was deprecated in langchain-core 0.1.47 and will be removed in 1.0. Use invoke instead.\n",
      "  web_search_tool(\"what is the capitla of pakistan\")\n"
     ]
    },
    {
     "data": {
      "text/plain": [
       "[{'url': 'https://worldpopulationreview.com/countries/pakistan/capital',\n",
       "  'content': \"The capital of Pakistan is Islamabad, which was founded 1960. Islamabad has been the capital since 8/14/1967. Although Islamabad is not the largest city in Pakistan, it functions as: Houses the government headquarters. Islamabad is located at 33.6844° N, 73.0479° E, at an elevation of 1,770' ft.\"},\n",
       " {'url': 'https://www.britannica.com/place/Islamabad',\n",
       "  'content': 'A further 1,400 square miles (3,626 square km) of hinterland, known as the Specified Areas, is subject to planning control, with the Margala Hills, 3,000 to 5,000 feet (900 to 1,500 metres) high, in the north and northeast. It includes an Olympic village and gardens and dairy, poultry, and vegetable farms, as well as such institutions as the Atomic Research Institute and the National Health Centre. The University of Islamabad was established in 1965 and the People’s Open University (later renamed the Allama Iqbal Open University) in 1974. The planned capital area of 350 square miles (906 square km) is an expanse of natural terraces and meadows surrounding the city. Recent News\\nIslamabad,\\ncity, capital of Pakistan, on the Potwar Plateau, 9 miles (14 km) northeast of Rawalpindi, the former interim capital.\\n'},\n",
       " {'url': 'https://www.visitislamabad.net/about-islamabad/',\n",
       "  'content': \"Islamabad was founded in 1960 as the new capital of Pakistan, replacing Karachi, which had served as the capital since the country's independence in 1947. The decision to move the capital to Islamabad was made due to the city's central location, security concerns, and a desire to create a modern capital that reflected Pakistan's ...\"},\n",
       " {'url': 'https://www.mappr.co/capital-cities/pakistan/',\n",
       "  'content': 'The real estate market, in particular, has seen consistent growth, making it a significant contributor to the city’s economy.\\nThings to Do and Places to See in Islamabad\\nIslamabad, the capital city, is brimming with a multitude of activities and sights to explore. Pakistan’s first capital was Karachi, but in the late 1950s, it was decided to build a new capital due to the geographical disadvantages of Karachi and the desire to create a city that could represent the diversity of the Pakistani nation.\\n Significant events in Islamabad’s history include the construction of the Faisal Mosque in the 1980s, which became an iconic symbol of the city, and hosting of the 1989 South Asian Association for Regional Cooperation (SAARC) summit.\\n One of the most notable archaeological sites is the UNESCO World Heritage Site of Taxila, about 20 miles northwest of Islamabad and an important city in the Gandhara civilization in the first millennium BCE. Where is Islamabad?\\nIslamabad is located in northeastern Pakistan, nestled against the backdrop of the Margalla Hills at the northern edge of the Potohar Plateau.'},\n",
       " {'url': 'https://en.wikipedia.org/wiki/Islamabad',\n",
       "  'content': 'Pakistan needed a capital that was easily accessible from all parts of the country.[29][32] Karachi, a business centre, was also considered unsuitable partly because of intervention of business interests in government affairs.[33] The newly selected location of Islamabad was closer to the army headquarters in Rawalpindi and the disputed territory of Kashmir in the north.[23]\\nA Greek firm of architects, led by Konstantinos Apostolos Doxiadis, designed the master plan of the city based on a grid plan which was triangular in shape with its apex towards the Margalla Hills.[34] Other universities include Air University, Bahria University, Center for Advanced Studies in Engineering, Federal Urdu University of Arts, Science and Technology, Hamdard University, National University of Computer and Emerging Sciences, Capital University of Science & Technology, National Defence University, Shifa Tameer-e-Millat University, National University of Modern Languages, Iqra University, International Islamic University, Virtual University of Pakistan, Muhammad Ali Jinnah University, The University of Lahore, Abasyn University, and The Millennium University College.\\nUniversities and colleges\\nHealthcare\\nIslamabad has the lowest rate of infant mortality in the country at 38 deaths per thousand compared to the national average of 78 deaths per thousand.[104] Islamabad has both public and private medical centres. The Rawalpindi Development Authority built the project at a cost of approximately Rs 24 billion, which was shared by both the Federal government and the provincial government of Punjab.[42]\\nGeography\\nIslamabad is located at 33°26′N 73°02′E\\ufeff / \\ufeff33.43°N 73.04°E\\ufeff / 33.43; 73.04 at the northern edge of the Pothohar Plateau and at the foot of the Margalla Hills in Islamabad Capital Territory. Its elevation is 540 metres (1,770\\xa0ft).[43][44] The modern capital and the ancient Gakhar city of Rawalpindi form a conurbation and are commonly referred to as the Twin Cities.[45][33]\\nTo the northeast of the city lies the colonial era hill station of Murree, and to the north lies the Haripur District of Khyber Pakhtunkhwa. In 2015–16, the Federal Department of Archaeology and Museums, with the financial support of National Fund for Cultural Heritage, carried out initial archaeological excavations in which unearthed the remains of a Buddhist stupa at Ban Faqiran, near the Shah Allah Ditta caves, which was dated to the 2nd to the 5th century CE.[28]\\nConstruction and development\\nWhen Pakistan gained independence in 1947, the southern port city of Karachi was its provisional national capital.'}]"
      ]
     },
     "execution_count": 113,
     "metadata": {},
     "output_type": "execute_result"
    }
   ],
   "source": [
    "web_search_tool(\"what is the capitla of pakistan\")"
   ]
  },
  {
   "cell_type": "markdown",
   "metadata": {},
   "source": [
    "creating a  graph"
   ]
  },
  {
   "cell_type": "code",
   "execution_count": 27,
   "metadata": {},
   "outputs": [],
   "source": [
    "from typing_extensions import TypedDict\n",
    "from typing import List\n",
    "\n",
    "### State\n",
    "\n",
    "class GraphState(TypedDict):\n",
    "    question : str\n",
    "    generation : str\n",
    "    web_search : str\n",
    "    documents : List[str]"
   ]
  },
  {
   "cell_type": "markdown",
   "metadata": {},
   "source": [
    "define nodes"
   ]
  },
  {
   "cell_type": "code",
   "execution_count": 28,
   "metadata": {},
   "outputs": [],
   "source": [
    "from langchain.schema import Document\n",
    "\n",
    "i=0\n",
    "def retrieve(state):\n",
    "    global i\n",
    "    \"\"\"\n",
    "    Retrieve documents from vectorstore\n",
    "\n",
    "    Args:\n",
    "        state (dict): The current graph state\n",
    "\n",
    "    Returns:\n",
    "        state (dict): New key added to state, documents, that contains retrieved documents\n",
    "    \"\"\"\n",
    "    print(\"---RETRIEVE---\")\n",
    "    question = state[\"question\"]\n",
    "\n",
    "    print(\"The value of i is \",i,'\\n')\n",
    "    # Retrieval\n",
    "    documents = retriever.invoke(question)\n",
    "    print(\"The question asked was \",question)\n",
    "    \n",
    "    nl=[]\n",
    "    f=[\"Ignore the query and everything \"]\n",
    "    for d in documents:\n",
    "        nl.append(d.page_content)\n",
    "    if i==0:\n",
    "        first3=nl[:1]\n",
    "        i+=1\n",
    "        return {\"documents\": first3, \"question\": question}\n",
    "        \n",
    "    else:\n",
    "        \n",
    "        res=reranker(documents,question)\n",
    "        return {\"documents\": res, \"question\": question}\n",
    "\n",
    "\n",
    "    \n",
    "#\n",
    "def generate(state):\n",
    "    \"\"\"\n",
    "    Generate answer using RAG on retrieved documents\n",
    "\n",
    "    Args:\n",
    "        state (dict): The current graph state\n",
    "\n",
    "    Returns:\n",
    "        state (dict): New key added to state, generation, that contains LLM generation\n",
    "    \"\"\"\n",
    "    print(\"---GENERATE---\")\n",
    "    question = state[\"question\"]\n",
    "    documents = state[\"documents\"]\n",
    "    \n",
    "    # RAG generation\n",
    "    generation = rag_chain.invoke({\"context\": documents, \"question\": question})\n",
    "    return {\"documents\": documents, \"question\": question, \"generation\": generation}\n",
    "#\n",
    "def grade_documents(state):\n",
    "    \"\"\"\n",
    "    Determines whether the retrieved documents are relevant to the question\n",
    "    If any document is not relevant, we will set a flag to run web search\n",
    "\n",
    "    Args:\n",
    "        state (dict): The current graph state\n",
    "\n",
    "    Returns:\n",
    "        state (dict): Filtered out irrelevant documents and updated web_search state\n",
    "    \"\"\"\n",
    "\n",
    "    print(\"---CHECK DOCUMENT RELEVANCE TO QUESTION---\")\n",
    "    question = state[\"question\"]\n",
    "    documents = state[\"documents\"]\n",
    "    \n",
    "    # Score each doc\n",
    "    filtered_docs = []\n",
    "    web_search = \"No\"\n",
    "    for d in documents:\n",
    "        score = retrieval_grader.invoke({\"question\": question, \"document\": d})\n",
    "        grade = score['score']\n",
    "        # Document relevant\n",
    "        if grade.lower() == \"yes\":\n",
    "            print(\"---GRADE: DOCUMENT RELEVANT---\")\n",
    "            filtered_docs.append(d)\n",
    "        # Document not relevant\n",
    "        else:\n",
    "            print(\"---GRADE: DOCUMENT NOT RELEVANT---\")\n",
    "            # We do not include the document in filtered_docs\n",
    "            # We set a flag to indicate that we want to run web search\n",
    "            web_search = \"Yes\"\n",
    "            continue\n",
    "    return {\"documents\": filtered_docs, \"question\": question, \"web_search\": web_search}\n",
    "#\n",
    "def websearch(state):\n",
    "    \"\"\"\n",
    "    Web search based based on the question\n",
    "\n",
    "    Args:\n",
    "        state (dict): The current graph state\n",
    "\n",
    "    Returns:\n",
    "        state (dict): Appended web results to documents\n",
    "    \"\"\"\n",
    "\n",
    "    print(\"---WEB SEARCH---\")\n",
    "    question = state[\"question\"]\n",
    "    documents = state[\"documents\"]\n",
    "\n",
    "    # Web search\n",
    "    docs = web_search_tool.invoke(question)\n",
    "    web_results = \"\\n\".join([d[\"content\"] for d in docs])\n",
    "    web_results = Document(page_content=web_results)  #changing back to document, not necssary in my opinion\n",
    "    if documents is not None:\n",
    "        documents.append(web_results)\n",
    "    else:\n",
    "        documents = [web_results]\n",
    "\n",
    "    print(\"Documents retrieved from web search are as \")\n",
    "    print('\\n')\n",
    "    for d in docs:\n",
    "        print(d[\"content\"])\n",
    "        print('\\n')\n",
    "    return {\"documents\": documents, \"question\": question}\n",
    "#"
   ]
  },
  {
   "cell_type": "code",
   "execution_count": 29,
   "metadata": {},
   "outputs": [],
   "source": [
    "def route_question(state):\n",
    "    \"\"\"\n",
    "    Route question to web search or RAG.\n",
    "\n",
    "    Args:\n",
    "        state (dict): The current graph state\n",
    "\n",
    "    Returns:\n",
    "        str: Next node to call\n",
    "    \"\"\"\n",
    "\n",
    "    print(\"---ROUTE QUESTION---\")\n",
    "    question = state[\"question\"]\n",
    "    print(question)\n",
    "    source = question_router.invoke({\"question\": question})  \n",
    "    print(source)\n",
    "    print(source['datasource'])\n",
    "    if source['datasource'] == 'web_search':\n",
    "        print(\"---ROUTE QUESTION TO WEB SEARCH---\")\n",
    "        return \"websearch\"\n",
    "    elif source['datasource'] == 'vectorstore':\n",
    "        print(\"---ROUTE QUESTION TO RAG---\")\n",
    "        return \"vectorstore\""
   ]
  },
  {
   "cell_type": "code",
   "execution_count": 30,
   "metadata": {},
   "outputs": [],
   "source": [
    "def decide_to_generate(state):\n",
    "    \"\"\"\n",
    "    Determines whether to generate an answer, or add web search\n",
    "\n",
    "    Args:\n",
    "        state (dict): The current graph state\n",
    "\n",
    "    Returns:\n",
    "        str: Binary decision for next node to call\n",
    "    \"\"\"\n",
    "\n",
    "    print(\"---ASSESS GRADED DOCUMENTS---\")\n",
    "    question = state[\"question\"]\n",
    "    web_search = state[\"web_search\"]\n",
    "    filtered_documents = state[\"documents\"]\n",
    "\n",
    "    if web_search == \"Yes\":\n",
    "        # All documents have been filtered check_relevance\n",
    "        # We will re-generate a new query\n",
    "        print(\"---DECISION: ALL DOCUMENTS ARE NOT RELEVANT TO QUESTION, INCLUDE WEB SEARCH---\")\n",
    "        return \"No relevent document found\"\n",
    "    else:\n",
    "        # We have relevant documents, so generate answer\n",
    "        print(\"---DECISION: GENERATE---\")\n",
    "        return \"Relevent Document Found\""
   ]
  },
  {
   "cell_type": "code",
   "execution_count": 31,
   "metadata": {},
   "outputs": [],
   "source": [
    "counter=0"
   ]
  },
  {
   "cell_type": "code",
   "execution_count": 32,
   "metadata": {},
   "outputs": [],
   "source": [
    "def grade_generation_v_documents_and_question(state):\n",
    "    \"\"\"\n",
    "    Determines whether the generation is grounded in the document and answers question.\n",
    "\n",
    "    Args:\n",
    "        state (dict): The current graph state\n",
    "\n",
    "    Returns:\n",
    "        str: Decision for next node to call\n",
    "    \"\"\"\n",
    "\n",
    "    global counter\n",
    "    counter+=1\n",
    "    print(\"The value of counter after incrementing is \",counter,'\\n')\n",
    "\n",
    "    if counter==2:#exiting if we did not find the ans after 3 tries\n",
    "        print(\"Exiting from the cyclic dependency \")\n",
    "        return \"Relevent Answer\"\n",
    "\n",
    "    print(\"---CHECK HALLUCINATIONS---\")\n",
    "    question = state[\"question\"]\n",
    "    documents = state[\"documents\"]\n",
    "    generation = state[\"generation\"]\n",
    "\n",
    "    score = hallucination_grader.invoke({\"documents\": documents, \"generation\": generation})\n",
    "    grade = score['score']\n",
    "\n",
    "    # Check hallucination\n",
    "    if grade == \"yes\":\n",
    "        print(\"---DECISION: GENERATION IS GROUNDED IN DOCUMENTS---\")\n",
    "        # Check question-answering\n",
    "        print(\"---GRADE GENERATION vs QUESTION---\")\n",
    "        score = answer_grader.invoke({\"question\": question,\"generation\": generation})\n",
    "        grade = score['score']\n",
    "        if grade == \"yes\":\n",
    "            print(\"---DECISION: GENERATION ADDRESSES QUESTION---\")\n",
    "            return \"Relevent Answer\"\n",
    "        else:\n",
    "            print(\"---DECISION: GENERATION DOES NOT ADDRESS QUESTION---\")\n",
    "            return \"Irrelevent Answer\"\n",
    "    else:\n",
    "        print(\"---DECISION: GENERATION IS NOT GROUNDED IN DOCUMENTS, RE-TRY---\")\n",
    "        return \"Irrelevent Answer\""
   ]
  },
  {
   "cell_type": "code",
   "execution_count": 33,
   "metadata": {},
   "outputs": [],
   "source": [
    "from langgraph.graph import END, StateGraph\n",
    "workflow = StateGraph(GraphState)\n",
    "\n",
    "# Define the nodes\n",
    "workflow.add_node(\"websearch\", websearch) # web search\n",
    "workflow.add_node(\"retrieve\", retrieve) # retrieve\n",
    "workflow.add_node(\"grade_documents\", grade_documents) # grade documents\n",
    "workflow.add_node(\"generate\", generate) # generate"
   ]
  },
  {
   "cell_type": "code",
   "execution_count": 34,
   "metadata": {},
   "outputs": [],
   "source": [
    "# workflow.set_conditional_entry_point(\n",
    "#     route_question,\n",
    "#     {\n",
    "#         \"websearch\": \"websearch\",\n",
    "#         \"vectorstore\": \"retrieve\",\n",
    "#     },\n",
    "# )\n",
    "\n",
    "workflow.set_entry_point(\"retrieve\")\n",
    "workflow.add_edge(\"retrieve\", \"grade_documents\")\n",
    "workflow.add_conditional_edges(\n",
    "    \"grade_documents\",\n",
    "    decide_to_generate,\n",
    "    {\n",
    "        \"No relevent document found\": \"websearch\",\n",
    "        \"Relevent Document Found\": \"generate\",\n",
    "    },\n",
    ")\n",
    "workflow.add_edge(\"websearch\", \"generate\")\n",
    "workflow.add_conditional_edges(\n",
    "    \"generate\",\n",
    "    grade_generation_v_documents_and_question,\n",
    "    {\n",
    "        \n",
    "        \"Relevent Answer\": END,\n",
    "        \"Irrelevent Answer\": \"retrieve\",\n",
    "    },\n",
    ")"
   ]
  },
  {
   "cell_type": "code",
   "execution_count": 35,
   "metadata": {},
   "outputs": [],
   "source": [
    "app = workflow.compile()"
   ]
  },
  {
   "cell_type": "code",
   "execution_count": 24,
   "metadata": {},
   "outputs": [
    {
     "data": {
      "image/png": "[encoded data removed]",
      "text/plain": [
       "<IPython.core.display.Image object>"
      ]
     },
     "execution_count": 24,
     "metadata": {},
     "output_type": "execute_result"
    }
   ],
   "source": [
    "from IPython.display import Image\n",
    "\n",
    "Image(app.get_graph().draw_png())"
   ]
  },
  {
   "cell_type": "markdown",
   "metadata": {},
   "source": [
    "testing the workflow"
   ]
  },
  {
   "cell_type": "code",
   "execution_count": 73,
   "metadata": {},
   "outputs": [
    {
     "name": "stdout",
     "output_type": "stream",
     "text": [
      "---RETRIEVE---\n",
      "The question asked was  What is Prompt ENgineering\n",
      "'Finished running: retrieve:'\n",
      "---CHECK DOCUMENT RELEVANCE TO QUESTION---\n",
      "---GRADE: DOCUMENT RELEVANT---\n",
      "---ASSESS GRADED DOCUMENTS---\n",
      "---DECISION: GENERATE---\n",
      "'Finished running: grade_documents:'\n",
      "---GENERATE---\n",
      "---CHECK HALLUCINATIONS---\n",
      "---DECISION: GENERATION IS GROUNDED IN DOCUMENTS---\n",
      "---GRADE GENERATION vs QUESTION---\n",
      "---DECISION: GENERATION ADDRESSES QUESTION---\n",
      "'Finished running: generate:'\n",
      "('Prompt Engineering refers to methods for communicating with Large Language '\n",
      " 'Models (LLMs) to steer their behavior towards desired outcomes without '\n",
      " 'updating the model weights. It is an empirical science that aims to achieve '\n",
      " 'alignment and model steerability through various techniques, such as '\n",
      " 'zero-shot and few-shot learning. The goal of prompt engineering is to enable '\n",
      " 'LLMs to produce specific outputs by providing them with carefully crafted '\n",
      " 'input prompts.')\n"
     ]
    }
   ],
   "source": [
    "from pprint import pprint\n",
    "inputs = {\"question\": \"What is Prompt ENgineering\"}\n",
    "for output in app.stream(inputs):\n",
    "    for key, value in output.items():\n",
    "        pprint(f\"Finished running: {key}:\")\n",
    "pprint(value[\"generation\"])"
   ]
  },
  {
   "cell_type": "code",
   "execution_count": 36,
   "metadata": {},
   "outputs": [
    {
     "name": "stdout",
     "output_type": "stream",
     "text": [
      "---RETRIEVE---\n",
      "The value of i is  0 \n",
      "\n",
      "The question asked was  What is the current Army Chief of Pakistan\n",
      "'Finished running: retrieve:'\n",
      "---CHECK DOCUMENT RELEVANCE TO QUESTION---\n",
      "---GRADE: DOCUMENT NOT RELEVANT---\n",
      "---ASSESS GRADED DOCUMENTS---\n",
      "---DECISION: ALL DOCUMENTS ARE NOT RELEVANT TO QUESTION, INCLUDE WEB SEARCH---\n",
      "'Finished running: grade_documents:'\n",
      "---WEB SEARCH---\n",
      "Documents retrieved from web search are as \n",
      "\n",
      "\n",
      "Sword of Honour (Pakistan) Syed Asim Munir Ahmed Shah[3][1] NI (M), HI (M) (Urdu: سید عاصم منیر احمد شاہ; born 1968) [1] is a Pakistani general and the current Chief of Army Staff since 29 November 2022. [4] Before becoming the army chief, he was posted at the GHQ as Quartermaster general. [5] He commanded the XXX Corps in ...\n",
      "\n",
      "\n",
      "Pakistan named Lieutenant-General Asim Munir on Thursday as chief of its army, an organisation that plays a hugely influential role in the governance of the nuclear-armed nation.\n",
      "\n",
      "\n",
      "Pakistan named Lieutenant-General Asim Munir on Thursday as chief of its army, an organisation that plays a hugely influential role in the governance of the nuclear-armed nation.\n",
      "\n",
      "\n",
      "General Asim Munir on Tuesday took charge as Pakistan's new army chief, a key change of command in an institution that plays a huge influential role in the governance of the nuclear-armed nation.\n",
      "\n",
      "\n",
      "FILE - Pakistan's Army Chief General Qamar Javed Bajwa arrives for a military parade to mark Pakistan National Day in Islamabad, Pakistan, March 23, 2022. Pakistani Prime Minister Shahbaz Sharif is poised to appoint a new army chief after receiving a list of candidates for the key position, officials said Wednesday, Nov. 23, 2022.\n",
      "\n",
      "\n",
      "'Finished running: websearch:'\n",
      "---GENERATE---\n",
      "The value of counter after incrementing is  1 \n",
      "\n",
      "---CHECK HALLUCINATIONS---\n",
      "---DECISION: GENERATION IS GROUNDED IN DOCUMENTS---\n",
      "---GRADE GENERATION vs QUESTION---\n",
      "---DECISION: GENERATION ADDRESSES QUESTION---\n",
      "'Finished running: generate:'\n",
      "('The current Army Chief of Pakistan is Lieutenant-General Asim Munir, who '\n",
      " 'took charge on November 29, 2022. He was previously posted as Quartermaster '\n",
      " 'general at the GHQ before becoming the army chief.')\n"
     ]
    }
   ],
   "source": [
    "from pprint import pprint\n",
    "inputs = {\"question\": \"What is the current Army Chief of Pakistan\"}\n",
    "for output in app.stream(inputs):\n",
    "    for key, value in output.items():\n",
    "        pprint(f\"Finished running: {key}:\")\n",
    "pprint(value[\"generation\"])"
   ]
  },
  {
   "cell_type": "code",
   "execution_count": 26,
   "metadata": {},
   "outputs": [
    {
     "name": "stdout",
     "output_type": "stream",
     "text": [
      "---RETRIEVE---\n",
      "The value of i is  0 \n",
      "\n",
      "The question asked was  Who is Chaudhry Waleed\n",
      "'Finished running: retrieve:'\n",
      "---CHECK DOCUMENT RELEVANCE TO QUESTION---\n",
      "---GRADE: DOCUMENT NOT RELEVANT---\n",
      "---ASSESS GRADED DOCUMENTS---\n",
      "---DECISION: ALL DOCUMENTS ARE NOT RELEVANT TO QUESTION, INCLUDE WEB SEARCH---\n",
      "'Finished running: grade_documents:'\n",
      "---WEB SEARCH---\n",
      "Documents retrieved from web search are as \n",
      "\n",
      "\n",
      "Waleed Chaudhry is a Senior Director, Commercial at FanDuel based in New York City, New York. Previously, Waleed was a Director, Strategy at Shift Technologies and also held positions at The Estee Lauder Companies Inc., Wipro, Intel, World Bank Group, University of Michigan, SS&C Technologies, BCE.\n",
      "\n",
      "\n",
      "About WALEED CHAUDHRY. Waleed Chaudhry is a primary care provider established in Clarion, Pennsylvania and his medical specialization is Student In An Organized Health Care Education/training Program.The healthcare provider is registered in the NPI registry with number 1124877568 assigned on May 2024. The practitioner's primary taxonomy code is 390200000X.\n",
      "\n",
      "\n",
      "Waleed Chaudhary, M.D., is a dedicated and compassionate physician who has a passion for providing healthcare to individuals and families. Dr. Chaudhary is exceptionally passionate about educating patients and empowering them to take an active role in their healthcare. Looking to the future, Dr. Chaudhary is excited to continue their career in ...\n",
      "\n",
      "\n",
      "Waleed Chaudhry is a results-driven professional with a passion for solving complex problems. He has worked at FanDuel, Estée Lauder Companies, and Level5, and graduated from the University of ...\n",
      "\n",
      "\n",
      "Waleed Chaudhry Junior Consultant/ Market Research Intern at Delta Point, Inc. Haverford Township, PA. 8 others named Waleed Chaudhry in United States are on LinkedIn See others named Waleed ...\n",
      "\n",
      "\n",
      "'Finished running: websearch:'\n",
      "---GENERATE---\n",
      "The value of counter after incrementing is  1 \n",
      "\n",
      "---CHECK HALLUCINATIONS---\n",
      "---DECISION: GENERATION IS GROUNDED IN DOCUMENTS---\n",
      "---GRADE GENERATION vs QUESTION---\n",
      "---DECISION: GENERATION DOES NOT ADDRESS QUESTION---\n",
      "'Finished running: generate:'\n",
      "---RETRIEVE---\n",
      "The value of i is  1 \n",
      "\n",
      "The question asked was  Who is Chaudhry Waleed\n",
      "Previously retrieved documents are \n",
      "$$\n",
      "\\min_{i, j, b} \\nabla_{\\mathbf{x}_{i,j,a \\to b} - \\mathbf{x}} \\mathcal{L}_\\text{adv}(\\mathbf{x}, y) = \\min_{i,j,b} \\frac{\\partial\\mathcal{L}_\\text{adv}}{\\partial \\mathbf{x}_{ij}}^{(b)} - \\frac{\\partial\\mathcal{L}_\\text{adv}}{\\partial \\mathbf{x}_{ij}}^{(a)}\n",
      "$$\n",
      "\n",
      "\n",
      "s^\\text{aut}_i(\\mathbf{v}; \\mathbf{x}, \\mathbf{y}) &= \\lambda_\\text{LLM}\\;p( \\mathbf{y}_{1:i-1}, \\mathbf{v} \\mid \\mathbf{x})\n",
      "\\end{aligned}\n",
      "$$\n",
      "\n",
      "\n",
      "$$\n",
      "\\begin{aligned}\n",
      "s_i(\\mathbf{v}; \\mathbf{x}, \\mathbf{y}) &= s^\\text{lin}_i(\\mathbf{v}; \\mathbf{x}, \\mathbf{y}) + s^\\text{aut}_i(\\mathbf{v}; \\mathbf{x}, \\mathbf{y}) \\\\\n",
      "s^\\text{lin}_i(\\mathbf{v}; \\mathbf{x}, \\mathbf{y}) &= \\phi(\\mathbf{x}, [\\mathbf{y}_{1:i-1}, \\mathbf{v}, \\mathbf{y}_{i+1:n}]) + \\lambda_\\text{LLM}\\;p( \\mathbf{y}_{i+1:n} \\mid \\mathbf{x}, \\mathbf{y}_{1:i-1}, \\mathbf{v}) \\\\\n",
      "\n",
      "\n",
      "\\tilde{s}^\\text{lin}_i(\\mathbf{v}; \\mathbf{x}, \\mathbf{y}) &= \\frac{1}{k} \\sum_{j=1}^k \\mathbf{e}_v^\\top \\nabla_{\\mathbf{e}_v} \\big[\\phi(\\mathbf{x}, [\\mathbf{y}_{1:i-1}, v_j, \\mathbf{y}_{i+1:n}]) + \\lambda_\\text{LLM}\\;p ( \\mathbf{y}_{i+1:n} \\mid \\mathbf{x}, \\mathbf{y}_{1:i-1}, v_j) \\big] \\\\\n",
      "& \\text{ for a random set of }v_1, \\dots, v_k \\sim \\mathcal{V} \\\\\n",
      "\n",
      "\n",
      "Human-in-the-loop adversarial generation, proposed by Wallace et al. (2019) , aims to build toolings to guide humans to break models. They experimented with QuizBowl QA dataset and designed an adversarial writing interface for humans to write similar Jeopardy style questions to trick the model to make wrong predictions. Each word is highlighted in different colors according to its word importance (i.e. change in model prediction probability upon the removal of the word). The word importance is approximated by the gradient of the model w.r.t. the word embedding.\n",
      "\n",
      "\n",
      "['$$\\n\\\\begin{aligned}\\ns_i(\\\\mathbf{v}; \\\\mathbf{x}, \\\\mathbf{y}) &= s^\\\\text{lin}_i(\\\\mathbf{v}; \\\\mathbf{x}, \\\\mathbf{y}) + s^\\\\text{aut}_i(\\\\mathbf{v}; \\\\mathbf{x}, \\\\mathbf{y}) \\\\\\\\\\ns^\\\\text{lin}_i(\\\\mathbf{v}; \\\\mathbf{x}, \\\\mathbf{y}) &= \\\\phi(\\\\mathbf{x}, [\\\\mathbf{y}_{1:i-1}, \\\\mathbf{v}, \\\\mathbf{y}_{i+1:n}]) + \\\\lambda_\\\\text{LLM}\\\\;p( \\\\mathbf{y}_{i+1:n} \\\\mid \\\\mathbf{x}, \\\\mathbf{y}_{1:i-1}, \\\\mathbf{v}) \\\\\\\\']\n",
      "['$$\\n\\\\begin{aligned}\\ns_i(\\\\mathbf{v}; \\\\mathbf{x}, \\\\mathbf{y}) &= s^\\\\text{lin}_i(\\\\mathbf{v}; \\\\mathbf{x}, \\\\mathbf{y}) + s^\\\\text{aut}_i(\\\\mathbf{v}; \\\\mathbf{x}, \\\\mathbf{y}) \\\\\\\\\\ns^\\\\text{lin}_i(\\\\mathbf{v}; \\\\mathbf{x}, \\\\mathbf{y}) &= \\\\phi(\\\\mathbf{x}, [\\\\mathbf{y}_{1:i-1}, \\\\mathbf{v}, \\\\mathbf{y}_{i+1:n}]) + \\\\lambda_\\\\text{LLM}\\\\;p( \\\\mathbf{y}_{i+1:n} \\\\mid \\\\mathbf{x}, \\\\mathbf{y}_{1:i-1}, \\\\mathbf{v}) \\\\\\\\', '\\\\tilde{s}^\\\\text{lin}_i(\\\\mathbf{v}; \\\\mathbf{x}, \\\\mathbf{y}) &= \\\\frac{1}{k} \\\\sum_{j=1}^k \\\\mathbf{e}_v^\\\\top \\\\nabla_{\\\\mathbf{e}_v} \\\\big[\\\\phi(\\\\mathbf{x}, [\\\\mathbf{y}_{1:i-1}, v_j, \\\\mathbf{y}_{i+1:n}]) + \\\\lambda_\\\\text{LLM}\\\\;p ( \\\\mathbf{y}_{i+1:n} \\\\mid \\\\mathbf{x}, \\\\mathbf{y}_{1:i-1}, v_j) \\\\big] \\\\\\\\\\n& \\\\text{ for a random set of }v_1, \\\\dots, v_k \\\\sim \\\\mathcal{V} \\\\\\\\']\n",
      "['$$\\n\\\\begin{aligned}\\ns_i(\\\\mathbf{v}; \\\\mathbf{x}, \\\\mathbf{y}) &= s^\\\\text{lin}_i(\\\\mathbf{v}; \\\\mathbf{x}, \\\\mathbf{y}) + s^\\\\text{aut}_i(\\\\mathbf{v}; \\\\mathbf{x}, \\\\mathbf{y}) \\\\\\\\\\ns^\\\\text{lin}_i(\\\\mathbf{v}; \\\\mathbf{x}, \\\\mathbf{y}) &= \\\\phi(\\\\mathbf{x}, [\\\\mathbf{y}_{1:i-1}, \\\\mathbf{v}, \\\\mathbf{y}_{i+1:n}]) + \\\\lambda_\\\\text{LLM}\\\\;p( \\\\mathbf{y}_{i+1:n} \\\\mid \\\\mathbf{x}, \\\\mathbf{y}_{1:i-1}, \\\\mathbf{v}) \\\\\\\\', '\\\\tilde{s}^\\\\text{lin}_i(\\\\mathbf{v}; \\\\mathbf{x}, \\\\mathbf{y}) &= \\\\frac{1}{k} \\\\sum_{j=1}^k \\\\mathbf{e}_v^\\\\top \\\\nabla_{\\\\mathbf{e}_v} \\\\big[\\\\phi(\\\\mathbf{x}, [\\\\mathbf{y}_{1:i-1}, v_j, \\\\mathbf{y}_{i+1:n}]) + \\\\lambda_\\\\text{LLM}\\\\;p ( \\\\mathbf{y}_{i+1:n} \\\\mid \\\\mathbf{x}, \\\\mathbf{y}_{1:i-1}, v_j) \\\\big] \\\\\\\\\\n& \\\\text{ for a random set of }v_1, \\\\dots, v_k \\\\sim \\\\mathcal{V} \\\\\\\\', '$$\\n\\\\min_{i, j, b} \\\\nabla_{\\\\mathbf{x}_{i,j,a \\\\to b} - \\\\mathbf{x}} \\\\mathcal{L}_\\\\text{adv}(\\\\mathbf{x}, y) = \\\\min_{i,j,b} \\\\frac{\\\\partial\\\\mathcal{L}_\\\\text{adv}}{\\\\partial \\\\mathbf{x}_{ij}}^{(b)} - \\\\frac{\\\\partial\\\\mathcal{L}_\\\\text{adv}}{\\\\partial \\\\mathbf{x}_{ij}}^{(a)}\\n$$']\n",
      "['$$\\n\\\\begin{aligned}\\ns_i(\\\\mathbf{v}; \\\\mathbf{x}, \\\\mathbf{y}) &= s^\\\\text{lin}_i(\\\\mathbf{v}; \\\\mathbf{x}, \\\\mathbf{y}) + s^\\\\text{aut}_i(\\\\mathbf{v}; \\\\mathbf{x}, \\\\mathbf{y}) \\\\\\\\\\ns^\\\\text{lin}_i(\\\\mathbf{v}; \\\\mathbf{x}, \\\\mathbf{y}) &= \\\\phi(\\\\mathbf{x}, [\\\\mathbf{y}_{1:i-1}, \\\\mathbf{v}, \\\\mathbf{y}_{i+1:n}]) + \\\\lambda_\\\\text{LLM}\\\\;p( \\\\mathbf{y}_{i+1:n} \\\\mid \\\\mathbf{x}, \\\\mathbf{y}_{1:i-1}, \\\\mathbf{v}) \\\\\\\\', '\\\\tilde{s}^\\\\text{lin}_i(\\\\mathbf{v}; \\\\mathbf{x}, \\\\mathbf{y}) &= \\\\frac{1}{k} \\\\sum_{j=1}^k \\\\mathbf{e}_v^\\\\top \\\\nabla_{\\\\mathbf{e}_v} \\\\big[\\\\phi(\\\\mathbf{x}, [\\\\mathbf{y}_{1:i-1}, v_j, \\\\mathbf{y}_{i+1:n}]) + \\\\lambda_\\\\text{LLM}\\\\;p ( \\\\mathbf{y}_{i+1:n} \\\\mid \\\\mathbf{x}, \\\\mathbf{y}_{1:i-1}, v_j) \\\\big] \\\\\\\\\\n& \\\\text{ for a random set of }v_1, \\\\dots, v_k \\\\sim \\\\mathcal{V} \\\\\\\\', '$$\\n\\\\min_{i, j, b} \\\\nabla_{\\\\mathbf{x}_{i,j,a \\\\to b} - \\\\mathbf{x}} \\\\mathcal{L}_\\\\text{adv}(\\\\mathbf{x}, y) = \\\\min_{i,j,b} \\\\frac{\\\\partial\\\\mathcal{L}_\\\\text{adv}}{\\\\partial \\\\mathbf{x}_{ij}}^{(b)} - \\\\frac{\\\\partial\\\\mathcal{L}_\\\\text{adv}}{\\\\partial \\\\mathbf{x}_{ij}}^{(a)}\\n$$', 'Human-in-the-loop adversarial generation, proposed by Wallace et al. (2019) , aims to build toolings to guide humans to break models. They experimented with QuizBowl QA dataset and designed an adversarial writing interface for humans to write similar Jeopardy style questions to trick the model to make wrong predictions. Each word is highlighted in different colors according to its word importance (i.e. change in model prediction probability upon the removal of the word). The word importance is approximated by the gradient of the model w.r.t. the word embedding.']\n",
      "['$$\\n\\\\begin{aligned}\\ns_i(\\\\mathbf{v}; \\\\mathbf{x}, \\\\mathbf{y}) &= s^\\\\text{lin}_i(\\\\mathbf{v}; \\\\mathbf{x}, \\\\mathbf{y}) + s^\\\\text{aut}_i(\\\\mathbf{v}; \\\\mathbf{x}, \\\\mathbf{y}) \\\\\\\\\\ns^\\\\text{lin}_i(\\\\mathbf{v}; \\\\mathbf{x}, \\\\mathbf{y}) &= \\\\phi(\\\\mathbf{x}, [\\\\mathbf{y}_{1:i-1}, \\\\mathbf{v}, \\\\mathbf{y}_{i+1:n}]) + \\\\lambda_\\\\text{LLM}\\\\;p( \\\\mathbf{y}_{i+1:n} \\\\mid \\\\mathbf{x}, \\\\mathbf{y}_{1:i-1}, \\\\mathbf{v}) \\\\\\\\', '\\\\tilde{s}^\\\\text{lin}_i(\\\\mathbf{v}; \\\\mathbf{x}, \\\\mathbf{y}) &= \\\\frac{1}{k} \\\\sum_{j=1}^k \\\\mathbf{e}_v^\\\\top \\\\nabla_{\\\\mathbf{e}_v} \\\\big[\\\\phi(\\\\mathbf{x}, [\\\\mathbf{y}_{1:i-1}, v_j, \\\\mathbf{y}_{i+1:n}]) + \\\\lambda_\\\\text{LLM}\\\\;p ( \\\\mathbf{y}_{i+1:n} \\\\mid \\\\mathbf{x}, \\\\mathbf{y}_{1:i-1}, v_j) \\\\big] \\\\\\\\\\n& \\\\text{ for a random set of }v_1, \\\\dots, v_k \\\\sim \\\\mathcal{V} \\\\\\\\', '$$\\n\\\\min_{i, j, b} \\\\nabla_{\\\\mathbf{x}_{i,j,a \\\\to b} - \\\\mathbf{x}} \\\\mathcal{L}_\\\\text{adv}(\\\\mathbf{x}, y) = \\\\min_{i,j,b} \\\\frac{\\\\partial\\\\mathcal{L}_\\\\text{adv}}{\\\\partial \\\\mathbf{x}_{ij}}^{(b)} - \\\\frac{\\\\partial\\\\mathcal{L}_\\\\text{adv}}{\\\\partial \\\\mathbf{x}_{ij}}^{(a)}\\n$$', 'Human-in-the-loop adversarial generation, proposed by Wallace et al. (2019) , aims to build toolings to guide humans to break models. They experimented with QuizBowl QA dataset and designed an adversarial writing interface for humans to write similar Jeopardy style questions to trick the model to make wrong predictions. Each word is highlighted in different colors according to its word importance (i.e. change in model prediction probability upon the removal of the word). The word importance is approximated by the gradient of the model w.r.t. the word embedding.', 's^\\\\text{aut}_i(\\\\mathbf{v}; \\\\mathbf{x}, \\\\mathbf{y}) &= \\\\lambda_\\\\text{LLM}\\\\;p( \\\\mathbf{y}_{1:i-1}, \\\\mathbf{v} \\\\mid \\\\mathbf{x})\\n\\\\end{aligned}\\n$$']\n",
      "After re ranking new document are as \n",
      "$$\n",
      "\\begin{aligned}\n",
      "s_i(\\mathbf{v}; \\mathbf{x}, \\mathbf{y}) &= s^\\text{lin}_i(\\mathbf{v}; \\mathbf{x}, \\mathbf{y}) + s^\\text{aut}_i(\\mathbf{v}; \\mathbf{x}, \\mathbf{y}) \\\\\n",
      "s^\\text{lin}_i(\\mathbf{v}; \\mathbf{x}, \\mathbf{y}) &= \\phi(\\mathbf{x}, [\\mathbf{y}_{1:i-1}, \\mathbf{v}, \\mathbf{y}_{i+1:n}]) + \\lambda_\\text{LLM}\\;p( \\mathbf{y}_{i+1:n} \\mid \\mathbf{x}, \\mathbf{y}_{1:i-1}, \\mathbf{v}) \\\\\n",
      "\n",
      "\n",
      "\\tilde{s}^\\text{lin}_i(\\mathbf{v}; \\mathbf{x}, \\mathbf{y}) &= \\frac{1}{k} \\sum_{j=1}^k \\mathbf{e}_v^\\top \\nabla_{\\mathbf{e}_v} \\big[\\phi(\\mathbf{x}, [\\mathbf{y}_{1:i-1}, v_j, \\mathbf{y}_{i+1:n}]) + \\lambda_\\text{LLM}\\;p ( \\mathbf{y}_{i+1:n} \\mid \\mathbf{x}, \\mathbf{y}_{1:i-1}, v_j) \\big] \\\\\n",
      "& \\text{ for a random set of }v_1, \\dots, v_k \\sim \\mathcal{V} \\\\\n",
      "\n",
      "\n",
      "$$\n",
      "\\min_{i, j, b} \\nabla_{\\mathbf{x}_{i,j,a \\to b} - \\mathbf{x}} \\mathcal{L}_\\text{adv}(\\mathbf{x}, y) = \\min_{i,j,b} \\frac{\\partial\\mathcal{L}_\\text{adv}}{\\partial \\mathbf{x}_{ij}}^{(b)} - \\frac{\\partial\\mathcal{L}_\\text{adv}}{\\partial \\mathbf{x}_{ij}}^{(a)}\n",
      "$$\n",
      "\n",
      "\n",
      "Human-in-the-loop adversarial generation, proposed by Wallace et al. (2019) , aims to build toolings to guide humans to break models. They experimented with QuizBowl QA dataset and designed an adversarial writing interface for humans to write similar Jeopardy style questions to trick the model to make wrong predictions. Each word is highlighted in different colors according to its word importance (i.e. change in model prediction probability upon the removal of the word). The word importance is approximated by the gradient of the model w.r.t. the word embedding.\n",
      "\n",
      "\n",
      "s^\\text{aut}_i(\\mathbf{v}; \\mathbf{x}, \\mathbf{y}) &= \\lambda_\\text{LLM}\\;p( \\mathbf{y}_{1:i-1}, \\mathbf{v} \\mid \\mathbf{x})\n",
      "\\end{aligned}\n",
      "$$\n",
      "\n",
      "\n",
      "'Finished running: retrieve:'\n",
      "---CHECK DOCUMENT RELEVANCE TO QUESTION---\n",
      "---GRADE: DOCUMENT NOT RELEVANT---\n",
      "---GRADE: DOCUMENT NOT RELEVANT---\n",
      "---GRADE: DOCUMENT NOT RELEVANT---\n",
      "---GRADE: DOCUMENT NOT RELEVANT---\n",
      "---GRADE: DOCUMENT NOT RELEVANT---\n",
      "---ASSESS GRADED DOCUMENTS---\n",
      "---DECISION: ALL DOCUMENTS ARE NOT RELEVANT TO QUESTION, INCLUDE WEB SEARCH---\n",
      "'Finished running: grade_documents:'\n",
      "---WEB SEARCH---\n",
      "Documents retrieved from web search are as \n",
      "\n",
      "\n",
      "Waleed Chaudhry is a Senior Director, Commercial at FanDuel based in New York City, New York. Previously, Waleed was a Director, Strategy at Shift Technologies and also held positions at The Estee Lauder Companies Inc., Wipro, Intel, World Bank Group, University of Michigan, SS&C Technologies, BCE.\n",
      "\n",
      "\n",
      "About WALEED CHAUDHRY. Waleed Chaudhry is a primary care provider established in Clarion, Pennsylvania and his medical specialization is Student In An Organized Health Care Education/training Program.The healthcare provider is registered in the NPI registry with number 1124877568 assigned on May 2024. The practitioner's primary taxonomy code is 390200000X.\n",
      "\n",
      "\n",
      "Waleed Chaudhary, M.D., is a dedicated and compassionate physician who has a passion for providing healthcare to individuals and families. Dr. Chaudhary is exceptionally passionate about educating patients and empowering them to take an active role in their healthcare. Looking to the future, Dr. Chaudhary is excited to continue their career in ...\n",
      "\n",
      "\n",
      "Dr. Waleed Chaudhary, is a Family Medicine specialist practicing in Victoria, TX with undefined years of experience. . New patients are welcome.\n",
      "\n",
      "\n",
      "Waleed F Chaudhry, age 28, lives in Manchester, CT. Find their contact information including current home address, background check reports, and property record on Whitepages People Search, the most trusted online directory.\n",
      "\n",
      "\n",
      "'Finished running: websearch:'\n",
      "---GENERATE---\n",
      "The value of counter after incrementing is  2 \n",
      "\n",
      "'Finished running: generate:'\n",
      "('Based on the provided context, Waleed Chaudhry is a Senior Director, '\n",
      " 'Commercial at FanDuel in New York City, as well as a primary care provider '\n",
      " 'with a medical specialization in Family Medicine. He is also a physician who '\n",
      " 'has worked at various organizations and has a passion for educating patients '\n",
      " 'and empowering them to take an active role in their healthcare.')\n"
     ]
    }
   ],
   "source": [
    "from pprint import pprint\n",
    "inputs = {\"question\": \"Who is Chaudhry Waleed\"}\n",
    "for output in app.stream(inputs):\n",
    "    for key, value in output.items():\n",
    "        pprint(f\"Finished running: {key}:\")\n",
    "pprint(value[\"generation\"])"
   ]
  },
  {
   "cell_type": "code",
   "execution_count": null,
   "metadata": {},
   "outputs": [],
   "source": []
  },
  {
   "cell_type": "code",
   "execution_count": 196,
   "metadata": {},
   "outputs": [
    {
     "name": "stdout",
     "output_type": "stream",
     "text": [
      "---RETRIEVE---\n",
      "The length is  10\n",
      "[{'id': 0, 'text': '$$\\n\\\\begin{aligned}\\ns_i(\\\\mathbf{v}; \\\\mathbf{x}, \\\\mathbf{y}) &= s^\\\\text{lin}_i(\\\\mathbf{v}; \\\\mathbf{x}, \\\\mathbf{y}) + s^\\\\text{aut}_i(\\\\mathbf{v}; \\\\mathbf{x}, \\\\mathbf{y}) \\\\\\\\\\ns^\\\\text{lin}_i(\\\\mathbf{v}; \\\\mathbf{x}, \\\\mathbf{y}) &= \\\\phi(\\\\mathbf{x}, [\\\\mathbf{y}_{1:i-1}, \\\\mathbf{v}, \\\\mathbf{y}_{i+1:n}]) + \\\\lambda_\\\\text{LLM}\\\\;p( \\\\mathbf{y}_{i+1:n} \\\\mid \\\\mathbf{x}, \\\\mathbf{y}_{1:i-1}, \\\\mathbf{v}) \\\\\\\\\\n\\\\tilde{s}^\\\\text{lin}_i(\\\\mathbf{v}; \\\\mathbf{x}, \\\\mathbf{y}) &= \\\\frac{1}{k} \\\\sum_{j=1}^k \\\\mathbf{e}_v^\\\\top \\\\nabla_{\\\\mathbf{e}_v} \\\\big[\\\\phi(\\\\mathbf{x}, [\\\\mathbf{y}_{1:i-1}, v_j, \\\\mathbf{y}_{i+1:n}]) + \\\\lambda_\\\\text{LLM}\\\\;p ( \\\\mathbf{y}_{i+1:n} \\\\mid \\\\mathbf{x}, \\\\mathbf{y}_{1:i-1}, v_j) \\\\big] \\\\\\\\\\n& \\\\text{ for a random set of }v_1, \\\\dots, v_k \\\\sim \\\\mathcal{V} \\\\\\\\\\ns^\\\\text{aut}_i(\\\\mathbf{v}; \\\\mathbf{x}, \\\\mathbf{y}) &= \\\\lambda_\\\\text{LLM}\\\\;p( \\\\mathbf{y}_{1:i-1}, \\\\mathbf{v} \\\\mid \\\\mathbf{x})\\n\\\\end{aligned}\\n$$'}, {'id': 1, 'text': '$$\\nI(w_i) = \\\\begin{cases}\\nf_y(\\\\mathbf{x}) - f_y(\\\\mathbf{x}_{\\\\setminus w_i}) & \\\\text{if }f(\\\\mathbf{x}) = f(\\\\mathbf{x}_{\\\\setminus w_i}) = y\\\\\\\\\\n(f_y(\\\\mathbf{x}) - f_y(\\\\mathbf{x}_{\\\\setminus w_i})) + ((f_{\\\\bar{y}}(\\\\mathbf{x}) - f_{\\\\bar{y}}(\\\\mathbf{x}_{\\\\setminus w_i}))) & \\\\text{if }f(\\\\mathbf{x}) = y, f(\\\\mathbf{x}_{\\\\setminus w_i}) = \\\\bar{y}, y \\\\neq \\\\bar{y}\\n\\\\end{cases}\\n$$'}, {'id': 2, 'text': 'Conversatin samples:\\n[\\n  {\\n    \"role\": \"system\",'}, {'id': 3, 'text': 'Commands:\\n1. Google Search: \"google\", args: \"input\": \"<search>\"\\n2. Browse Website: \"browse_website\", args: \"url\": \"<url>\", \"question\": \"<what_you_want_to_find_on_website>\"\\n3. Start GPT Agent: \"start_agent\", args: \"name\": \"<name>\", \"task\": \"<short_task_desc>\", \"prompt\": \"<prompt>\"\\n4. Message GPT Agent: \"message_agent\", args: \"key\": \"<key>\", \"message\": \"<message>\"\\n5. List GPT Agents: \"list_agents\", args:\\n6. Delete GPT Agent: \"delete_agent\", args: \"key\": \"<key>\"\\n7. Clone Repository: \"clone_repository\", args: \"repository_url\": \"<url>\", \"clone_path\": \"<directory>\"\\n8. Write to file: \"write_to_file\", args: \"file\": \"<file>\", \"text\": \"<text>\"\\n9. Read file: \"read_file\", args: \"file\": \"<file>\"\\n10. Append to file: \"append_to_file\", args: \"file\": \"<file>\", \"text\": \"<text>\"\\n11. Delete file: \"delete_file\", args: \"file\": \"<file>\"\\n12. Search Files: \"search_files\", args: \"directory\": \"<directory>\"\\n13. Analyze Code: \"analyze_code\", args: \"code\": \"<full_code_string>\"\\n14. Get Improved Code: \"improve_code\", args: \"suggestions\": \"<list_of_suggestions>\", \"code\": \"<full_code_string>\"\\n15. Write Tests: \"write_tests\", args: \"code\": \"<full_code_string>\", \"focus\": \"<list_of_focus_areas>\"\\n16. Execute Python File: \"execute_python_file\", args: \"file\": \"<file>\"\\n17. Generate Image: \"generate_image\", args: \"prompt\": \"<prompt>\"\\n18. Send Tweet: \"send_tweet\", args: \"text\": \"<text>\"\\n19. Do Nothing: \"do_nothing\", args:'}, {'id': 4, 'text': \"(All the math reasoning examples are from GSM8k)\\nQuestion: Tom and Elizabeth have a competition to climb a hill. Elizabeth takes 30 minutes to climb the hill. Tom takes four times as long as Elizabeth does to climb the hill. How many hours does it take Tom to climb up the hill?\\nAnswer: It takes Tom 30*4 = <<30*4=120>>120 minutes to climb the hill.\\nIt takes Tom 120/60 = <<120/60=2>>2 hours to climb the hill.\\nSo the answer is 2.\\n===\\nQuestion: Jack is a soccer player. He needs to buy two pairs of socks and a pair of soccer shoes. Each pair of socks cost $9.50, and the shoes cost $92. Jack has $40. How much more money does Jack need?\\nAnswer: The total cost of two pairs of socks is $9.50 x 2 = $<<9.5*2=19>>19.\\nThe total cost of the socks and the shoes is $19 + $92 = $<<19+92=111>>111.\\nJack need $111 - $40 = $<<111-40=71>>71 more.\\nSo the answer is 71.\\n===\\nQuestion: Marty has 100 centimeters of ribbon that he must cut into 4 equal parts. Each of the cut parts must be divided into 5 equal parts. How long will each final cut be?\\nAnswer:\\n\\nZero-shot CoT. Use natural language statement like Let's think step by step to explicitly encourage the model to first generate reasoning chains and then to prompt with Therefore, the answer is to produce answers (Kojima et al. 2022 ). Or a similar statement Let's work this out it a step by step to be sure we have the right answer (Zhou et al. 2022).\\n\\nQuestion: Marty has 100 centimeters of ribbon that he must cut into 4 equal parts. Each of the cut parts must be divided into 5 equal parts. How long will each final cut be?\\nAnswer: Let's think step by step.\\nTips and Extensions#\\n\\n\\nSelf-consistency sampling can improve reasoning accuracy by sampling a number of diverse answers and then taking the majority vote. (Wang et al. 2022a)\"}, {'id': 5, 'text': 'RAG style, $p(a_i \\\\mid q) = \\\\sum_{i=1}^n p_\\\\text{tf-idf} (p_i \\\\mid q) \\\\cdot p_\\\\text{LM}(a_i \\\\mid q, p_i)$, where $p_\\\\text{tf-idf} (p_i \\\\mid q)$ is the normalized cosine similarities between the TF-IDF passage and question representations.\\nNoisy channel inference, $p(a_i\\\\mid q) = \\\\frac{p_\\\\text{LM}(q \\\\mid a_i, p_i) \\\\cdot p_\\\\text{LM}(a_i \\\\mid p_i)}{p_\\\\text{LM}(q \\\\mid p_i)}$\\nProduct-of-Experts (PoE), combines all probabilities used above in addition to $p_\\\\text{LM}(p_i \\\\mid q)$.\\n\\nAccording to their experiments on generation and classification tasks, among three answer reranking scores - PoE > Noisy channel > RAG. Among individual probabilities, $p_\\\\text{LM}(a \\\\mid q, p_i)$ and $p_\\\\text{LM}(q \\\\mid p_i, a)$ are found to be most informative. $p_\\\\text{LM}(q \\\\mid p_i, a)$ captures how well the question can be explained by LM given evidence paragraph and answer and can reliably be used for reranking answer candidates.\\nOne observation with SituatedQA dataset for questions grounded in different dates is that despite LM (pretraining cutoff is year 2020) has access to latest information via Google Search, its performance on post-2020 questions are still a lot worse than on pre-2020 questions. This suggests the existence of some discrepencies or conflicting parametric between contextual information and model internal knowledge.\\nInterestingly it is found to be beneficial even with only “internal retrieval”, that is, to generate knowledge about a topic before answering the question (Liu et al. 2022). First we can use  the following template to extract knowledge:\\nGenerate some knowledge about the input. Examples:\\n\\nInput: What type of water formation is formed by clouds?\\nKnowledge: Clouds are made of water vapor.'}, {'id': 6, 'text': '#  … same conversation as earlier, ended with \"Make your own assumptions and state them explicitly before starting\".\\n  {\\n    \"role\": \"assistant\",\\n    \"content\": \"Assumptions:\\\\n1. Model: The model will contain the game\\'s data, such as level information, character states, and enemy positions.\\\\n2. View: The view will handle the game\\'s visuals, including rendering the game objects, backgrounds, and updating the display.\\\\n3. Controller: The controller will manage user input, such as keyboard controls, and update the model accordingly.\\\\n\\\\nWith these assumptions in mind, is there any specific aspect of the keyboard control implementation you would like me to clarify?\"\\n  },\\n  {\\n    \"role\": \"user\",\\n    \"content\": \"Please now remember the steps:\\\\n\\\\nThink step by step and reason yourself to the right decisions to make sure we get it right.\\\\nFirst lay out the names of the core classes, functions, methods that will be necessary, As well as a quick comment on their purpose.\\\\n\\\\nThen you will output the content of each file including ALL code.\\\\nEach file must strictly follow a markdown code block format, where the following tokens must be replaced such that\\\\nFILENAME is the lowercase file name including the file extension,\\\\nLANG is the markup code block language for the code\\'s language, and CODE is the code:\\\\n\\\\nFILENAME\\\\n```LANG\\\\nCODE\\\\n```\\\\n\\\\nPlease note that the code should be fully functional. No placeholders.\\\\n\\\\nYou will start with the \\\\\"entrypoint\\\\\" file, then go to the ones that are imported by that file, and so on.\\\\nFollow a language and framework appropriate best practice file naming convention.\\\\nMake sure that files contain all imports, types etc. The code should be fully functional. Make sure that code in different files are compatible with each other.\\\\nBefore you finish, double check that all parts of the architecture is present in the files.\\\\n\"\\n  }\\n]\\nChallenges#\\nAfter going through key ideas and demos of building LLM-centered agents, I start to see a couple common limitations:'}, {'id': 7, 'text': 'ScaNN (Scalable Nearest Neighbors): The main innovation in ScaNN is anisotropic vector quantization. It quantizes a data point $x_i$ to $\\\\tilde{x}_i$ such that the inner product $\\\\langle q, x_i \\\\rangle$ is as similar to the original distance of $\\\\angle q, \\\\tilde{x}_i$ as possible, instead of picking the closet quantization centroid points.'}, {'id': 8, 'text': '$$\\n\\\\mathcal{L}(\\\\Theta)= \\\\mathbb{E}_{\\\\tilde{\\\\pi}\\\\sim\\\\tilde{P}_\\\\Theta} [\\\\mathcal{L}_\\\\text{adv}(\\\\mathbf{e}(\\\\tilde{\\\\boldsymbol{\\\\pi}}), y; h) + \\\\lambda_\\\\text{lm} \\\\mathcal{L}_\\\\text{NLL}(\\\\tilde{\\\\boldsymbol{\\\\pi}}) + \\\\lambda_\\\\text{sim} (1 - R_\\\\text{BERT}(\\\\mathbf{x}, \\\\tilde{\\\\boldsymbol{\\\\pi}}))]\\n$$\\n\\nGumbel-softmax tricks are hard to be extended to token deletion or addition and thus it is restricted to only token replacement operations, not deletion or addition.\\nHotFlip (Ebrahimi et al. 2018) treats text operations as inputs in the vector space and measures the derivative of loss with regard to these vectors. Here let’s assume the input vector is a matrix of character-level one-hot encodings, $\\\\mathbf{x} \\\\in {0, 1}^{m \\\\times n \\\\times V}$ and $\\\\mathbf{x}_{ij} \\\\in {0, 1}^V$, where $m$ is the maximum number of words, $n$ is the maximum number of characters per word and $V$ is the alphabet size. Given the original input vector $\\\\mathbf{x}$, we construct a new vector $\\\\mathbf{x}_{ij, a\\\\to b}$ with the $j$-th character of the $i$-th word changing from $a \\\\to b$, and thus we have $x_{ij}^{(a)} = 1$ but $x_{ij, a\\\\to b}^{(a)} = 0, x_{ij, a\\\\to b}^{(b)} = 1$.\\nThe change in loss according to first-order Taylor expansion is:'}, {'id': 9, 'text': 'LSH (Locality-Sensitive Hashing): It introduces a hashing function such that similar input items are mapped to the same buckets with high probability, where the number of buckets is much smaller than the number of inputs.\\nANNOY (Approximate Nearest Neighbors Oh Yeah): The core data structure are random projection trees, a set of binary trees where each non-leaf node represents a hyperplane splitting the input space into half and each leaf stores one data point. Trees are built independently and at random, so to some extent, it mimics a hashing function. ANNOY search happens in all the trees to iteratively search through the half that is closest to the query and then aggregates the results. The idea is quite related to KD tree but a lot more scalable.\\nHNSW (Hierarchical Navigable Small World): It is inspired by the idea of small world networks where most nodes can be reached by any other nodes within a small number of steps; e.g. “six degrees of separation” feature of social networks. HNSW builds hierarchical layers of these small-world graphs, where the bottom layers contain the actual data points. The layers in the middle create shortcuts to speed up search. When performing a search, HNSW starts from a random node in the top layer and navigates towards the target. When it can’t get any closer, it moves down to the next layer, until it reaches the bottom layer. Each move in the upper layers can potentially cover a large distance in the data space, and each move in the lower layers refines the search quality.\\nFAISS (Facebook AI Similarity Search): It operates on the assumption that in high dimensional space, distances between nodes follow a Gaussian distribution and thus there should exist clustering of data points. FAISS applies vector quantization by partitioning the vector space into clusters and then refining the quantization within clusters. Search first looks for cluster candidates with coarse quantization and then further looks into each cluster with finer quantization.'}]\n",
      "'Finished running: retrieve:'\n",
      "---CHECK DOCUMENT RELEVANCE TO QUESTION---\n",
      "---GRADE: DOCUMENT NOT RELEVANT---\n",
      "---GRADE: DOCUMENT NOT RELEVANT---\n",
      "---ASSESS GRADED DOCUMENTS---\n",
      "---DECISION: ALL DOCUMENTS ARE NOT RELEVANT TO QUESTION, INCLUDE WEB SEARCH---\n",
      "'Finished running: grade_documents:'\n",
      "---WEB SEARCH---\n",
      "'Finished running: websearch:'\n",
      "---GENERATE---\n",
      "---CHECK HALLUCINATIONS---\n",
      "---DECISION: GENERATION IS GROUNDED IN DOCUMENTS---\n",
      "---GRADE GENERATION vs QUESTION---\n",
      "---DECISION: GENERATION ADDRESSES QUESTION---\n",
      "'Finished running: generate:'\n",
      "'The capital of Pakistan is Islamabad.'\n"
     ]
    }
   ],
   "source": [
    "from pprint import pprint\n",
    "inputs = {\"question\": \"What is the capital of pakistan\"}\n",
    "for output in app.stream(inputs):\n",
    "    for key, value in output.items():\n",
    "        pprint(f\"Finished running: {key}:\")\n",
    "pprint(value[\"generation\"])"
   ]
  },
  {
   "cell_type": "code",
   "execution_count": 29,
   "metadata": {},
   "outputs": [
    {
     "name": "stdout",
     "output_type": "stream",
     "text": [
      "---RETRIEVE---\n",
      "'Finished running: retrieve:'\n",
      "---CHECK DOCUMENT RELEVANCE TO QUESTION---\n",
      "---GRADE: DOCUMENT NOT RELEVANT---\n",
      "---ASSESS GRADED DOCUMENTS---\n",
      "---DECISION: ALL DOCUMENTS ARE NOT RELEVANT TO QUESTION, INCLUDE WEB SEARCH---\n",
      "'Finished running: grade_documents:'\n",
      "---WEB SEARCH---\n",
      "'Finished running: websearch:'\n",
      "---GENERATE---\n",
      "---CHECK HALLUCINATIONS---\n",
      "---DECISION: GENERATION IS GROUNDED IN DOCUMENTS---\n",
      "---GRADE GENERATION vs QUESTION---\n",
      "---DECISION: GENERATION ADDRESSES QUESTION---\n",
      "'Finished running: generate:'\n",
      "'The current President of Pakistan is Asif Ali Zardari.'\n"
     ]
    }
   ],
   "source": [
    "from pprint import pprint\n",
    "inputs = {\"question\": \"Who is the President of Pakistan?\"}\n",
    "for output in app.stream(inputs):\n",
    "    for key, value in output.items():\n",
    "        pprint(f\"Finished running: {key}:\")\n",
    "pprint(value[\"generation\"])"
   ]
  },
  {
   "cell_type": "code",
   "execution_count": 25,
   "metadata": {},
   "outputs": [
    {
     "name": "stdout",
     "output_type": "stream",
     "text": [
      "---RETRIEVE---\n",
      "The question asked was  Who is the Director of FAST Lahore\n",
      "'Finished running: retrieve:'\n",
      "---CHECK DOCUMENT RELEVANCE TO QUESTION---\n",
      "---GRADE: DOCUMENT NOT RELEVANT---\n",
      "---ASSESS GRADED DOCUMENTS---\n",
      "---DECISION: ALL DOCUMENTS ARE NOT RELEVANT TO QUESTION, INCLUDE WEB SEARCH---\n",
      "'Finished running: grade_documents:'\n",
      "---WEB SEARCH---\n",
      "Documents retrieved from web search are as \n",
      "\n",
      "\n",
      "We are pleased to announce that Dr. Summaira Sarfraz has been appointed as the new Director of FAST NUCES, Lahore making history as the first female director of Lahore Campus. Dr. Summaira joined Lahore Campus in June 1996. She completed her PhD degree in November 2013. She remained the HoD of Sciences and Humanities for two terms.\n",
      "\n",
      "\n",
      "We are pleased to announce that Dr. Summaira Sarfraz has been appointed as the new Director of FAST NUCES, Lahore making history as the first female director of Lahore Campus. Dr. Summaira joined...\n",
      "\n",
      "\n",
      "We are pleased to announce that Dr. Summaira Sarfraz has been appointed as the new Director of FAST NUCES, Lahore making history as the first female director of Lahore Campus. Dr. Summaira joined...\n",
      "\n",
      "\n",
      "We are pleased to announce that Dr. Summaira Sarfraz has been appointed as the new Director of FAST NUCES, Lahore making history as the first female director of Lahore Campus. Dr. Summaira joined ...\n",
      "\n",
      "\n",
      "FAST NUCES Lahore. 8,301 followers. 6mo. Dr. Hammad Naveed, Director NUCES-FAST lahore campus was part of a delegation of Artificial Intelligence Education Foundation (AIEF). AIEF is promoting AI ...\n",
      "\n",
      "\n",
      "'Finished running: websearch:'\n",
      "---GENERATE---\n",
      "---CHECK HALLUCINATIONS---\n",
      "---DECISION: GENERATION IS GROUNDED IN DOCUMENTS---\n",
      "---GRADE GENERATION vs QUESTION---\n",
      "---DECISION: GENERATION ADDRESSES QUESTION---\n",
      "'Finished running: generate:'\n",
      "('Dr. Summaira Sarfraz is the Director of FAST Lahore. She made history as the '\n",
      " 'first female director of Lahore Campus when she was appointed in a new role. '\n",
      " 'Dr. Hammad Naveed, not Dr. Summaira Sarfraz, is mentioned as the Director of '\n",
      " 'NUCES-FAST Lahore campus in another context.')\n"
     ]
    }
   ],
   "source": [
    "from pprint import pprint\n",
    "inputs = {\"question\": \"Who is the Director of FAST Lahore\"}\n",
    "for output in app.stream(inputs):\n",
    "    for key, value in output.items():\n",
    "        pprint(f\"Finished running: {key}:\")\n",
    "pprint(value[\"generation\"])"
   ]
  }
 ],
 "metadata": {
  "kernelspec": {
   "display_name": "test",
   "language": "python",
   "name": "python3"
  },
  "language_info": {
   "codemirror_mode": {
    "name": "ipython",
    "version": 3
   },
   "file_extension": ".py",
   "mimetype": "text/x-python",
   "name": "python",
   "nbconvert_exporter": "python",
   "pygments_lexer": "ipython3",
   "version": "3.10.14"
  }
 },
 "nbformat": 4,
 "nbformat_minor": 2
}
