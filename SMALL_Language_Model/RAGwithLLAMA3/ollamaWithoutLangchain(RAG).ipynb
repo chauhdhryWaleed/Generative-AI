{
 "cells": [
  {
   "cell_type": "code",
   "execution_count": 1,
   "metadata": {},
   "outputs": [
    {
     "name": "stdout",
     "output_type": "stream",
     "text": [
      "Hello! It's nice to meet you. Is there something I can help you with or would you like to chat?\n",
      "Elephants are indeed magnificent creatures!\n",
      "\n",
      "Here are some fascinating facts about elephants:\n",
      "\n",
      "1. **Largest Land Animal**: Elephants are the largest land animals on Earth, with African elephants weighing up to 6 tons (12,000 lbs) and Asian elephants weighing up to 5 tons (10,000 lbs).\n",
      "2. **Longest Lifespan**: Elephants have one of the longest lifespans in the animal kingdom, with a average lifespan of 50-70 years in the wild and up to 80 years in captivity.\n",
      "3. **Intelligent Brains**: Elephants have massive brains, with some weighing around 5 kg (11 lbs), which is larger than that of humans. They are known for their exceptional memory, problem-solving skills, and social intelligence.\n",
      "4. **Social Structure**: Elephants live in complex societies with a strict hierarchy, led by matriarchal herds. These herds are typically made up of related females, their offspring, and sometimes male relatives.\n",
      "5. **Communication**: Elephants communicate through a wide range of sounds, including rumbles, roars, trumpets, and even low-frequency vibrations that can be felt through the ground!\n",
      "6. **Trunks**: Elephants use their trunks for almost everything: eating, drinking, breathing, grasping objects, and even greeting each other.\n",
      "7. **Tusks**: Elephant tusks are actually elongated incisors made of ivory. They use these tusks to defend themselves, dig up food, and display social status.\n",
      "8. **Heritage**: Elephants have a strong sense of family and cultural heritage. They can recognize their own kin and even remember where they were born after decades of separation!\n",
      "9. **Conservation Status**: Unfortunately, elephants are threatened by poaching for ivory, habitat loss, and human-wildlife conflict. Conservation efforts are underway to protect these magnificent creatures.\n",
      "10. **Symbolism**: Elephants have been revered across cultures for their wisdom, strength, and gentle nature. They symbolize good luck, longevity, and fertility in many Asian traditions.\n",
      "\n",
      "These are just a few of the amazing facts about elephants! Do you have any specific questions or topics you'd like to know more about?\n"
     ]
    }
   ],
   "source": [
    "#TESTING LLAMA 3 \n",
    "\n",
    "import ollama\n",
    "\n",
    "# Initialize the model\n",
    "model = \"llama3:8b-instruct-q4_K_M\"\n",
    "\n",
    "# Create a list to store the conversation history\n",
    "conversation = []\n",
    "\n",
    "# First interaction\n",
    "conversation.append({\"role\": \"user\", \"content\": \"Hello\"})\n",
    "response = ollama.chat(model=model, messages=conversation)\n",
    "print(response['message']['content'])\n",
    "\n",
    "# Add the model's response to the conversation history\n",
    "conversation.append(response['message'])\n",
    "\n",
    "# Subsequent interaction\n",
    "conversation.append({\"role\": \"user\", \"content\": \"Tell me about elephants\"})\n",
    "response = ollama.chat(model=model, messages=conversation)\n",
    "print(response['message']['content'])\n",
    "\n",
    "# Again, add the model's response to the conversation history\n",
    "conversation.append(response['message'])"
   ]
  },
  {
   "cell_type": "code",
   "execution_count": 16,
   "metadata": {},
   "outputs": [
    {
     "name": "stdout",
     "output_type": "stream",
     "text": [
      "Requirement already satisfied: langchain_community in c:\\users\\my it store\\appdata\\local\\programs\\python\\python311\\lib\\site-packages (0.2.4)\n",
      "Requirement already satisfied: PyYAML>=5.3 in c:\\users\\my it store\\appdata\\local\\programs\\python\\python311\\lib\\site-packages (from langchain_community) (6.0.1)\n",
      "Requirement already satisfied: SQLAlchemy<3,>=1.4 in c:\\users\\my it store\\appdata\\local\\programs\\python\\python311\\lib\\site-packages (from langchain_community) (1.4.52)\n",
      "Requirement already satisfied: aiohttp<4.0.0,>=3.8.3 in c:\\users\\my it store\\appdata\\local\\programs\\python\\python311\\lib\\site-packages (from langchain_community) (3.9.5)\n",
      "Requirement already satisfied: dataclasses-json<0.7,>=0.5.7 in c:\\users\\my it store\\appdata\\local\\programs\\python\\python311\\lib\\site-packages (from langchain_community) (0.6.7)\n",
      "Requirement already satisfied: langchain<0.3.0,>=0.2.0 in c:\\users\\my it store\\appdata\\local\\programs\\python\\python311\\lib\\site-packages (from langchain_community) (0.2.3)\n",
      "Requirement already satisfied: langchain-core<0.3.0,>=0.2.0 in c:\\users\\my it store\\appdata\\local\\programs\\python\\python311\\lib\\site-packages (from langchain_community) (0.2.12)\n",
      "Requirement already satisfied: langsmith<0.2.0,>=0.1.0 in c:\\users\\my it store\\appdata\\local\\programs\\python\\python311\\lib\\site-packages (from langchain_community) (0.1.82)\n",
      "Requirement already satisfied: numpy<2,>=1 in c:\\users\\my it store\\appdata\\local\\programs\\python\\python311\\lib\\site-packages (from langchain_community) (1.25.1)\n",
      "Requirement already satisfied: requests<3,>=2 in c:\\users\\my it store\\appdata\\local\\programs\\python\\python311\\lib\\site-packages (from langchain_community) (2.32.3)\n",
      "Requirement already satisfied: tenacity<9.0.0,>=8.1.0 in c:\\users\\my it store\\appdata\\local\\programs\\python\\python311\\lib\\site-packages (from langchain_community) (8.4.2)\n",
      "Requirement already satisfied: aiosignal>=1.1.2 in c:\\users\\my it store\\appdata\\local\\programs\\python\\python311\\lib\\site-packages (from aiohttp<4.0.0,>=3.8.3->langchain_community) (1.3.1)\n",
      "Requirement already satisfied: attrs>=17.3.0 in c:\\users\\my it store\\appdata\\local\\programs\\python\\python311\\lib\\site-packages (from aiohttp<4.0.0,>=3.8.3->langchain_community) (23.1.0)\n",
      "Requirement already satisfied: frozenlist>=1.1.1 in c:\\users\\my it store\\appdata\\local\\programs\\python\\python311\\lib\\site-packages (from aiohttp<4.0.0,>=3.8.3->langchain_community) (1.4.1)\n",
      "Requirement already satisfied: multidict<7.0,>=4.5 in c:\\users\\my it store\\appdata\\local\\programs\\python\\python311\\lib\\site-packages (from aiohttp<4.0.0,>=3.8.3->langchain_community) (6.0.5)\n",
      "Requirement already satisfied: yarl<2.0,>=1.0 in c:\\users\\my it store\\appdata\\local\\programs\\python\\python311\\lib\\site-packages (from aiohttp<4.0.0,>=3.8.3->langchain_community) (1.9.4)\n",
      "Requirement already satisfied: marshmallow<4.0.0,>=3.18.0 in c:\\users\\my it store\\appdata\\local\\programs\\python\\python311\\lib\\site-packages (from dataclasses-json<0.7,>=0.5.7->langchain_community) (3.21.3)\n",
      "Requirement already satisfied: typing-inspect<1,>=0.4.0 in c:\\users\\my it store\\appdata\\local\\programs\\python\\python311\\lib\\site-packages (from dataclasses-json<0.7,>=0.5.7->langchain_community) (0.9.0)\n",
      "Requirement already satisfied: langchain-text-splitters<0.3.0,>=0.2.0 in c:\\users\\my it store\\appdata\\local\\programs\\python\\python311\\lib\\site-packages (from langchain<0.3.0,>=0.2.0->langchain_community) (0.2.2)\n",
      "Requirement already satisfied: pydantic<3,>=1 in c:\\users\\my it store\\appdata\\local\\programs\\python\\python311\\lib\\site-packages (from langchain<0.3.0,>=0.2.0->langchain_community) (2.7.4)\n",
      "Requirement already satisfied: jsonpatch<2.0,>=1.33 in c:\\users\\my it store\\appdata\\local\\programs\\python\\python311\\lib\\site-packages (from langchain-core<0.3.0,>=0.2.0->langchain_community) (1.33)\n",
      "Requirement already satisfied: packaging<25,>=23.2 in c:\\users\\my it store\\appdata\\local\\programs\\python\\python311\\lib\\site-packages (from langchain-core<0.3.0,>=0.2.0->langchain_community) (24.1)\n",
      "Requirement already satisfied: orjson<4.0.0,>=3.9.14 in c:\\users\\my it store\\appdata\\local\\programs\\python\\python311\\lib\\site-packages (from langsmith<0.2.0,>=0.1.0->langchain_community) (3.10.5)\n",
      "Requirement already satisfied: charset-normalizer<4,>=2 in c:\\users\\my it store\\appdata\\local\\programs\\python\\python311\\lib\\site-packages (from requests<3,>=2->langchain_community) (3.3.2)\n",
      "Requirement already satisfied: idna<4,>=2.5 in c:\\users\\my it store\\appdata\\local\\programs\\python\\python311\\lib\\site-packages (from requests<3,>=2->langchain_community) (3.4)\n",
      "Requirement already satisfied: urllib3<3,>=1.21.1 in c:\\users\\my it store\\appdata\\local\\programs\\python\\python311\\lib\\site-packages (from requests<3,>=2->langchain_community) (2.1.0)\n",
      "Requirement already satisfied: certifi>=2017.4.17 in c:\\users\\my it store\\appdata\\local\\programs\\python\\python311\\lib\\site-packages (from requests<3,>=2->langchain_community) (2023.7.22)\n",
      "Requirement already satisfied: greenlet!=0.4.17 in c:\\users\\my it store\\appdata\\local\\programs\\python\\python311\\lib\\site-packages (from SQLAlchemy<3,>=1.4->langchain_community) (3.0.1)\n",
      "Requirement already satisfied: jsonpointer>=1.9 in c:\\users\\my it store\\appdata\\local\\programs\\python\\python311\\lib\\site-packages (from jsonpatch<2.0,>=1.33->langchain-core<0.3.0,>=0.2.0->langchain_community) (2.4)\n",
      "Requirement already satisfied: annotated-types>=0.4.0 in c:\\users\\my it store\\appdata\\local\\programs\\python\\python311\\lib\\site-packages (from pydantic<3,>=1->langchain<0.3.0,>=0.2.0->langchain_community) (0.7.0)\n",
      "Requirement already satisfied: pydantic-core==2.18.4 in c:\\users\\my it store\\appdata\\local\\programs\\python\\python311\\lib\\site-packages (from pydantic<3,>=1->langchain<0.3.0,>=0.2.0->langchain_community) (2.18.4)\n",
      "Requirement already satisfied: typing-extensions>=4.6.1 in c:\\users\\my it store\\appdata\\local\\programs\\python\\python311\\lib\\site-packages (from pydantic<3,>=1->langchain<0.3.0,>=0.2.0->langchain_community) (4.8.0)\n",
      "Requirement already satisfied: mypy-extensions>=0.3.0 in c:\\users\\my it store\\appdata\\local\\programs\\python\\python311\\lib\\site-packages (from typing-inspect<1,>=0.4.0->dataclasses-json<0.7,>=0.5.7->langchain_community) (1.0.0)\n",
      "Note: you may need to restart the kernel to use updated packages.\n"
     ]
    }
   ],
   "source": [
    "pip install langchain_community\n"
   ]
  },
  {
   "cell_type": "code",
   "execution_count": 3,
   "metadata": {},
   "outputs": [],
   "source": [
    "import chromadb\n",
    "\n",
    "# Initialize Chroma DB client\n",
    "client = chromadb.PersistentClient(path='database')"
   ]
  },
  {
   "cell_type": "code",
   "execution_count": 5,
   "metadata": {},
   "outputs": [],
   "source": [
    "my_collection = client.create_collection(\n",
    "        name=\"collection1\",\n",
    "        metadata={\"hnsw:space\": \"cosine\"} # l2 is the default\n",
    "    )"
   ]
  },
  {
   "cell_type": "code",
   "execution_count": 4,
   "metadata": {},
   "outputs": [],
   "source": [
    "\n",
    "client.delete_collection(name=\"collection1\")"
   ]
  },
  {
   "cell_type": "markdown",
   "metadata": {},
   "source": [
    "CHUNKER BASE CLASS"
   ]
  },
  {
   "cell_type": "code",
   "execution_count": 6,
   "metadata": {},
   "outputs": [],
   "source": [
    "import re\n",
    "from langchain_community.embeddings import HuggingFaceEmbeddings\n",
    "class ChunkerBase:\n",
    "    def __init__(self, model_name=\"all-MiniLM-L6-v2\", max_chunk_size=250):\n",
    "        self.embeddings_model = HuggingFaceEmbeddings(model_name=model_name)\n",
    "        self.chunks = []\n",
    "        self.ids=[]\n",
    "        self.chunk_embeddings = []\n",
    "        self.collection = my_collection  # Use ChromaDB collection for storing documents\n",
    "        self.max_chunk_size = max_chunk_size\n",
    "\n",
    "    def embed_chunks(self):\n",
    "        print(\"Num of input chunks: \", len(self.chunks))\n",
    "        self.chunk_embeddings = self.embeddings_model.embed_documents(self.chunks)\n",
    "        print(\"Num of retrieved embeddings for chunks: \", len(self.chunk_embeddings))\n",
    "        documents=[]\n",
    "        # list(map(str, self.chunks))\n",
    "        # embeddings_as_lists = [embedding for embedding in self.chunk_embeddings]\n",
    "\n",
    "\n",
    "        self.ids = [f\"idx{i+1}\" for i in range(len(self.chunks))]\n",
    "\n",
    "        print(self.chunks)\n",
    "        print(self.ids)\n",
    "        # self.collection.add(self.chunks,self.ids)\n",
    "        self.collection.add(embeddings=self.chunk_embeddings, documents=self.chunks, ids=self.ids)\n",
    "\n",
    "    \n",
    "\n",
    "    def embed_query(self, query):\n",
    "        return self.embeddings_model.embed_documents([query])[0]\n",
    "\n",
    "    def search_similar_chunks(self, query_embedding, top_k=7):\n",
    "        print(query_embedding)\n",
    "        results = self.collection.query(query_embedding, n_results=top_k)\n",
    "\n",
    "        if not results:\n",
    "            print(\"No similar chunks found.\")\n",
    "            return [], []\n",
    "\n",
    "        print(results)\n",
    "\n",
    "        similar_chunks = []\n",
    "        for doc_list, score_list in zip(results['documents'], results['distances']):\n",
    "            for doc, score in zip(doc_list, score_list):\n",
    "                similar_chunks.append((doc, score))\n",
    "\n",
    "        return similar_chunks\n",
    "\n",
    "\n",
    "    def get_all_chunks(self):\n",
    "        return self.chunks"
   ]
  },
  {
   "cell_type": "markdown",
   "metadata": {},
   "source": [
    "RECURSIVE CHUNKER CLASS "
   ]
  },
  {
   "cell_type": "code",
   "execution_count": 7,
   "metadata": {},
   "outputs": [
    {
     "name": "stderr",
     "output_type": "stream",
     "text": [
      "c:\\Users\\MY IT STORE\\AppData\\Local\\Programs\\Python\\Python311\\Lib\\site-packages\\langchain_core\\_api\\deprecation.py:139: LangChainDeprecationWarning: The class `HuggingFaceEmbeddings` was deprecated in LangChain 0.2.2 and will be removed in 0.3.0. An updated version of the class exists in the langchain-huggingface package and should be used instead. To use it run `pip install -U langchain-huggingface` and import as `from langchain_huggingface import HuggingFaceEmbeddings`.\n",
      "  warn_deprecated(\n",
      "c:\\Users\\MY IT STORE\\AppData\\Local\\Programs\\Python\\Python311\\Lib\\site-packages\\sentence_transformers\\cross_encoder\\CrossEncoder.py:11: TqdmExperimentalWarning: Using `tqdm.autonotebook.tqdm` in notebook mode. Use `tqdm.tqdm` instead to force console mode (e.g. in jupyter console)\n",
      "  from tqdm.autonotebook import tqdm, trange\n",
      "c:\\Users\\MY IT STORE\\AppData\\Local\\Programs\\Python\\Python311\\Lib\\site-packages\\huggingface_hub\\file_download.py:1132: FutureWarning: `resume_download` is deprecated and will be removed in version 1.0.0. Downloads always resume when possible. If you want to force a new download, use `force_download=True`.\n",
      "  warnings.warn(\n"
     ]
    },
    {
     "name": "stdout",
     "output_type": "stream",
     "text": [
      "Total number of chunks: 65\n",
      "Num of input chunks:  65\n",
      "Num of retrieved embeddings for chunks:  65\n",
      "['Introduction to Quantum Physics', 'Quantum physics, also known as quantum mechanics or quantum theory, is a fundamental branch of physics that deals with the behavior of matter and energy at the smallest scales, typically at the level of atoms and subatomic particles. Developed in the early 20th century, quantum physics has revolutionized our understanding of the universe, providing insights into the nature of reality that are often counterintuitive and challenging to grasp. Quantum physics, also known as quantum mechanics or quantum theory, is a fundamental branch of physics that deals with the behavior of matter and energy at the smallest scales, typically at the level of atoms and subatomic particles. Developed in the early 20th century, quantum physics has revolutionized our understanding of the universe, providing insights into the nature of reality that are often counterintuitive and challenging to grasp.', 'Historical Background', 'The roots of quantum physics can be traced back to the late 19th and early 20th centuries when classical physics could not explain certain experimental observations. Key milestones in the development of quantum theory include: The roots of quantum physics can be traced back to the late 19th and early 20th centuries when classical physics could not explain certain experimental observations. Key milestones in the development of quantum theory include:', \" Blackbody Radiation: Max Planck's solution to the ultraviolet catastrophe in 1900 introduced the concept of quantized energy levels, laying the groundwork for quantum theory. Blackbody Radiation: Max Planck's solution to the ultraviolet catastrophe in 1900 introduced the concept of quantized energy levels, laying the groundwork for quantum theory.\", 'Photoelectric Effect: In 1905, Albert Einstein explained the photoelectric effect by proposing that light is composed of discrete packets of energy called photons, each with energy proportional to its frequency. Photoelectric Effect: In 1905, Albert Einstein explained the photoelectric effect by proposing that light is composed of discrete packets of energy called photons, each with energy proportional to its frequency.', \"Atomic Structure: Niels Bohr's model of the atom in 1913 introduced quantized electron orbits, explaining the stability of atoms and the emission spectra of elements. Atomic Structure: Niels Bohr's model of the atom in 1913 introduced quantized electron orbits, explaining the stability of atoms and the emission spectra of elements.\", \"Wave-Particle Duality: Louis de Broglie's hypothesis in 1924 that particles such as electrons exhibit both wave-like and particle-like properties was a revolutionary idea that reshaped our understanding of the quantum world. This duality was experimentally confirmed by the Davisson-Germer experiment in 1927, which demonstrated electron diffraction, a behavior characteristic of waves. The wave-particle duality suggests that every particle or quantum entity can be described not only as a particle but also as a wave. This concept is fundamental to quantum mechanics and has led to the development of various technologies and deeper insights into the nature of reality.\", 'Extended Explanation and Applications\\nElectron Microscopy: The wave-like behavior of electrons allows them to be used in electron microscopes, which can achieve much higher resolution than optical microscopes. This is because the wavelength of electrons can be much smaller than that of visible light, allowing for the visualization of structures at the atomic level.', 'Quantum Interference: The double-slit experiment with electrons showcases quantum interference, where particles can interfere with themselves, creating an interference pattern that can only be explained if the electrons exhibit wave-like properties.', \"Wavefunctions: In quantum mechanics, particles are described by wavefunctions, which are mathematical functions that provide the probabilities of a particle's position and momentum. The wavefunction embodies the wave-particle duality, as it encapsulates both wave-like and particle-like behaviors.\", \"Heisenberg's Uncertainty Principle: Werner Heisenberg's formulation in 1927 revealed that it is impossible to simultaneously know both the exact position and momentum of a particle, highlighting the inherent uncertainties in quantum measurements. This principle is not due to imperfections in measurement devices but is a fundamental property of quantum systems. The more precisely one property (position or momentum) is known, the less precisely the other can be known. This principle has profound implications for the nature of reality and the limits of human knowledge.\", \"Extended Explanation and Applications\\nQuantum Cryptography: Heisenberg's Uncertainty Principle ensures that any attempt to eavesdrop on a quantum communication system will disturb the system and be detectable. This principle forms the basis for quantum key distribution (QKD) methods in cryptography.\", 'Quantum Measurement: The uncertainty principle necessitates a reevaluation of measurement in quantum mechanics. In classical physics, measurements can, in theory, be made with arbitrary precision. In quantum mechanics, the act of measurement affects the system, and the precision is inherently limited by the uncertainty principle.', 'Particle Detectors: The design and interpretation of particle detectors in experiments like those at the Large Hadron Collider must account for the uncertainty principle. Measurements of particle properties must consider the trade-offs between knowing the position and momentum accurately.', \"Schrödinger's Wave Equation\\nErwin Schrödinger developed a wave equation in 1926 that describes how the quantum state of a physical system changes over time. The Schrödinger equation is a cornerstone of quantum mechanics, providing a way to predict the behavior of particles at the quantum level. For a non-relativistic particle, the time-dependent .\", 'Quantum Computing: Quantum computers operate by manipulating wavefunctions according to the principles of quantum mechanics. Understanding and controlling quantum states via the Schrödinger equation is essential for developing quantum algorithms and error correction methods.', 'Nanotechnology: The Schrödinger equation helps in understanding the behavior of electrons in nanostructures such as quantum dots and nanowires. This understanding is crucial for designing and fabricating nanoscale devices with specific electronic properties.', 'Solid-State Physics: The behavior of electrons in solids, which gives rise to electrical conductivity, superconductivity, and other properties, is described using the Schrödinger equation. This is key for developing new materials and understanding phenomena like the quantum Hall effect.', 'Optical Systems: The propagation of light in certain media can be modeled using a form of the Schrödinger equation. This approach is useful in designing advanced optical systems, such as those used in telecommunications and laser technologies.', 'Fundamental Concepts of Quantum Physics', 'Wave-Particle Duality : One of the most profound aspects of quantum physics is that particles such as electrons and photons can exhibit both wave-like and particle-like behavior, depending on the experimental context. Wave-Particle Duality : One of the most profound aspects of quantum physics is that particles such as electrons and photons can exhibit both wave-like and particle-like behavior, depending on the experimental context.', 'Quantization : Energy levels in quantum systems are quantized, meaning that particles can only occupy discrete energy levels rather than a continuous range of values. Quantization : Energy levels in quantum systems are quantized, meaning that particles can only occupy discrete energy levels rather than a continuous range of values.', \"Superposition : A fundamental principle of quantum mechanics is that particles can exist in multiple states simultaneously. This is exemplified by Schrödinger's cat thought experiment, where a cat in a box can be both alive and dead until observed. Superposition : A fundamental principle of quantum mechanics is that particles can exist in multiple states simultaneously. This is exemplified by Schrödinger's cat thought experiment, where a cat in a box can be both alive and dead until observed.\", 'Entanglement : Quantum entanglement occurs when particles become correlated in such a way that the state of one particle is dependent on the state of another, regardless of the distance separating them. This phenomenon was famously described by Einstein as \"spooky action at a distance.\" Entanglement : Quantum entanglement occurs when particles become correlated in such a way that the state of one particle is dependent on the state of another, regardless of the distance separating them. This phenomenon was famously described by Einstein as \"spooky action at a distance.\"', 'Heisenberg Uncertainty Principle : This principle states that certain pairs of physical properties, such as position and momentum, cannot be simultaneously measured with arbitrary precision. The more accurately one property is measured, the less accurately the other can be known. Heisenberg Uncertainty Principle : This principle states that certain pairs of physical properties, such as position and momentum, cannot be simultaneously measured with arbitrary precision. The more accurately one property is measured, the less accurately the other can be known.', 'Quantum Mechanics Formalism', 'Quantum mechanics is mathematically formulated using wave functions, operators, and complex numbers. Key components include: Quantum mechanics is mathematically formulated using wave functions, operators, and complex numbers. Key components include:', \"Wave Function (Ψ) : The wave function is a mathematical description of the quantum state of a system. The square of the wave function's amplitude gives the probability density of finding a particle in a particular state. Wave Function (Ψ) : The wave function is a mathematical description of the quantum state of a system. The square of the wave function's amplitude gives the probability density of finding a particle in a particular state.\", 'Operators : Physical observables such as position, momentum, and energy are represented by operators that act on wave functions. The eigenvalues of these operators correspond to the possible measurement outcomes. Operators : Physical observables such as position, momentum, and energy are represented by operators that act on wave functions. The eigenvalues of these operators correspond to the possible measurement outcomes.', 'Schrödinger Equation : The Schrödinger equation is a differential equation that describes how the wave function evolves over time. For a non-relativistic particle, the time-dependent Schrödinger equation is given by: Schrödinger Equation : The Schrödinger equation is a differential equation that describes how the wave function evolves over time. For a non-relativistic particle, the time-dependent Schrödinger equation is given by:', 'where is the reduced Planck constant, is the wave function, and \\\\( \\\\hat{H} \\\\) is the Hamiltonian operator representing the total energy of the system. where is the reduced Planck constant, is the wave function, and \\\\( \\\\hat{H} \\\\) is the Hamiltonian operator representing the total energy of the system.', 'Applications of Quantum Physics', 'Semiconductors and Transistors: Quantum mechanics is the foundation of modern electronics, including semiconductors and transistors, which are essential components of computers and other electronic devices. Semiconductors and Transistors: Quantum mechanics is the foundation of modern electronics, including semiconductors and transistors, which are essential components of computers and other electronic devices.', 'Quantum Computing: Quantum computers leverage the principles of superposition and entanglement to perform computations that are infeasible for classical computers. They have the potential to revolutionize fields such as cryptography, optimization, and material science. Quantum Computing: Quantum computers leverage the principles of superposition and entanglement to perform computations that are infeasible for classical computers. They have the potential to revolutionize fields such as cryptography, optimization, and material science.', 'Quantum Cryptography: Quantum key distribution (QKD) provides theoretically secure communication by using the principles of quantum mechanics to detect eavesdropping attempts. Quantum Cryptography: Quantum key distribution (QKD) provides theoretically secure communication by using the principles of quantum mechanics to detect eavesdropping attempts.', 'Lasers: The development of lasers relies on the principles of stimulated emission and quantum transitions between energy levels. Lasers: The development of lasers relies on the principles of stimulated emission and quantum transitions between energy levels.', 'MRI and Medical Imaging: Quantum mechanics underpins techniques such as magnetic resonance imaging (MRI), which uses the quantum properties of atomic nuclei to produce detailed images of the human body. MRI and Medical Imaging: Quantum mechanics underpins techniques such as magnetic resonance imaging (MRI), which uses the quantum properties of atomic nuclei to produce detailed images of the human body.', 'Quantum Sensors: Quantum sensors utilize quantum phenomena such as superposition and entanglement to achieve extremely high sensitivity and precision. Applications include gravimeters, accelerometers, and magnetometers, which are used in fields ranging from geophysics to medical diagnostics. Quantum Sensors: Quantum sensors utilize quantum phenomena such as superposition and entanglement to achieve extremely high sensitivity and precision. Applications include gravimeters, accelerometers, and magnetometers, which are used in fields ranging from geophysics to medical diagnostics.', 'Quantum Teleportation: Quantum teleportation is a process by which the quantum state of a particle can be transmitted from one location to another without physical transfer of the particle itself. This phenomenon has implications for secure communication and quantum computing. Quantum Teleportation: Quantum teleportation is a process by which the quantum state of a particle can be transmitted from one location to another without physical transfer of the particle itself. This phenomenon has implications for secure communication and quantum computing.', 'Quantum Metrology: Quantum metrology involves using quantum systems to perform high-precision measurements. This can improve the accuracy of timekeeping with atomic clocks and enhance measurements in fundamental physics experiments. Quantum Metrology: Quantum metrology involves using quantum systems to perform high-precision measurements. This can improve the accuracy of timekeeping with atomic clocks and enhance measurements in fundamental physics experiments.', 'Quantum Biology: The principles of quantum mechanics are being explored in biological processes, such as photosynthesis, enzyme activity, and avian navigation, where quantum effects may play a crucial role. Quantum Biology: The principles of quantum mechanics are being explored in biological processes, such as photosynthesis, enzyme activity, and avian navigation, where quantum effects may play a crucial role.', 'Quantum Optics: Quantum optics studies the interaction of photons with matter. This field has led to the development of technologies such as quantum encryption, quantum communication, and advanced imaging techniques. Quantum Optics: Quantum optics studies the interaction of photons with matter. This field has led to the development of technologies such as quantum encryption, quantum communication, and advanced imaging techniques.', 'Quantum Simulation: Quantum simulators are used to model complex quantum systems that are difficult to study directly. These simulations can provide insights into phenomena such as high-temperature superconductivity and exotic states of matter. Quantum Simulation: Quantum simulators are used to model complex quantum systems that are difficult to study directly. These simulations can provide insights into phenomena such as high-temperature superconductivity and exotic states of matter.', 'Quantum Chemistry: Quantum mechanics is essential in understanding chemical reactions at the molecular level. It helps predict reaction outcomes, bond formations, and the behavior of molecules, enabling the design of new materials and drugs. Quantum Chemistry: Quantum mechanics is essential in understanding chemical reactions at the molecular level. It helps predict reaction outcomes, bond formations, and the behavior of molecules, enabling the design of new materials and drugs.', 'Quantum Nanotechnology: The application of quantum principles to nanotechnology has led to the development of new materials and devices with unique properties. This includes quantum dots, nanowires, and other nanostructures with potential applications in electronics, photonics, and medicine. Quantum Nanotechnology: The application of quantum principles to nanotechnology has led to the development of new materials and devices with unique properties. This includes quantum dots, nanowires, and other nanostructures with potential applications in electronics, photonics, and medicine.', 'Quantum Internet: Research is underway to develop a quantum internet, which would use quantum signals instead of classical signals to transmit information. This would enable ultra-secure communication and faster information processing across global networks. Quantum Internet: Research is underway to develop a quantum internet, which would use quantum signals instead of classical signals to transmit information. This would enable ultra-secure communication and faster information processing across global networks.', 'Quantum Thermodynamics: This field studies the thermodynamic properties of quantum systems, exploring how energy transfer and conversion processes differ at the quantum level compared to classical systems. Quantum Thermodynamics: This field studies the thermodynamic properties of quantum systems, exploring how energy transfer and conversion processes differ at the quantum level compared to classical systems.', 'Quantum Mechanics in Astrophysics: Quantum mechanics plays a role in explaining various astrophysical phenomena, such as the behavior of particles in neutron stars, black holes, and the early universe. Quantum Mechanics in Astrophysics: Quantum mechanics plays a role in explaining various astrophysical phenomena, such as the behavior of particles in neutron stars, black holes, and the early universe.', 'Quantum Mechanics in Material Science: Understanding the quantum properties of materials has led to the discovery of new materials with exotic properties, such as topological insulators and superconductors, which have potential applications in electronics and energy storage. Quantum Mechanics in Material Science: Understanding the quantum properties of materials has led to the discovery of new materials with exotic properties, such as topological insulators and superconductors, which have potential applications in electronics and energy storage.', 'Quantum Mechanics in Cosmology: Quantum mechanics helps explain the fundamental processes that occurred during the formation of the universe, such as cosmic inflation and the behavior of particles in the early universe. Quantum Mechanics in Cosmology: Quantum mechanics helps explain the fundamental processes that occurred during the formation of the universe, such as cosmic inflation and the behavior of particles in the early universe.', 'Quantum Mechanics in Condensed Matter Physics: This field studies the quantum properties of solid-state systems, leading to advancements in understanding superconductivity, magnetism, and other phenomena that occur in condensed matter. Quantum Mechanics in Condensed Matter Physics: This field studies the quantum properties of solid-state systems, leading to advancements in understanding superconductivity, magnetism, and other phenomena that occur in condensed matter.', 'Quantum Mechanics in Quantum Field Theory: Quantum field theory combines quantum mechanics with special relativity, providing a framework for understanding the behavior of fundamental particles and the forces that govern their interactions. Quantum Mechanics in Quantum Field Theory: Quantum field theory combines quantum mechanics with special relativity, providing a framework for understanding the behavior of fundamental particles and the forces that govern their interactions.', 'Quantum Mechanics in Particle Physics: Quantum mechanics is essential for understanding the behavior of elementary particles and their interactions, which are studied in particle physics experiments, such as those conducted at the Large Hadron Collider. Quantum Mechanics in Particle Physics: Quantum mechanics is essential for understanding the behavior of elementary particles and their interactions, which are studied in particle physics experiments, such as those conducted at the Large Hadron Collider.', 'Quantum Mechanics in Nuclear Physics: Quantum mechanics explains the behavior of particles within atomic nuclei, helping to understand nuclear reactions, decay processes, and the properties of nuclear matter. Quantum Mechanics in Nuclear Physics: Quantum mechanics explains the behavior of particles within atomic nuclei, helping to understand nuclear reactions, decay processes, and the properties of nuclear matter.', 'Philosophical Implications', 'Quantum physics has profound philosophical implications, challenging our classical notions of reality, determinism, and locality. Key philosophical interpretations include: Quantum physics has profound philosophical implications, challenging our classical notions of reality, determinism, and locality. Key philosophical interpretations include:', 'Copenhagen Interpretation : Proposed by Niels Bohr and Werner Heisenberg, this interpretation posits that physical systems do not have definite properties until measured, and the act of measurement causes the collapse of the wave function. Copenhagen Interpretation : Proposed by Niels Bohr and Werner Heisenberg, this interpretation posits that physical systems do not have definite properties until measured, and the act of measurement causes the collapse of the wave function.', 'Many-Worlds Interpretation : Proposed by Hugh Everett, this interpretation suggests that', ' all possible outcomes of a quantum measurement are realized in parallel, branching universes. Many-Worlds Interpretation : Proposed by Hugh Everett, this interpretation suggests that all possible outcomes of a quantum measurement are realized in parallel, branching universes.', 'Pilot-Wave Theory : Proposed by Louis de Broglie and David Bohm, this interpretation introduces hidden variables that determine the behavior of particles, providing a deterministic framework for quantum mechanics. Pilot-Wave Theory : Proposed by Louis de Broglie and David Bohm, this interpretation introduces hidden variables that determine the behavior of particles, providing a deterministic framework for quantum mechanics.', 'Objective Collapse Theories : These theories propose that wave function collapse is a physical process, occurring spontaneously or due to interactions with the environment. Objective Collapse Theories : These theories propose that wave function collapse is a physical process, occurring spontaneously or due to interactions with the environment.', 'Conclusion', 'Quantum physics is a rich and complex field that has fundamentally altered our understanding of the universe. Its principles and applications continue to drive technological advancements and challenge our philosophical perspectives. As research in quantum mechanics progresses, it promises to unlock even deeper insights into the nature of reality and the fabric of the cosmos. Quantum physics is a rich and complex field that has fundamentally altered our understanding of the universe. Its principles and applications continue to drive technological advancements and challenge our philosophical perspectives. As research in quantum mechanics progresses, it promises to unlock even deeper insights into the nature of reality and the fabric of the cosmos.', '---']\n",
      "['idx1', 'idx2', 'idx3', 'idx4', 'idx5', 'idx6', 'idx7', 'idx8', 'idx9', 'idx10', 'idx11', 'idx12', 'idx13', 'idx14', 'idx15', 'idx16', 'idx17', 'idx18', 'idx19', 'idx20', 'idx21', 'idx22', 'idx23', 'idx24', 'idx25', 'idx26', 'idx27', 'idx28', 'idx29', 'idx30', 'idx31', 'idx32', 'idx33', 'idx34', 'idx35', 'idx36', 'idx37', 'idx38', 'idx39', 'idx40', 'idx41', 'idx42', 'idx43', 'idx44', 'idx45', 'idx46', 'idx47', 'idx48', 'idx49', 'idx50', 'idx51', 'idx52', 'idx53', 'idx54', 'idx55', 'idx56', 'idx57', 'idx58', 'idx59', 'idx60', 'idx61', 'idx62', 'idx63', 'idx64', 'idx65']\n",
      "Total number of chunks: 65\n"
     ]
    }
   ],
   "source": [
    "class RecursiveChunker(ChunkerBase):\n",
    "    def __init__(self, model_name=\"all-MiniLM-L6-v2\", max_chunk_size=150, max_paragraph_words=100):\n",
    "        super().__init__(model_name, max_chunk_size)\n",
    "        self.max_paragraph_words = max_paragraph_words\n",
    "\n",
    "    def _split_sentences(self, text):\n",
    "        return re.split(r'(?<=[.?!])\\s+', text)\n",
    "\n",
    "    def recursive_chunk_text(self, text):\n",
    "        words = text.split()\n",
    "\n",
    "        if len(words) <= self.max_chunk_size:\n",
    "            return [text]\n",
    "\n",
    "        # Find the best splitting point\n",
    "        split_point = self.max_chunk_size\n",
    "        while split_point > 0 and not words[split_point - 1].endswith(('.', '!', '?')):\n",
    "            split_point -= 1\n",
    "\n",
    "        if split_point == 0:  # No good splitting point found, force split at max_chunk_size\n",
    "            split_point = self.max_chunk_size\n",
    "\n",
    "        # Split the text\n",
    "        chunk = ' '.join(words[:split_point])\n",
    "        remaining_text = ' '.join(words[split_point:])\n",
    "\n",
    "        # Recursive call\n",
    "        chunks = [chunk] + self.recursive_chunk_text(remaining_text)\n",
    "\n",
    "        return chunks\n",
    "\n",
    "    def chunk_text(self, text):\n",
    "        paragraphs = text.split('\\n\\n')\n",
    "        self.chunks = []\n",
    "\n",
    "        for paragraph in paragraphs:\n",
    "            if len(paragraph.split()) > self.max_paragraph_words:\n",
    "                indented_chunks = self.recursive_chunk_text(paragraph)\n",
    "                self.chunks.extend(indented_chunks)\n",
    "            else:\n",
    "                self.chunks.append(paragraph)\n",
    "\n",
    "        print('Total number of chunks:', len(self.chunks))\n",
    "\n",
    "    def read_text_from_file(self, file_path):\n",
    "        with open(file_path, 'r', encoding='utf-8') as file:\n",
    "            text = file.read()\n",
    "        return text\n",
    "\n",
    "# Initialize the chunker\n",
    "chunker = RecursiveChunker()\n",
    "\n",
    "# File path to read\n",
    "file_path = 'inputFile.txt'\n",
    "\n",
    "# Read text from file\n",
    "text_from_file = chunker.read_text_from_file(file_path)\n",
    "\n",
    "# Chunk the text\n",
    "chunker.chunk_text(text_from_file)\n",
    "chunker.embed_chunks()\n",
    "\n",
    "print('Total number of chunks:', len(chunker.chunks))\n",
    "\n",
    "\n"
   ]
  },
  {
   "cell_type": "markdown",
   "metadata": {},
   "source": [
    "PRINTING SIMILAR CHUNKS TO QUERY"
   ]
  },
  {
   "cell_type": "code",
   "execution_count": 8,
   "metadata": {},
   "outputs": [
    {
     "name": "stdout",
     "output_type": "stream",
     "text": [
      "[-0.06603599339723587, 0.008933143690228462, -0.01955753192305565, 0.00827786698937416, -0.08145613223314285, 0.028088178485631943, -0.03494895622134209, 0.0029880423098802567, 0.0003813735966105014, 0.03194334730505943, -0.004551070276647806, -0.05173907428979874, -0.12207017093896866, 0.045684974640607834, 0.02690632827579975, 0.02667168900370598, 0.053102537989616394, 0.04475398734211922, -0.013978607021272182, -0.08003983646631241, -0.04613404721021652, -0.010109159164130688, 0.03960271179676056, -0.005283980630338192, -0.02564314194023609, -0.05054779723286629, 0.004721928853541613, -0.017389889806509018, 0.026274198666214943, 0.010404972359538078, 0.028804486617445946, 0.08532766252756119, 0.022079095244407654, -0.010746047832071781, -0.04287583380937576, 0.016960224136710167, 0.029728632420301437, -0.01653442159295082, 0.018643852323293686, -0.06052058935165405, -0.03087843582034111, -0.03969278931617737, -0.02085341326892376, 0.005707853473722935, 0.04509488493204117, -0.05729614943265915, 0.08572285622358322, -0.04415201023221016, 0.005454487632960081, -0.08387472480535507, 0.01219741627573967, 0.008063700050115585, 0.026350850239396095, 0.03868380934000015, 0.05667021498084068, -0.044949971139431, 0.04962580278515816, -0.017925454303622246, -0.010421979241073132, -0.06194261834025383, 0.005463742651045322, 0.0029001033399254084, -0.10310646146535873, 0.047545354813337326, 0.05224171280860901, 7.772905519232154e-05, -0.03626412898302078, 0.05936744809150696, 0.03313937038183212, 0.003198887687176466, 0.0014846727717667818, -0.012488815002143383, -0.07431019097566605, 0.0028681608382612467, 0.050640225410461426, -0.06552925705909729, -0.01955462619662285, 0.03271732106804848, 0.039040010422468185, 0.026731498539447784, 0.004283095709979534, -0.10651487112045288, -0.02691815234720707, 0.023776279762387276, 0.08595074713230133, 0.07092498987913132, -0.07506749778985977, -0.012544559314846992, -0.10673584043979645, -0.07955541461706161, 0.007215847726911306, -0.10872795432806015, -0.02779708057641983, -0.023977505043148994, -0.011359741911292076, 0.017503030598163605, 0.017416134476661682, -0.014251009561121464, 0.02549784630537033, 0.019304700195789337, 0.10685259103775024, -0.0018836692906916142, -0.014465613290667534, 0.05044759809970856, 0.008421642705798149, -0.017647121101617813, 0.05959627404808998, -0.026868347078561783, 0.07461858540773392, -0.0004265924508217722, -0.04056829214096069, -0.006130535621196032, 0.017514046281576157, -0.053487520664930344, -0.01502909604460001, -0.02898617461323738, 0.07415320724248886, 0.091139055788517, -0.02453107014298439, 0.007482864428311586, -0.042453840374946594, -0.030135927721858025, -0.0214290302246809, 0.026389602571725845, -0.010724363848567009, 0.00537077197805047, -0.15498003363609314, -5.119342182678373e-33, -0.023043621331453323, -0.04699306935071945, -0.04106804355978966, 0.049749135971069336, 0.05657816678285599, -0.05473167076706886, 0.07031334191560745, -0.09185510873794556, 0.027788640931248665, -0.05356992036104202, 0.05440257489681244, 0.10221166163682938, 0.06971076875925064, -0.05103733763098717, 0.06230893358588219, 0.030573179945349693, -0.15868189930915833, 0.06083683669567108, 0.06204192340373993, 0.007225110195577145, 0.0075537976808846, -0.037583157420158386, 0.019048165529966354, 0.07537971436977386, 0.027269918471574783, -0.021406713873147964, 0.008894243277609348, -0.03467540815472603, -0.009015806950628757, 0.01848096214234829, 0.043323297053575516, 0.14233365654945374, -0.12801608443260193, -0.0596940852701664, -0.0032656046096235514, 0.04844050854444504, -0.019587190821766853, -0.012410557828843594, -0.02357419952750206, -0.025877786800265312, -0.034112296998500824, -0.0434877946972847, -0.02330615371465683, -0.0014534515794366598, 0.022002244368195534, -0.030293138697743416, 0.043779660016298294, 0.018179703503847122, -0.026974324136972427, -0.03516317903995514, 0.04839169606566429, -0.022668449208140373, -0.08662448078393936, -0.05686008930206299, 0.07411428540945053, 0.012619413435459137, 0.03442176431417465, -0.07406914979219437, -0.03527192398905754, 0.01962117664515972, -0.05014342442154884, -0.02419370599091053, -0.02778935246169567, -0.00970175676047802, -0.05561951547861099, -0.01886388473212719, -0.0037191135343164206, -0.06073589622974396, -0.023282596841454506, 0.0849044993519783, -0.08761373162269592, 0.044635109603405, 0.03738129138946533, -0.050767991691827774, 0.033059049397706985, -0.006239511538296938, -0.04013906046748161, -0.07108431309461594, 0.007183997426182032, 0.0664362832903862, 0.03429684415459633, -0.08660759776830673, -0.008420691825449467, 0.010137549601495266, -0.07576192170381546, -0.06683450192213058, -0.06887836754322052, -0.051891718059778214, -0.017302492633461952, -0.06202337145805359, -0.05731360986828804, -0.021879442036151886, 0.054929621517658234, 0.010163426399230957, -0.03200540319085121, 1.6872199188428538e-33, -0.05587180703878403, 0.021593313664197922, -0.05337943509221077, 0.018924828618764877, 0.07248536497354507, 0.020749511197209358, 0.01540725864470005, -0.06140551716089249, 0.05529625713825226, -0.03305688127875328, -0.022331440821290016, 0.0812210887670517, 0.07606672495603561, 0.06699395924806595, -0.06332563608884811, 0.03979334980249405, -0.0024975601118057966, -0.035397063940763474, 0.05169827863574028, -0.04062864929437637, 0.01955585554242134, 0.06045442819595337, 0.005835561081767082, -0.07557523995637894, 0.05480695888400078, 0.020670901983976364, 0.01420797873288393, -0.14943812787532806, 0.019960977137088776, -0.041828859597444534, 0.008567186072468758, -0.052541300654411316, -0.03686032071709633, -0.02442295104265213, -0.0647631362080574, 0.03231431916356087, 0.13853202760219574, 0.08814138174057007, 0.027386242523789406, -0.08288080990314484, -0.003953442443162203, 0.02697606384754181, 0.09410049021244049, 0.029609419405460358, 0.00207123882137239, 0.05542745441198349, -0.05146658793091774, 0.07266039401292801, -0.09139496088027954, 0.046200383454561234, 0.05272229388356209, 0.01874619536101818, 0.03606320545077324, 0.002505561336874962, -0.01979289948940277, 0.06165735796093941, -0.022357847541570663, 0.04369742050766945, 0.07652302086353302, 0.06540028005838394, -0.07460221648216248, 0.03182423487305641, 0.05107330158352852, 0.08339573442935944, -0.030386177822947502, -0.000901023973710835, -0.05460746958851814, 0.04480019956827164, 0.03428401052951813, -0.08884208649396896, 0.03972949832677841, 0.0033655615989118814, 0.026884447783231735, 0.04213234409689903, -0.032748956233263016, 0.0404207706451416, 0.056958530098199844, -0.05369412899017334, -0.01103826705366373, 0.0432923398911953, -0.040582187473773956, -0.0002992673253174871, 0.02159132994711399, -0.015503780916333199, -0.026822295039892197, 0.01955145224928856, -0.002838484477251768, -0.0008064762805588543, 0.02879732847213745, -0.09207572788000107, -0.04807520657777786, -0.0021687690168619156, 0.04099225625395775, 0.00822816789150238, -0.021692555397748947, -1.4138255011175715e-08, 0.02162369154393673, -0.06704407185316086, -0.00833938643336296, -0.05770620331168175, 0.019884871318936348, 0.03569371625781059, 0.021576445549726486, 0.09270688146352768, -0.08591846376657486, -0.008664197288453579, -0.04664438217878342, 0.05141352489590645, -0.11494073271751404, 0.06645072996616364, 0.08043834567070007, -0.0007975568296387792, 0.00561141362413764, -0.017727602273225784, -0.02264884114265442, -0.045195598155260086, 0.03544791415333748, 0.06148301064968109, 0.009144602343440056, 0.059189654886722565, -0.01882174052298069, 0.020713692530989647, 0.05172449350357056, -0.04756256565451622, 0.0016700044507160783, 0.019587576389312744, -0.06042925640940666, 0.049441419541835785, 0.08090702444314957, 0.0774000957608223, -0.030046097934246063, -0.029049890115857124, -0.055499687790870667, -0.06285477429628372, -0.0035719857551157475, 0.02554955892264843, 0.005117559339851141, 0.10636051744222641, 0.006609887350350618, 0.019264761358499527, 0.0345705971121788, -0.009111924096941948, 0.0015062708407640457, 0.0415637232363224, 0.06885651499032974, 0.16701476275920868, 0.002637192141264677, 0.04876768961548805, -0.022799527272582054, -0.06574443727731705, -0.0469776876270771, 0.14134947955608368, 0.015654701739549637, -0.09197922796010971, -0.013109189458191395, 0.041121941059827805, 0.10985655337572098, 0.0016240562545135617, -0.028330987319350243, 0.0186981949955225]\n",
      "{'ids': [['idx33', 'idx21', 'idx54', 'idx2', 'idx49', 'idx51', 'idx64', 'idx35', 'idx39', 'idx42']], 'distances': [[0.078482081983557, 0.31507780670353647, 0.3603294002888957, 0.3731031211954624, 0.37651406106547103, 0.3960958234516505, 0.40071689813125566, 0.40545208967697344, 0.4151522875980316, 0.4201526268008382]], 'metadatas': [[None, None, None, None, None, None, None, None, None, None]], 'embeddings': None, 'documents': [['Applications of Quantum Physics', 'Fundamental Concepts of Quantum Physics', 'Quantum Mechanics in Particle Physics: Quantum mechanics is essential for understanding the behavior of elementary particles and their interactions, which are studied in particle physics experiments, such as those conducted at the Large Hadron Collider. Quantum Mechanics in Particle Physics: Quantum mechanics is essential for understanding the behavior of elementary particles and their interactions, which are studied in particle physics experiments, such as those conducted at the Large Hadron Collider.', 'Quantum physics, also known as quantum mechanics or quantum theory, is a fundamental branch of physics that deals with the behavior of matter and energy at the smallest scales, typically at the level of atoms and subatomic particles. Developed in the early 20th century, quantum physics has revolutionized our understanding of the universe, providing insights into the nature of reality that are often counterintuitive and challenging to grasp. Quantum physics, also known as quantum mechanics or quantum theory, is a fundamental branch of physics that deals with the behavior of matter and energy at the smallest scales, typically at the level of atoms and subatomic particles. Developed in the early 20th century, quantum physics has revolutionized our understanding of the universe, providing insights into the nature of reality that are often counterintuitive and challenging to grasp.', 'Quantum Mechanics in Astrophysics: Quantum mechanics plays a role in explaining various astrophysical phenomena, such as the behavior of particles in neutron stars, black holes, and the early universe. Quantum Mechanics in Astrophysics: Quantum mechanics plays a role in explaining various astrophysical phenomena, such as the behavior of particles in neutron stars, black holes, and the early universe.', 'Quantum Mechanics in Cosmology: Quantum mechanics helps explain the fundamental processes that occurred during the formation of the universe, such as cosmic inflation and the behavior of particles in the early universe. Quantum Mechanics in Cosmology: Quantum mechanics helps explain the fundamental processes that occurred during the formation of the universe, such as cosmic inflation and the behavior of particles in the early universe.', 'Quantum physics is a rich and complex field that has fundamentally altered our understanding of the universe. Its principles and applications continue to drive technological advancements and challenge our philosophical perspectives. As research in quantum mechanics progresses, it promises to unlock even deeper insights into the nature of reality and the fabric of the cosmos. Quantum physics is a rich and complex field that has fundamentally altered our understanding of the universe. Its principles and applications continue to drive technological advancements and challenge our philosophical perspectives. As research in quantum mechanics progresses, it promises to unlock even deeper insights into the nature of reality and the fabric of the cosmos.', 'Quantum Computing: Quantum computers leverage the principles of superposition and entanglement to perform computations that are infeasible for classical computers. They have the potential to revolutionize fields such as cryptography, optimization, and material science. Quantum Computing: Quantum computers leverage the principles of superposition and entanglement to perform computations that are infeasible for classical computers. They have the potential to revolutionize fields such as cryptography, optimization, and material science.', 'Quantum Sensors: Quantum sensors utilize quantum phenomena such as superposition and entanglement to achieve extremely high sensitivity and precision. Applications include gravimeters, accelerometers, and magnetometers, which are used in fields ranging from geophysics to medical diagnostics. Quantum Sensors: Quantum sensors utilize quantum phenomena such as superposition and entanglement to achieve extremely high sensitivity and precision. Applications include gravimeters, accelerometers, and magnetometers, which are used in fields ranging from geophysics to medical diagnostics.', 'Quantum Biology: The principles of quantum mechanics are being explored in biological processes, such as photosynthesis, enzyme activity, and avian navigation, where quantum effects may play a crucial role. Quantum Biology: The principles of quantum mechanics are being explored in biological processes, such as photosynthesis, enzyme activity, and avian navigation, where quantum effects may play a crucial role.']], 'uris': None, 'data': None, 'included': ['metadatas', 'documents', 'distances']}\n",
      "Top 10 Similar Chunks for Query: 'What are applications of Quantum Physics?'\n",
      "==================================================\n",
      "1. Similarity Score: 0.0785\n",
      "   Chunk Content: Applications of Quantum Physics\n",
      "--------------------------------------------------\n",
      "2. Similarity Score: 0.3151\n",
      "   Chunk Content: Fundamental Concepts of Quantum Physics\n",
      "--------------------------------------------------\n",
      "3. Similarity Score: 0.3603\n",
      "   Chunk Content: Quantum Mechanics in Particle Physics: Quantum mechanics is essential for understanding the behavior of elementary particles and their interactions, which are studied in particle physics experiments, such as those conducted at the Large Hadron Collider. Quantum Mechanics in Particle Physics: Quantum mechanics is essential for understanding the behavior of elementary particles and their interactions, which are studied in particle physics experiments, such as those conducted at the Large Hadron Collider.\n",
      "--------------------------------------------------\n",
      "4. Similarity Score: 0.3731\n",
      "   Chunk Content: Quantum physics, also known as quantum mechanics or quantum theory, is a fundamental branch of physics that deals with the behavior of matter and energy at the smallest scales, typically at the level of atoms and subatomic particles. Developed in the early 20th century, quantum physics has revolutionized our understanding of the universe, providing insights into the nature of reality that are often counterintuitive and challenging to grasp. Quantum physics, also known as quantum mechanics or quantum theory, is a fundamental branch of physics that deals with the behavior of matter and energy at the smallest scales, typically at the level of atoms and subatomic particles. Developed in the early 20th century, quantum physics has revolutionized our understanding of the universe, providing insights into the nature of reality that are often counterintuitive and challenging to grasp.\n",
      "--------------------------------------------------\n",
      "5. Similarity Score: 0.3765\n",
      "   Chunk Content: Quantum Mechanics in Astrophysics: Quantum mechanics plays a role in explaining various astrophysical phenomena, such as the behavior of particles in neutron stars, black holes, and the early universe. Quantum Mechanics in Astrophysics: Quantum mechanics plays a role in explaining various astrophysical phenomena, such as the behavior of particles in neutron stars, black holes, and the early universe.\n",
      "--------------------------------------------------\n",
      "6. Similarity Score: 0.3961\n",
      "   Chunk Content: Quantum Mechanics in Cosmology: Quantum mechanics helps explain the fundamental processes that occurred during the formation of the universe, such as cosmic inflation and the behavior of particles in the early universe. Quantum Mechanics in Cosmology: Quantum mechanics helps explain the fundamental processes that occurred during the formation of the universe, such as cosmic inflation and the behavior of particles in the early universe.\n",
      "--------------------------------------------------\n",
      "7. Similarity Score: 0.4007\n",
      "   Chunk Content: Quantum physics is a rich and complex field that has fundamentally altered our understanding of the universe. Its principles and applications continue to drive technological advancements and challenge our philosophical perspectives. As research in quantum mechanics progresses, it promises to unlock even deeper insights into the nature of reality and the fabric of the cosmos. Quantum physics is a rich and complex field that has fundamentally altered our understanding of the universe. Its principles and applications continue to drive technological advancements and challenge our philosophical perspectives. As research in quantum mechanics progresses, it promises to unlock even deeper insights into the nature of reality and the fabric of the cosmos.\n",
      "--------------------------------------------------\n",
      "8. Similarity Score: 0.4055\n",
      "   Chunk Content: Quantum Computing: Quantum computers leverage the principles of superposition and entanglement to perform computations that are infeasible for classical computers. They have the potential to revolutionize fields such as cryptography, optimization, and material science. Quantum Computing: Quantum computers leverage the principles of superposition and entanglement to perform computations that are infeasible for classical computers. They have the potential to revolutionize fields such as cryptography, optimization, and material science.\n",
      "--------------------------------------------------\n",
      "9. Similarity Score: 0.4152\n",
      "   Chunk Content: Quantum Sensors: Quantum sensors utilize quantum phenomena such as superposition and entanglement to achieve extremely high sensitivity and precision. Applications include gravimeters, accelerometers, and magnetometers, which are used in fields ranging from geophysics to medical diagnostics. Quantum Sensors: Quantum sensors utilize quantum phenomena such as superposition and entanglement to achieve extremely high sensitivity and precision. Applications include gravimeters, accelerometers, and magnetometers, which are used in fields ranging from geophysics to medical diagnostics.\n",
      "--------------------------------------------------\n",
      "10. Similarity Score: 0.4202\n",
      "   Chunk Content: Quantum Biology: The principles of quantum mechanics are being explored in biological processes, such as photosynthesis, enzyme activity, and avian navigation, where quantum effects may play a crucial role. Quantum Biology: The principles of quantum mechanics are being explored in biological processes, such as photosynthesis, enzyme activity, and avian navigation, where quantum effects may play a crucial role.\n",
      "--------------------------------------------------\n"
     ]
    }
   ],
   "source": [
    "# Query similar chunks\n",
    "query = \"What are applications of Quantum Physics?\"\n",
    "query_embedding = chunker.embed_query(query)\n",
    "\n",
    "# Search for similar chunks\n",
    "similar_chunks = chunker.search_similar_chunks(query_embedding,10 )\n",
    "\n",
    "print(f\"Top {len(similar_chunks)} Similar Chunks for Query: '{query}'\")\n",
    "print(\"=\" * 50)\n",
    "for i, (chunk_content, similarity_score) in enumerate(similar_chunks, start=1):\n",
    "    print(f\"{i}. Similarity Score: {similarity_score:.4f}\")\n",
    "    print(f\"   Chunk Content: {chunk_content}\")\n",
    "    print(\"-\" * 50)"
   ]
  },
  {
   "cell_type": "markdown",
   "metadata": {},
   "source": [
    "USING CUSTOM TEMPLATE TO SEND PROMPT TO LLM"
   ]
  },
  {
   "cell_type": "code",
   "execution_count": 9,
   "metadata": {},
   "outputs": [
    {
     "name": "stdout",
     "output_type": "stream",
     "text": [
      "Give the answer to question below using Text given below after the question . If you can not find the answer in given text say 'I am sorry. i dont know the answer'\n",
      "Tell me about Schrodinger Equation?\n",
      "Applications of Quantum Physics Fundamental Concepts of Quantum Physics Quantum Mechanics in Particle Physics: Quantum mechanics is essential for understanding the behavior of elementary particles and their interactions, which are studied in particle physics experiments, such as those conducted at the Large Hadron Collider. Quantum Mechanics in Particle Physics: Quantum mechanics is essential for understanding the behavior of elementary particles and their interactions, which are studied in particle physics experiments, such as those conducted at the Large Hadron Collider. Quantum physics, also known as quantum mechanics or quantum theory, is a fundamental branch of physics that deals with the behavior of matter and energy at the smallest scales, typically at the level of atoms and subatomic particles. Developed in the early 20th century, quantum physics has revolutionized our understanding of the universe, providing insights into the nature of reality that are often counterintuitive and challenging to grasp. Quantum physics, also known as quantum mechanics or quantum theory, is a fundamental branch of physics that deals with the behavior of matter and energy at the smallest scales, typically at the level of atoms and subatomic particles. Developed in the early 20th century, quantum physics has revolutionized our understanding of the universe, providing insights into the nature of reality that are often counterintuitive and challenging to grasp. Quantum Mechanics in Astrophysics: Quantum mechanics plays a role in explaining various astrophysical phenomena, such as the behavior of particles in neutron stars, black holes, and the early universe. Quantum Mechanics in Astrophysics: Quantum mechanics plays a role in explaining various astrophysical phenomena, such as the behavior of particles in neutron stars, black holes, and the early universe. Quantum Mechanics in Cosmology: Quantum mechanics helps explain the fundamental processes that occurred during the formation of the universe, such as cosmic inflation and the behavior of particles in the early universe. Quantum Mechanics in Cosmology: Quantum mechanics helps explain the fundamental processes that occurred during the formation of the universe, such as cosmic inflation and the behavior of particles in the early universe. Quantum physics is a rich and complex field that has fundamentally altered our understanding of the universe. Its principles and applications continue to drive technological advancements and challenge our philosophical perspectives. As research in quantum mechanics progresses, it promises to unlock even deeper insights into the nature of reality and the fabric of the cosmos. Quantum physics is a rich and complex field that has fundamentally altered our understanding of the universe. Its principles and applications continue to drive technological advancements and challenge our philosophical perspectives. As research in quantum mechanics progresses, it promises to unlock even deeper insights into the nature of reality and the fabric of the cosmos. Quantum Computing: Quantum computers leverage the principles of superposition and entanglement to perform computations that are infeasible for classical computers. They have the potential to revolutionize fields such as cryptography, optimization, and material science. Quantum Computing: Quantum computers leverage the principles of superposition and entanglement to perform computations that are infeasible for classical computers. They have the potential to revolutionize fields such as cryptography, optimization, and material science. Quantum Sensors: Quantum sensors utilize quantum phenomena such as superposition and entanglement to achieve extremely high sensitivity and precision. Applications include gravimeters, accelerometers, and magnetometers, which are used in fields ranging from geophysics to medical diagnostics. Quantum Sensors: Quantum sensors utilize quantum phenomena such as superposition and entanglement to achieve extremely high sensitivity and precision. Applications include gravimeters, accelerometers, and magnetometers, which are used in fields ranging from geophysics to medical diagnostics. Quantum Biology: The principles of quantum mechanics are being explored in biological processes, such as photosynthesis, enzyme activity, and avian navigation, where quantum effects may play a crucial role. Quantum Biology: The principles of quantum mechanics are being explored in biological processes, such as photosynthesis, enzyme activity, and avian navigation, where quantum effects may play a crucial role.\n"
     ]
    }
   ],
   "source": [
    "result_string = \" \".join([text for text, score in similar_chunks])\n",
    "\n",
    "# print(result_string)\n",
    "import ollama\n",
    "\n",
    "# Initialize the model\n",
    "model = \"llama3:8b-instruct-q4_K_M\"\n",
    "\n",
    "# Create a list to store the conversation history\n",
    "conversation = []\n",
    "query=\"Tell me about Schrodinger Equation?\"\n",
    "setrule=\"Give the answer to question below using Text given below after the question . If you can not find the answer in given text say 'I am sorry. i dont know the answer'\"\n",
    "# First interaction\n",
    "# conversation.append({\"role\": \"user\", \"content\": \"Hello\"})\n",
    "convo=setrule+'\\n'+query+'\\n'+result_string\n",
    "\n",
    "print(convo)\n"
   ]
  },
  {
   "cell_type": "markdown",
   "metadata": {},
   "source": [
    "SENDING IRRELVENT QUESTION TO THE LLM ACCORDING TO CONTEXT AND CHECKING ITS RESPONSE"
   ]
  },
  {
   "cell_type": "code",
   "execution_count": 10,
   "metadata": {},
   "outputs": [
    {
     "name": "stdout",
     "output_type": "stream",
     "text": [
      "Give the answer to question below using Text given below after the question . If you can not find the answer in given text say 'I am sorry. i dont know the answer'\n",
      "Tell me about Schrodinger Equation?\n",
      "Applications of Quantum Physics Fundamental Concepts of Quantum Physics Quantum Mechanics in Particle Physics: Quantum mechanics is essential for understanding the behavior of elementary particles and their interactions, which are studied in particle physics experiments, such as those conducted at the Large Hadron Collider. Quantum Mechanics in Particle Physics: Quantum mechanics is essential for understanding the behavior of elementary particles and their interactions, which are studied in particle physics experiments, such as those conducted at the Large Hadron Collider. Quantum physics, also known as quantum mechanics or quantum theory, is a fundamental branch of physics that deals with the behavior of matter and energy at the smallest scales, typically at the level of atoms and subatomic particles. Developed in the early 20th century, quantum physics has revolutionized our understanding of the universe, providing insights into the nature of reality that are often counterintuitive and challenging to grasp. Quantum physics, also known as quantum mechanics or quantum theory, is a fundamental branch of physics that deals with the behavior of matter and energy at the smallest scales, typically at the level of atoms and subatomic particles. Developed in the early 20th century, quantum physics has revolutionized our understanding of the universe, providing insights into the nature of reality that are often counterintuitive and challenging to grasp. Quantum Mechanics in Astrophysics: Quantum mechanics plays a role in explaining various astrophysical phenomena, such as the behavior of particles in neutron stars, black holes, and the early universe. Quantum Mechanics in Astrophysics: Quantum mechanics plays a role in explaining various astrophysical phenomena, such as the behavior of particles in neutron stars, black holes, and the early universe. Quantum Mechanics in Cosmology: Quantum mechanics helps explain the fundamental processes that occurred during the formation of the universe, such as cosmic inflation and the behavior of particles in the early universe. Quantum Mechanics in Cosmology: Quantum mechanics helps explain the fundamental processes that occurred during the formation of the universe, such as cosmic inflation and the behavior of particles in the early universe. Quantum physics is a rich and complex field that has fundamentally altered our understanding of the universe. Its principles and applications continue to drive technological advancements and challenge our philosophical perspectives. As research in quantum mechanics progresses, it promises to unlock even deeper insights into the nature of reality and the fabric of the cosmos. Quantum physics is a rich and complex field that has fundamentally altered our understanding of the universe. Its principles and applications continue to drive technological advancements and challenge our philosophical perspectives. As research in quantum mechanics progresses, it promises to unlock even deeper insights into the nature of reality and the fabric of the cosmos. Quantum Computing: Quantum computers leverage the principles of superposition and entanglement to perform computations that are infeasible for classical computers. They have the potential to revolutionize fields such as cryptography, optimization, and material science. Quantum Computing: Quantum computers leverage the principles of superposition and entanglement to perform computations that are infeasible for classical computers. They have the potential to revolutionize fields such as cryptography, optimization, and material science. Quantum Sensors: Quantum sensors utilize quantum phenomena such as superposition and entanglement to achieve extremely high sensitivity and precision. Applications include gravimeters, accelerometers, and magnetometers, which are used in fields ranging from geophysics to medical diagnostics. Quantum Sensors: Quantum sensors utilize quantum phenomena such as superposition and entanglement to achieve extremely high sensitivity and precision. Applications include gravimeters, accelerometers, and magnetometers, which are used in fields ranging from geophysics to medical diagnostics. Quantum Biology: The principles of quantum mechanics are being explored in biological processes, such as photosynthesis, enzyme activity, and avian navigation, where quantum effects may play a crucial role. Quantum Biology: The principles of quantum mechanics are being explored in biological processes, such as photosynthesis, enzyme activity, and avian navigation, where quantum effects may play a crucial role.\n",
      "The answer to your question is:\n",
      "\n",
      "The Schrödinger Equation is not explicitly mentioned in the given text. Therefore, I am sorry, I don't know the answer.\n"
     ]
    }
   ],
   "source": [
    "print(convo)\n",
    "conversation.append({\"role\": \"user\", \"content\": convo})\n",
    "response = ollama.chat(model=model, messages=conversation)\n",
    "\n",
    "print(response['message']['content'])"
   ]
  },
  {
   "cell_type": "markdown",
   "metadata": {},
   "source": [
    "USING CUSTOM TEMPLATE TO SEND PROMPT TO LLM"
   ]
  },
  {
   "cell_type": "code",
   "execution_count": 11,
   "metadata": {},
   "outputs": [
    {
     "name": "stdout",
     "output_type": "stream",
     "text": [
      "According to the text, the applications of quantum physics are:\n",
      "\n",
      "1. Particle Physics: understanding the behavior of elementary particles and their interactions.\n",
      "2. Astrophysics: explaining various astrophysical phenomena such as the behavior of particles in neutron stars, black holes, and the early universe.\n",
      "3. Cosmology: explaining fundamental processes that occurred during the formation of the universe.\n",
      "4. Quantum Computing: performing computations that are infeasible for classical computers.\n",
      "5. Quantum Sensors: achieving extremely high sensitivity and precision using quantum phenomena such as superposition and entanglement.\n",
      "6. Quantum Biology: exploring biological processes where quantum effects may play a crucial role, such as photosynthesis, enzyme activity, and avian navigation.\n",
      "\n",
      "Note that these applications are based on the text provided, and there might be other applications of quantum physics not mentioned in this specific text.\n"
     ]
    }
   ],
   "source": [
    "\n",
    "\n",
    "# Initialize the model\n",
    "model = \"llama3:8b-instruct-q4_K_M\"\n",
    "\n",
    "# Create a list to store the conversation history\n",
    "conversation = []\n",
    "query=\"What are the applications of qunatum physics?\"\n",
    "setrule=\"Give the answer to question using Text given below . If you can not find the answer in given text say 'I am sorry. i dont know the answer'\"\n",
    "# First interaction\n",
    "# conversation.append({\"role\": \"user\", \"content\": \"Hello\"})\n",
    "convo=setrule+'\\n'+query+'\\n'+result_string\n",
    "\n",
    "conversation.append({\"role\": \"user\", \"content\": convo})\n",
    "response1 = ollama.chat(model=model, messages=conversation)\n",
    "\n",
    "print(response1['message']['content'])"
   ]
  },
  {
   "cell_type": "markdown",
   "metadata": {},
   "source": [
    "USING SYSTEM USER SYNTAX TO SEND PROMPT TO LLM"
   ]
  },
  {
   "cell_type": "code",
   "execution_count": 18,
   "metadata": {},
   "outputs": [
    {
     "name": "stdout",
     "output_type": "stream",
     "text": [
      "According to the given text, some of the applications of Quantum Physics include:\n",
      "\n",
      "1. **Quantum Mechanics in Particle Physics**: Essential for understanding the behavior of elementary particles and their interactions, which are studied in particle physics experiments, such as those conducted at the Large Hadron Collider.\n",
      "2. **Astrophysics**: Explains various astrophysical phenomena, such as the behavior of particles in neutron stars, black holes, and the early universe.\n",
      "3. **Cosmology**: Helps explain the fundamental processes that occurred during the formation of the universe, such as cosmic inflation and the behavior of particles in the early universe.\n",
      "4. **Quantum Computing**: Leverages superposition and entanglement to perform computations that are infeasible for classical computers, with potential applications in cryptography, optimization, and material science.\n",
      "5. **Quantum Sensors**: Utilizes quantum phenomena like superposition and entanglement to achieve extremely high sensitivity and precision, with applications including gravimeters, accelerometers, and magnetometers, used in fields such as geophysics and medical diagnostics.\n",
      "6. **Quantum Biology**: Explores the role of quantum mechanics in biological processes, such as photosynthesis, enzyme activity, and avian navigation.\n",
      "\n",
      "These are just a few examples of the many applications of Quantum Physics.\n"
     ]
    }
   ],
   "source": [
    "import ollama\n",
    "query1=\"What are the applications of quantum physics?\"\n",
    "response2 = ollama.chat(model='llama3', messages=[\n",
    "    {\n",
    "        'role': 'system',\n",
    "        'content': f\"You are an expert in Quantum Physics. Give the answer to the question using the text given below. If you cannot find the answer in the given text, say 'I am sorry. I don't know the answer.'\\n{result_string}\"\n",
    "    },\n",
    "    {\n",
    "        'role': 'user',\n",
    "        'content': query1\n",
    "    }\n",
    "])\n",
    "\n",
    "print(response2['message']['content'])"
   ]
  },
  {
   "cell_type": "markdown",
   "metadata": {},
   "source": [
    "Using PROMPT SYNTAX TO CREATE A PROMPT AND SEND TO LLM"
   ]
  },
  {
   "cell_type": "code",
   "execution_count": 25,
   "metadata": {},
   "outputs": [
    {
     "name": "stdout",
     "output_type": "stream",
     "text": [
      "\n",
      "\n",
      "According to the provided text, some of the applications of quantum physics include:\n",
      "\n",
      "1. Quantum Mechanics in Particle Physics: Understanding the behavior of elementary particles and their interactions.\n",
      "2. Quantum Mechanics in Astrophysics: Explaining various astrophysical phenomena such as neutron stars, black holes, and the early universe.\n",
      "3. Quantum Mechanics in Cosmology: Explaining the fundamental processes that occurred during the formation of the universe, such as cosmic inflation and the behavior of particles in the early universe.\n",
      "4. Quantum Computing: Leveraging superposition and entanglement to perform computations infeasible for classical computers, revolutionizing fields like cryptography, optimization, and material science.\n",
      "5. Quantum Sensors: Utilizing quantum phenomena to achieve high sensitivity and precision, used in applications such as gravimeters, accelerometers, and magnetometers in geophysics, medicine, and other fields.\n",
      "6. Quantum Biology: Exploring the role of quantum mechanics in biological processes like photosynthesis, enzyme activity, and avian navigation.\n",
      "\n",
      "These are just a few examples of the many applications of quantum physics.\n"
     ]
    }
   ],
   "source": [
    "\n",
    "\n",
    "# Initialize the model\n",
    "model = \"llama3:8b-instruct-q4_K_M\"\n",
    "\n",
    "# Create a list to store the conversation history\n",
    "conversation = []\n",
    "\n",
    "user_query = \"What are the applications of quantum physics?\"\n",
    "\n",
    "system_part = f\"You are an expert in Quantum Physics. Give the answer to the question using the text given below. If you cannot find the answer in the given text, say 'I am sorry. I don't know the answer.'\\n{result_string}\"\n",
    "\n",
    "prompt = f\"<|begin_of_text|><|start_header_id|>system<|end_header_id|>\\n\\n{system_part}\\n\\n<|eot_id|><|start_header_id|>user<|end_header_id|>\\n\\n{user_query}\\n\\n<|eot_id|><|start_header_id|>assistant<|end_header_id|>\"   \n",
    "\n",
    "\n",
    "conversation.append({\"role\": \"assistant\", \"content\": prompt})\n",
    "response3 = ollama.chat(model=model, messages=conversation)\n",
    "\n",
    "print(response3['message']['content'])\n",
    "\n",
    "\n",
    "\n",
    "\n"
   ]
  },
  {
   "cell_type": "markdown",
   "metadata": {},
   "source": [
    "GIVING LARGE CONTEXT AND FINDING ANSWER FROM IT USING LLM"
   ]
  },
  {
   "cell_type": "code",
   "execution_count": 15,
   "metadata": {},
   "outputs": [
    {
     "name": "stdout",
     "output_type": "stream",
     "text": [
      "According to the text, Spain won the 2023 Women's World Cup by defeating England 1-0 in the final.\n"
     ]
    }
   ],
   "source": [
    "context = \"\"\"\n",
    "The 2023 FIFA Women's World Cup was the ninth edition of the FIFA Women's World Cup, the quadrennial international women's\n",
    "football championship contested by women's national teams and organised by FIFA. The tournament, which took place from\n",
    "20 July to 20 August 2023, was jointly hosted by Australia and New Zealand.[2][3][4] It was the first FIFA Women's World Cup\n",
    "with more than one host nation, as well as the first World Cup to be held across multiple confederations, as Australia is in the\n",
    "Asian confederation, while New Zealand is in the Oceanian confederation. It was also the first Women's World Cup to be held\n",
    "in the Southern Hemisphere.[5]\n",
    "This tournament was the first to feature an expanded format of 32 teams from the previous 24, replicating the format used\n",
    "for the men's World Cup from 1998 to 2022.[2] The opening match was won by co-host New Zealand, beating Norway at Eden Park\n",
    "in Auckland on 20 July 2023 and achieving their first Women's World Cup victory.[6]\n",
    "Spain were crowned champions after defeating reigning European champions England 1–0 in the final. It was the first time a\n",
    "European nation had won the Women's World Cup since 2007 and Spain's first title, although their victory was marred by the\n",
    "Rubiales affair. Spain became the second nation to win both the women's and men's World Cup since Germany in the 2003 edition.\n",
    "[10] In addition, they became the first nation to concurrently hold the FIFA women's U-17, U-20, and senior World Cups.[11]\n",
    "Sweden would claim their fourth bronze medal at the Women's World Cup while co-host Australia achieved their best placing yet,\n",
    "finishing fourth.[12] Japanese player Hinata Miyazawa won the Golden Boot scoring five goals throughout the tournament. Spanish\n",
    "player Aitana Bonmatí was voted the tournament's best player, winning the Golden Ball, whilst Bonmatí's teammate Salma\n",
    "Paralluelo was awarded the Young Player Award. England goalkeeper Mary Earps won the Golden Glove, awarded to the best-performing\n",
    "goalkeeper of the tournament.\n",
    "Of the eight teams making their first appearance, Morocco were the only one to advance to the round of 16 (where they lost\n",
    "to France; coincidentally, the result of this fixture was similar to the men's World Cup in Qatar, where France defeated\n",
    "Morocco in the semi-final). The United States were the two-time defending champions,[13] but were eliminated in the round of\n",
    "16 by Sweden, the first time the team had not made the semi-finals at the tournament, and the first time the defending\n",
    "champions failed to progress to the quarter-finals.[14]\n",
    "Australia's team, nicknamed the Matildas, performed better than expected, and the event saw many Australians unite to\n",
    "support them. The Matildas, who beat France to make the semi-finals for the first time, saw record numbers of fans watching\n",
    "their games, their 3–1 loss to England becoming the most watched television broadcast in Australian history, with an average\n",
    "viewership of 7.13 million and a peak viewership of 11.15 million viewers.[18]\n",
    "It was the most attended edition of the competition ever held.\n",
    "\"\"\"\n",
    "\n",
    "prompt = f\"\"\"\n",
    "Given the following context, who won the 2023 Women's World cup?\n",
    "context: {context}\n",
    "\"\"\"\n",
    "\n",
    "\n",
    "conversation = []\n",
    "query=\"Given the following context, who won the 2023 Women's World cup?\"\n",
    "setrule=\"Give the answer to question using Text given below . If you can not find the answer in given text say 'I am sorry. i dont know the answer'\"\n",
    "# First interaction\n",
    "# conversation.append({\"role\": \"user\", \"content\": \"Hello\"})\n",
    "convo=query+'\\n'+context\n",
    "\n",
    "conversation.append({\"role\": \"user\", \"content\": convo})\n",
    "response1 = ollama.chat(model=model, messages=conversation)\n",
    "\n",
    "print(response1['message']['content'])"
   ]
  },
  {
   "cell_type": "markdown",
   "metadata": {},
   "source": [
    "USING LANGCHAIN PROMPT TEMPLATE TO SEND PROMPT TO LLM"
   ]
  },
  {
   "cell_type": "code",
   "execution_count": 14,
   "metadata": {},
   "outputs": [
    {
     "name": "stdout",
     "output_type": "stream",
     "text": [
      "According to the provided context, some of the applications of quantum physics include:\n",
      "\n",
      "* Quantum Mechanics in Particle Physics: understanding the behavior of elementary particles and their interactions\n",
      "* Quantum Mechanics in Astrophysics: explaining various astrophysical phenomena such as the behavior of particles in neutron stars, black holes, and the early universe\n",
      "* Quantum Mechanics in Cosmology: explaining fundamental processes that occurred during the formation of the universe\n",
      "* Quantum Computing: leveraging superposition and entanglement to perform computations that are infeasible for classical computers\n",
      "* Quantum Sensors: utilizing quantum phenomena like superposition and entanglement to achieve extremely high sensitivity and precision, with applications in fields such as geophysics, medical diagnostics, etc.\n",
      "* Quantum Biology: exploring the role of quantum mechanics in biological processes like photosynthesis, enzyme activity, and avian navigation.\n",
      "\n",
      "Note that this is not an exhaustive list, but rather a summary of some of the key applications mentioned in the provided context.\n"
     ]
    }
   ],
   "source": [
    "from langchain_community.chat_models import ChatOllama\n",
    "from langchain_core.prompts import ChatPromptTemplate\n",
    "from langchain_core.output_parsers import StrOutputParser\n",
    "\n",
    "# Assume you have these from your RAG implementation\n",
    "relevant_chunks = [\"chunk1 content\", \"chunk2 content\", \"chunk3 content\"]\n",
    "user_query = \"What are the applications of quantum physics??\"\n",
    "\n",
    "# Create the prompt template\n",
    "prompt_template = \"\"\"Use the following pieces of context to answer the question at the end. If you don't know the answer, just say that you don't know, don't try to make up an answer.\n",
    "\n",
    "Context:\n",
    "{context}\n",
    "\n",
    "Question: {question}\n",
    "Answer:\"\"\"\n",
    "\n",
    "prompt = ChatPromptTemplate.from_template(prompt_template)\n",
    "\n",
    "# Initialize the LLM\n",
    "llm = ChatOllama(model=\"llama3:8b-instruct-q4_K_M\")\n",
    "\n",
    "# Create the chain\n",
    "chain = prompt | llm | StrOutputParser()\n",
    "\n",
    "# Prepare the context\n",
    "# context = \"\\n\\n\".join(similar_chunks)\n",
    "\n",
    "# Invoke the chain\n",
    "response = chain.invoke({\n",
    "    \"context\": result_string,\n",
    "    \"question\": user_query\n",
    "})\n",
    "\n",
    "print(response)"
   ]
  }
 ],
 "metadata": {
  "kernelspec": {
   "display_name": "Python 3",
   "language": "python",
   "name": "python3"
  },
  "language_info": {
   "codemirror_mode": {
    "name": "ipython",
    "version": 3
   },
   "file_extension": ".py",
   "mimetype": "text/x-python",
   "name": "python",
   "nbconvert_exporter": "python",
   "pygments_lexer": "ipython3",
   "version": "3.11.4"
  }
 },
 "nbformat": 4,
 "nbformat_minor": 2
}
