{
 "cells": [
  {
   "cell_type": "code",
   "execution_count": 8,
   "metadata": {},
   "outputs": [
    {
     "name": "stdout",
     "output_type": "stream",
     "text": [
      "Collecting CTransformers\n",
      "  Downloading ctransformers-0.2.27-py3-none-any.whl.metadata (17 kB)\n",
      "Requirement already satisfied: huggingface-hub in c:\\users\\my it store\\appdata\\local\\programs\\python\\python311\\lib\\site-packages (from CTransformers) (0.22.2)\n",
      "Collecting py-cpuinfo<10.0.0,>=9.0.0 (from CTransformers)\n",
      "  Downloading py_cpuinfo-9.0.0-py3-none-any.whl.metadata (794 bytes)\n",
      "Requirement already satisfied: filelock in c:\\users\\my it store\\appdata\\local\\programs\\python\\python311\\lib\\site-packages (from huggingface-hub->CTransformers) (3.13.4)\n",
      "Requirement already satisfied: fsspec>=2023.5.0 in c:\\users\\my it store\\appdata\\local\\programs\\python\\python311\\lib\\site-packages (from huggingface-hub->CTransformers) (2024.3.1)\n",
      "Requirement already satisfied: packaging>=20.9 in c:\\users\\my it store\\appdata\\local\\programs\\python\\python311\\lib\\site-packages (from huggingface-hub->CTransformers) (24.1)\n",
      "Requirement already satisfied: pyyaml>=5.1 in c:\\users\\my it store\\appdata\\local\\programs\\python\\python311\\lib\\site-packages (from huggingface-hub->CTransformers) (6.0.1)\n",
      "Requirement already satisfied: requests in c:\\users\\my it store\\appdata\\local\\programs\\python\\python311\\lib\\site-packages (from huggingface-hub->CTransformers) (2.32.3)\n",
      "Requirement already satisfied: tqdm>=4.42.1 in c:\\users\\my it store\\appdata\\local\\programs\\python\\python311\\lib\\site-packages (from huggingface-hub->CTransformers) (4.66.4)\n",
      "Requirement already satisfied: typing-extensions>=3.7.4.3 in c:\\users\\my it store\\appdata\\local\\programs\\python\\python311\\lib\\site-packages (from huggingface-hub->CTransformers) (4.8.0)\n",
      "Requirement already satisfied: colorama in c:\\users\\my it store\\appdata\\local\\programs\\python\\python311\\lib\\site-packages (from tqdm>=4.42.1->huggingface-hub->CTransformers) (0.4.6)\n",
      "Requirement already satisfied: charset-normalizer<4,>=2 in c:\\users\\my it store\\appdata\\local\\programs\\python\\python311\\lib\\site-packages (from requests->huggingface-hub->CTransformers) (3.3.2)\n",
      "Requirement already satisfied: idna<4,>=2.5 in c:\\users\\my it store\\appdata\\local\\programs\\python\\python311\\lib\\site-packages (from requests->huggingface-hub->CTransformers) (3.4)\n",
      "Requirement already satisfied: urllib3<3,>=1.21.1 in c:\\users\\my it store\\appdata\\local\\programs\\python\\python311\\lib\\site-packages (from requests->huggingface-hub->CTransformers) (2.1.0)\n",
      "Requirement already satisfied: certifi>=2017.4.17 in c:\\users\\my it store\\appdata\\local\\programs\\python\\python311\\lib\\site-packages (from requests->huggingface-hub->CTransformers) (2023.7.22)\n",
      "Downloading ctransformers-0.2.27-py3-none-any.whl (9.9 MB)\n",
      "   ---------------------------------------- 0.0/9.9 MB ? eta -:--:--\n",
      "   ---------------------------------------- 0.0/9.9 MB 991.0 kB/s eta 0:00:10\n",
      "    --------------------------------------- 0.2/9.9 MB 2.5 MB/s eta 0:00:04\n",
      "   -- ------------------------------------- 0.6/9.9 MB 4.1 MB/s eta 0:00:03\n",
      "   ----- ---------------------------------- 1.3/9.9 MB 6.7 MB/s eta 0:00:02\n",
      "   ------- -------------------------------- 1.7/9.9 MB 7.9 MB/s eta 0:00:02\n",
      "   --------- ------------------------------ 2.3/9.9 MB 8.7 MB/s eta 0:00:01\n",
      "   ----------- ---------------------------- 2.7/9.9 MB 8.7 MB/s eta 0:00:01\n",
      "   ------------- -------------------------- 3.3/9.9 MB 9.6 MB/s eta 0:00:01\n",
      "   --------------- ------------------------ 3.8/9.9 MB 9.6 MB/s eta 0:00:01\n",
      "   ---------------- ----------------------- 4.0/9.9 MB 9.9 MB/s eta 0:00:01\n",
      "   ---------------- ----------------------- 4.0/9.9 MB 9.9 MB/s eta 0:00:01\n",
      "   ---------------- ----------------------- 4.0/9.9 MB 9.9 MB/s eta 0:00:01\n",
      "   -------------------- ------------------- 5.1/9.9 MB 8.8 MB/s eta 0:00:01\n",
      "   ------------------------- -------------- 6.2/9.9 MB 10.0 MB/s eta 0:00:01\n",
      "   ------------------------- -------------- 6.3/9.9 MB 9.4 MB/s eta 0:00:01\n",
      "   ------------------------- -------------- 6.3/9.9 MB 9.4 MB/s eta 0:00:01\n",
      "   --------------------------- ------------ 6.8/9.9 MB 8.5 MB/s eta 0:00:01\n",
      "   ---------------------------------- ----- 8.6/9.9 MB 10.2 MB/s eta 0:00:01\n",
      "   ------------------------------------- -- 9.2/9.9 MB 10.5 MB/s eta 0:00:01\n",
      "   ---------------------------------------  9.8/9.9 MB 10.4 MB/s eta 0:00:01\n",
      "   ---------------------------------------- 9.9/9.9 MB 10.2 MB/s eta 0:00:00\n",
      "Downloading py_cpuinfo-9.0.0-py3-none-any.whl (22 kB)\n",
      "Installing collected packages: py-cpuinfo, CTransformers\n",
      "Successfully installed CTransformers-0.2.27 py-cpuinfo-9.0.0\n",
      "Note: you may need to restart the kernel to use updated packages.\n"
     ]
    }
   ],
   "source": [
    "pip install CTransformers"
   ]
  },
  {
   "cell_type": "code",
   "execution_count": 3,
   "metadata": {},
   "outputs": [],
   "source": [
    "import os\n",
    "from langchain.llms import CTransformers\n",
    "from langchain.callbacks.streaming_stdout import StreamingStdOutCallbackHandler\n",
    "from langchain.chains import ConversationChain\n",
    "from langchain.chains.conversation.memory import ConversationBufferMemory"
   ]
  },
  {
   "cell_type": "code",
   "execution_count": 4,
   "metadata": {},
   "outputs": [],
   "source": [
    "model_id=\"TheBloke/Mistral-7B-codealpaca-lora-GGUF\""
   ]
  },
  {
   "cell_type": "code",
   "execution_count": 5,
   "metadata": {},
   "outputs": [],
   "source": [
    "config= { 'temperature':0.00, 'context_length':4000,}"
   ]
  },
  {
   "cell_type": "code",
   "execution_count": 10,
   "metadata": {},
   "outputs": [
    {
     "data": {
      "application/vnd.jupyter.widget-view+json": {
       "model_id": "e0deeaf1157c47a0a3600dbbc1b84c41",
       "version_major": 2,
       "version_minor": 0
      },
      "text/plain": [
       "Fetching 1 files:   0%|          | 0/1 [00:00<?, ?it/s]"
      ]
     },
     "metadata": {},
     "output_type": "display_data"
    },
    {
     "data": {
      "application/vnd.jupyter.widget-view+json": {
       "model_id": "83db586acd4d4fef9977181464622ecd",
       "version_major": 2,
       "version_minor": 0
      },
      "text/plain": [
       "Fetching 1 files:   0%|          | 0/1 [00:00<?, ?it/s]"
      ]
     },
     "metadata": {},
     "output_type": "display_data"
    }
   ],
   "source": [
    "llm=CTransformers(model=model_id, model_type='mistral', config=config, callbacks=[StreamingStdOutCallbackHandler()])"
   ]
  },
  {
   "cell_type": "code",
   "execution_count": 11,
   "metadata": {},
   "outputs": [],
   "source": [
    "llm=(\"tell me a story about ROMAN EMPIRE\")"
   ]
  }
 ],
 "metadata": {
  "kernelspec": {
   "display_name": "Python 3",
   "language": "python",
   "name": "python3"
  },
  "language_info": {
   "codemirror_mode": {
    "name": "ipython",
    "version": 3
   },
   "file_extension": ".py",
   "mimetype": "text/x-python",
   "name": "python",
   "nbconvert_exporter": "python",
   "pygments_lexer": "ipython3",
   "version": "3.11.4"
  }
 },
 "nbformat": 4,
 "nbformat_minor": 2
}
