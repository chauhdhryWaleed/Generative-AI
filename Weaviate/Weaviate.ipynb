{
 "cells": [
  {
   "cell_type": "markdown",
   "metadata": {},
   "source": [
    "## This note book contains the info about inserting, searching data in weaviate"
   ]
  },
  {
   "cell_type": "code",
   "execution_count": 3,
   "metadata": {},
   "outputs": [
    {
     "name": "stdout",
     "output_type": "stream",
     "text": [
      "Number of embeddings: 5\n",
      "[{'text': 'This is the first chunk of the document.', 'filename': 'sample_document.pdf', 'file_id': '12345', 'user_id': 'user_001', 'file_type': 'pdf', 'created_at': '2025-03-03T12:00:00Z', 'modified_at': '2025-03-03T14:30:00Z'}, {'text': 'Second chunk contains some additional data.', 'filename': 'sample_document.pdf', 'file_id': '12345', 'user_id': 'user_001', 'file_type': 'pdf', 'created_at': '2025-03-03T12:00:00Z', 'modified_at': '2025-03-03T14:30:00Z'}, {'text': 'Third chunk has more text.', 'filename': 'sample_document.pdf', 'file_id': '12345', 'user_id': 'user_001', 'file_type': 'pdf', 'created_at': '2025-03-03T12:00:00Z', 'modified_at': '2025-03-03T14:30:00Z'}, {'text': 'Fourth chunk is here.', 'filename': 'sample_document.pdf', 'file_id': '12345', 'user_id': 'user_001', 'file_type': 'pdf', 'created_at': '2025-03-03T12:00:00Z', 'modified_at': '2025-03-03T14:30:00Z'}, {'text': 'Fifth chunk concludes the document.', 'filename': 'sample_document.pdf', 'file_id': '12345', 'user_id': 'user_001', 'file_type': 'pdf', 'created_at': '2025-03-03T12:00:00Z', 'modified_at': '2025-03-03T14:30:00Z'}]\n"
     ]
    }
   ],
   "source": [
    "from weaviate.classes.config import Configure, VectorDistances\n",
    "from weaviate.classes.query import Filter\n",
    "import weaviate\n",
    "import weaviate.classes as wvc\n",
    "from langchain_community.embeddings.fastembed import FastEmbedEmbeddings\n",
    "embed_model = FastEmbedEmbeddings(model_name=\"BAAI/bge-base-en-v1.5\")\n",
    "\n",
    "# Connect to Weaviate\n",
    "client = weaviate.connect_to_local()  # Change this if connecting to a remote instance\n",
    "\n",
    "\n",
    "\n",
    "metadata = {\n",
    "    \"file_id\": \"12345\",\n",
    "    \"user_id\": \"user_001\",\n",
    "    \"file_type\": \"pdf\",\n",
    "    \"created_at\": \"2025-03-03T12:00:00Z\",\n",
    "    \"modified_at\": \"2025-03-03T14:30:00Z\"\n",
    "}\n",
    "\n",
    "chunks = [\n",
    "    \"This is the first chunk of the document.\",\n",
    "    \"Second chunk contains some additional data.\",\n",
    "    \"Third chunk has more text.\",\n",
    "    \"Fourth chunk is here.\",\n",
    "    \"Fifth chunk concludes the document.\"\n",
    "]\n",
    "embeddings = embed_model.embed_documents(chunks)\n",
    "filename = \"sample_document.pdf\"\n",
    "# Print some information about the embeddings\n",
    "print(f\"Number of embeddings: {len(embeddings)}\")\n",
    "# Generate the payloads\n",
    "payloads = []\n",
    "\n",
    "if metadata[\"file_id\"] is None:\n",
    "    metadata[\"file_id\"] = \"None\"\n",
    "\n",
    "for i, chunk in enumerate(chunks):\n",
    "    payload = {\n",
    "        \"text\": chunk,\n",
    "        \"filename\": filename,\n",
    "        \"file_id\": metadata[\"file_id\"],\n",
    "        \"user_id\": metadata[\"user_id\"],\n",
    "        \"file_type\": metadata[\"file_type\"],\n",
    "        \"created_at\": metadata[\"created_at\"],\n",
    "        \"modified_at\": metadata[\"modified_at\"]\n",
    "    }\n",
    "    payloads.append(payload)\n",
    "\n",
    "print(payloads)  # This will print the payloads before inserting into the database.\n",
    "\n",
    "client.collections.create(\n",
    "    \"data\",\n",
    "    vectorizer_config=wvc.config.Configure.Vectorizer.none()\n",
    ")\n",
    "\n",
    "collection = client.collections.get(\"data\")\n",
    "i=0\n",
    "\n",
    "with collection.batch.dynamic() as batch:\n",
    "    for data_row in payloads:\n",
    "        batch.add_object(\n",
    "            properties=data_row,\n",
    "            vector=embeddings[i]\n",
    "        ),\n",
    "        \n",
    "        i+=1\n",
    "        if batch.number_errors > 10:\n",
    "            print(\"Batch import stopped due to excessive errors.\")\n",
    "            break\n",
    "\n",
    "failed_objects = collection.batch.failed_objects\n",
    "if failed_objects:\n",
    "    print(f\"Number of failed imports: {len(failed_objects)}\")\n",
    "    print(f\"First failed object: {failed_objects[0]}\")"
   ]
  },
  {
   "cell_type": "code",
   "execution_count": 4,
   "metadata": {},
   "outputs": [
    {
     "name": "stdout",
     "output_type": "stream",
     "text": [
      "QueryReturn(objects=[Object(uuid=_WeaviateUUIDInt('63a3ae4e-63c7-4b2c-b190-1884889b23dd'), metadata=MetadataReturn(creation_time=None, last_update_time=None, distance=0.17967021465301514, certainty=None, score=None, explain_score=None, is_consistent=None, rerank_score=None), properties={'file_id': '12345', 'created_at': datetime.datetime(2025, 3, 3, 12, 0, tzinfo=datetime.timezone.utc), 'file_type': 'pdf', 'text': 'Second chunk contains some additional data.', 'user_id': 'user_001', 'filename': 'sample_document.pdf', 'modified_at': datetime.datetime(2025, 3, 3, 14, 30, tzinfo=datetime.timezone.utc)}, references=None, vector={}, collection='Data'), Object(uuid=_WeaviateUUIDInt('14a43c0c-7b93-4cd7-8796-59d05dce74a8'), metadata=MetadataReturn(creation_time=None, last_update_time=None, distance=0.28102248907089233, certainty=None, score=None, explain_score=None, is_consistent=None, rerank_score=None), properties={'file_id': '12345', 'created_at': datetime.datetime(2025, 3, 3, 12, 0, tzinfo=datetime.timezone.utc), 'file_type': 'pdf', 'text': 'Third chunk has more text.', 'user_id': 'user_001', 'filename': 'sample_document.pdf', 'modified_at': datetime.datetime(2025, 3, 3, 14, 30, tzinfo=datetime.timezone.utc)}, references=None, vector={}, collection='Data'), Object(uuid=_WeaviateUUIDInt('700df80c-3f2e-404e-8b08-a796e5b69bdf'), metadata=MetadataReturn(creation_time=None, last_update_time=None, distance=0.3000873923301697, certainty=None, score=None, explain_score=None, is_consistent=None, rerank_score=None), properties={'file_id': '12345', 'created_at': datetime.datetime(2025, 3, 3, 12, 0, tzinfo=datetime.timezone.utc), 'file_type': 'pdf', 'text': 'This is the first chunk of the document.', 'user_id': 'user_001', 'filename': 'sample_document.pdf', 'modified_at': datetime.datetime(2025, 3, 3, 14, 30, tzinfo=datetime.timezone.utc)}, references=None, vector={}, collection='Data'), Object(uuid=_WeaviateUUIDInt('bc34ddd0-da52-4a3f-996e-bea483e537fc'), metadata=MetadataReturn(creation_time=None, last_update_time=None, distance=0.31509268283843994, certainty=None, score=None, explain_score=None, is_consistent=None, rerank_score=None), properties={'file_id': '12345', 'created_at': datetime.datetime(2025, 3, 3, 12, 0, tzinfo=datetime.timezone.utc), 'file_type': 'pdf', 'text': 'Fourth chunk is here.', 'user_id': 'user_001', 'filename': 'sample_document.pdf', 'modified_at': datetime.datetime(2025, 3, 3, 14, 30, tzinfo=datetime.timezone.utc)}, references=None, vector={}, collection='Data')])\n",
      "{'file_id': '12345', 'created_at': datetime.datetime(2025, 3, 3, 12, 0, tzinfo=datetime.timezone.utc), 'file_type': 'pdf', 'text': 'Second chunk contains some additional data.', 'user_id': 'user_001', 'filename': 'sample_document.pdf', 'modified_at': datetime.datetime(2025, 3, 3, 14, 30, tzinfo=datetime.timezone.utc)}\n",
      "0.17967021465301514\n",
      "{'file_id': '12345', 'created_at': datetime.datetime(2025, 3, 3, 12, 0, tzinfo=datetime.timezone.utc), 'file_type': 'pdf', 'text': 'Third chunk has more text.', 'user_id': 'user_001', 'filename': 'sample_document.pdf', 'modified_at': datetime.datetime(2025, 3, 3, 14, 30, tzinfo=datetime.timezone.utc)}\n",
      "0.28102248907089233\n",
      "{'file_id': '12345', 'created_at': datetime.datetime(2025, 3, 3, 12, 0, tzinfo=datetime.timezone.utc), 'file_type': 'pdf', 'text': 'This is the first chunk of the document.', 'user_id': 'user_001', 'filename': 'sample_document.pdf', 'modified_at': datetime.datetime(2025, 3, 3, 14, 30, tzinfo=datetime.timezone.utc)}\n",
      "0.3000873923301697\n",
      "{'file_id': '12345', 'created_at': datetime.datetime(2025, 3, 3, 12, 0, tzinfo=datetime.timezone.utc), 'file_type': 'pdf', 'text': 'Fourth chunk is here.', 'user_id': 'user_001', 'filename': 'sample_document.pdf', 'modified_at': datetime.datetime(2025, 3, 3, 14, 30, tzinfo=datetime.timezone.utc)}\n",
      "0.31509268283843994\n"
     ]
    }
   ],
   "source": [
    "from weaviate.classes.query import MetadataQuery\n",
    "\n",
    "single_text = \"What is present in first and second chunks\"\n",
    "query_vector= embed_model.embed_query(single_text)\n",
    "\n",
    "jeopardy = client.collections.get(\"data\")\n",
    "response = jeopardy.query.near_vector(\n",
    "    near_vector=query_vector, # your query vector goes here\n",
    "    limit=4,\n",
    "    return_metadata=MetadataQuery(distance=True)\n",
    ")\n",
    "print(response)\n",
    "for o in response.objects:\n",
    "    print(o.properties)\n",
    "    print(o.metadata.distance)"
   ]
  },
  {
   "cell_type": "code",
   "execution_count": null,
   "metadata": {},
   "outputs": [],
   "source": [
    "client.collections.delete(\"data\")"
   ]
  },
  {
   "cell_type": "markdown",
   "metadata": {},
   "source": [
    "## By default weaviate says it calculates cosine similairty but in fact it gives us cosine distance"
   ]
  },
  {
   "cell_type": "code",
   "execution_count": 5,
   "metadata": {},
   "outputs": [
    {
     "data": {
      "text/plain": [
       "<weaviate.collections.collection.sync.Collection at 0x1b93c64fb60>"
      ]
     },
     "execution_count": 5,
     "metadata": {},
     "output_type": "execute_result"
    }
   ],
   "source": [
    "from weaviate.classes.config import Configure, VectorDistances\n",
    "\n",
    "client.collections.create(\n",
    "    \"Article\",\n",
    "    vector_index_config=Configure.VectorIndex.hnsw(\n",
    "        distance_metric=VectorDistances.COSINE\n",
    "    ),\n",
    ")"
   ]
  },
  {
   "cell_type": "code",
   "execution_count": 6,
   "metadata": {},
   "outputs": [
    {
     "name": "stdout",
     "output_type": "stream",
     "text": [
      "Number of embeddings: 5\n",
      "[{'text': 'This is the first chunk of the document.', 'filename': 'sample_document.pdf', 'file_id': '12345', 'user_id': 'user_001', 'file_type': 'pdf', 'created_at': '2025-03-03T12:00:00Z', 'modified_at': '2025-03-03T14:30:00Z'}, {'text': 'Second chunk contains some additional data.', 'filename': 'sample_document.pdf', 'file_id': '12345', 'user_id': 'user_001', 'file_type': 'pdf', 'created_at': '2025-03-03T12:00:00Z', 'modified_at': '2025-03-03T14:30:00Z'}, {'text': 'Third chunk has more text.', 'filename': 'sample_document.pdf', 'file_id': '12345', 'user_id': 'user_001', 'file_type': 'pdf', 'created_at': '2025-03-03T12:00:00Z', 'modified_at': '2025-03-03T14:30:00Z'}, {'text': 'Fourth chunk is here.', 'filename': 'sample_document.pdf', 'file_id': '12345', 'user_id': 'user_001', 'file_type': 'pdf', 'created_at': '2025-03-03T12:00:00Z', 'modified_at': '2025-03-03T14:30:00Z'}, {'text': 'Fifth chunk concludes the document.', 'filename': 'sample_document.pdf', 'file_id': '12345', 'user_id': 'user_001', 'file_type': 'pdf', 'created_at': '2025-03-03T12:00:00Z', 'modified_at': '2025-03-03T14:30:00Z'}]\n"
     ]
    }
   ],
   "source": [
    "from weaviate.classes.config import Configure, VectorDistances\n",
    "from weaviate.classes.query import Filter\n",
    "import weaviate\n",
    "import weaviate.classes as wvc\n",
    "from langchain_community.embeddings.fastembed import FastEmbedEmbeddings\n",
    "embed_model = FastEmbedEmbeddings(model_name=\"BAAI/bge-base-en-v1.5\")\n",
    "\n",
    "# Connect to Weaviate\n",
    "client = weaviate.connect_to_local()  # Change this if connecting to a remote instance\n",
    "\n",
    "\n",
    "\n",
    "metadata = {\n",
    "    \"file_id\": \"12345\",\n",
    "    \"user_id\": \"user_001\",\n",
    "    \"file_type\": \"pdf\",\n",
    "    \"created_at\": \"2025-03-03T12:00:00Z\",\n",
    "    \"modified_at\": \"2025-03-03T14:30:00Z\"\n",
    "}\n",
    "\n",
    "chunks = [\n",
    "    \"This is the first chunk of the document.\",\n",
    "    \"Second chunk contains some additional data.\",\n",
    "    \"Third chunk has more text.\",\n",
    "    \"Fourth chunk is here.\",\n",
    "    \"Fifth chunk concludes the document.\"\n",
    "]\n",
    "embeddings = embed_model.embed_documents(chunks)\n",
    "filename = \"sample_document.pdf\"\n",
    "# Print some information about the embeddings\n",
    "print(f\"Number of embeddings: {len(embeddings)}\")\n",
    "# Generate the payloads\n",
    "payloads = []\n",
    "\n",
    "if metadata[\"file_id\"] is None:\n",
    "    metadata[\"file_id\"] = \"None\"\n",
    "\n",
    "for i, chunk in enumerate(chunks):\n",
    "    payload = {\n",
    "        \"text\": chunk,\n",
    "        \"filename\": filename,\n",
    "        \"file_id\": metadata[\"file_id\"],\n",
    "        \"user_id\": metadata[\"user_id\"],\n",
    "        \"file_type\": metadata[\"file_type\"],\n",
    "        \"created_at\": metadata[\"created_at\"],\n",
    "        \"modified_at\": metadata[\"modified_at\"]\n",
    "    }\n",
    "    payloads.append(payload)\n",
    "\n",
    "print(payloads)  # This will print the payloads before inserting into the database.\n",
    "\n",
    "\n",
    "collection = client.collections.get(\"Article\")\n",
    "i=0\n",
    "\n",
    "with collection.batch.dynamic() as batch:\n",
    "    for data_row in payloads:\n",
    "        batch.add_object(\n",
    "            properties=data_row,\n",
    "            vector=embeddings[i]\n",
    "        ),\n",
    "        \n",
    "        i+=1\n",
    "        if batch.number_errors > 10:\n",
    "            print(\"Batch import stopped due to excessive errors.\")\n",
    "            break\n",
    "\n",
    "failed_objects = collection.batch.failed_objects\n",
    "if failed_objects:\n",
    "    print(f\"Number of failed imports: {len(failed_objects)}\")\n",
    "    print(f\"First failed object: {failed_objects[0]}\")"
   ]
  },
  {
   "cell_type": "code",
   "execution_count": 8,
   "metadata": {},
   "outputs": [
    {
     "name": "stdout",
     "output_type": "stream",
     "text": [
      "QueryReturn(objects=[Object(uuid=_WeaviateUUIDInt('76fdd887-c7df-48a2-85cd-d689fe76f56c'), metadata=MetadataReturn(creation_time=None, last_update_time=None, distance=0.014779925346374512, certainty=None, score=None, explain_score=None, is_consistent=None, rerank_score=None), properties={'text': 'This is the first chunk of the document.', 'file_id': '12345', 'file_type': 'pdf', 'created_at': datetime.datetime(2025, 3, 3, 12, 0, tzinfo=datetime.timezone.utc), 'user_id': 'user_001', 'filename': 'sample_document.pdf', 'modified_at': datetime.datetime(2025, 3, 3, 14, 30, tzinfo=datetime.timezone.utc)}, references=None, vector={}, collection='Article'), Object(uuid=_WeaviateUUIDInt('c326e7d1-cdf6-40df-88f7-c5fc07fea9d4'), metadata=MetadataReturn(creation_time=None, last_update_time=None, distance=0.27406060695648193, certainty=None, score=None, explain_score=None, is_consistent=None, rerank_score=None), properties={'text': 'Third chunk has more text.', 'file_id': '12345', 'file_type': 'pdf', 'created_at': datetime.datetime(2025, 3, 3, 12, 0, tzinfo=datetime.timezone.utc), 'user_id': 'user_001', 'filename': 'sample_document.pdf', 'modified_at': datetime.datetime(2025, 3, 3, 14, 30, tzinfo=datetime.timezone.utc)}, references=None, vector={}, collection='Article'), Object(uuid=_WeaviateUUIDInt('12dd542e-0711-47e1-9527-b6a90d4e4317'), metadata=MetadataReturn(creation_time=None, last_update_time=None, distance=0.2905846834182739, certainty=None, score=None, explain_score=None, is_consistent=None, rerank_score=None), properties={'text': 'Fifth chunk concludes the document.', 'file_id': '12345', 'file_type': 'pdf', 'created_at': datetime.datetime(2025, 3, 3, 12, 0, tzinfo=datetime.timezone.utc), 'user_id': 'user_001', 'filename': 'sample_document.pdf', 'modified_at': datetime.datetime(2025, 3, 3, 14, 30, tzinfo=datetime.timezone.utc)}, references=None, vector={}, collection='Article'), Object(uuid=_WeaviateUUIDInt('2d56830d-fbf6-4035-8e0b-4d91ec95f18c'), metadata=MetadataReturn(creation_time=None, last_update_time=None, distance=0.29550331830978394, certainty=None, score=None, explain_score=None, is_consistent=None, rerank_score=None), properties={'created_at': datetime.datetime(2025, 3, 3, 12, 0, tzinfo=datetime.timezone.utc), 'text': 'Second chunk contains some additional data.', 'file_type': 'pdf', 'file_id': '12345', 'user_id': 'user_001', 'filename': 'sample_document.pdf', 'modified_at': datetime.datetime(2025, 3, 3, 14, 30, tzinfo=datetime.timezone.utc)}, references=None, vector={}, collection='Article')])\n",
      "{'text': 'This is the first chunk of the document.', 'file_id': '12345', 'file_type': 'pdf', 'created_at': datetime.datetime(2025, 3, 3, 12, 0, tzinfo=datetime.timezone.utc), 'user_id': 'user_001', 'filename': 'sample_document.pdf', 'modified_at': datetime.datetime(2025, 3, 3, 14, 30, tzinfo=datetime.timezone.utc)}\n",
      "0.014779925346374512\n",
      "{'text': 'Third chunk has more text.', 'file_id': '12345', 'file_type': 'pdf', 'created_at': datetime.datetime(2025, 3, 3, 12, 0, tzinfo=datetime.timezone.utc), 'user_id': 'user_001', 'filename': 'sample_document.pdf', 'modified_at': datetime.datetime(2025, 3, 3, 14, 30, tzinfo=datetime.timezone.utc)}\n",
      "0.27406060695648193\n",
      "{'text': 'Fifth chunk concludes the document.', 'file_id': '12345', 'file_type': 'pdf', 'created_at': datetime.datetime(2025, 3, 3, 12, 0, tzinfo=datetime.timezone.utc), 'user_id': 'user_001', 'filename': 'sample_document.pdf', 'modified_at': datetime.datetime(2025, 3, 3, 14, 30, tzinfo=datetime.timezone.utc)}\n",
      "0.2905846834182739\n",
      "{'created_at': datetime.datetime(2025, 3, 3, 12, 0, tzinfo=datetime.timezone.utc), 'text': 'Second chunk contains some additional data.', 'file_type': 'pdf', 'file_id': '12345', 'user_id': 'user_001', 'filename': 'sample_document.pdf', 'modified_at': datetime.datetime(2025, 3, 3, 14, 30, tzinfo=datetime.timezone.utc)}\n",
      "0.29550331830978394\n"
     ]
    }
   ],
   "source": [
    "from weaviate.classes.query import MetadataQuery\n",
    "\n",
    "single_text = \"This is the first chunk of the document\"\n",
    "query_vector= embed_model.embed_query(single_text)\n",
    "\n",
    "jeopardy = client.collections.get(\"Article\")\n",
    "response = jeopardy.query.near_vector(\n",
    "    near_vector=query_vector, # your query vector goes here\n",
    "    limit=4,\n",
    "    return_metadata=MetadataQuery(distance=True)\n",
    ")\n",
    "print(response)\n",
    "for o in response.objects:\n",
    "    print(o.properties)\n",
    "    print(o.metadata.distance)"
   ]
  }
 ],
 "metadata": {
  "kernelspec": {
   "display_name": "my_env_name",
   "language": "python",
   "name": "python3"
  },
  "language_info": {
   "codemirror_mode": {
    "name": "ipython",
    "version": 3
   },
   "file_extension": ".py",
   "mimetype": "text/x-python",
   "name": "python",
   "nbconvert_exporter": "python",
   "pygments_lexer": "ipython3",
   "version": "3.12.3"
  }
 },
 "nbformat": 4,
 "nbformat_minor": 2
}
